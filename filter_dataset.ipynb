{
 "cells": [
  {
   "cell_type": "code",
   "execution_count": 35,
   "id": "94daff48-7e02-4963-a46b-67d003ffc2cb",
   "metadata": {},
   "outputs": [],
   "source": [
    "import numpy as np\n",
    "import pandas as pd\n",
    "from divik._matlab_legacy import find_thresholds\n",
    "import matplotlib.pyplot as plt\n",
    "import seaborn as sns"
   ]
  },
  {
   "cell_type": "code",
   "execution_count": 18,
   "id": "8eaf6627-fc0c-4c29-aac8-e9166498cf31",
   "metadata": {},
   "outputs": [],
   "source": [
    "data = pd.read_csv(\"data.csv\", index_col=0)"
   ]
  },
  {
   "cell_type": "code",
   "execution_count": 19,
   "id": "17f4e03c-690d-48d7-8248-b8f38d24d377",
   "metadata": {},
   "outputs": [
    {
     "data": {
      "text/plain": [
       "(33694, 3222)"
      ]
     },
     "execution_count": 19,
     "metadata": {},
     "output_type": "execute_result"
    }
   ],
   "source": [
    "data.shape"
   ]
  },
  {
   "cell_type": "code",
   "execution_count": 20,
   "id": "af378a0a-52b4-43ea-b2d7-4216498b8202",
   "metadata": {},
   "outputs": [
    {
     "data": {
      "text/plain": [
       "[]"
      ]
     },
     "execution_count": 20,
     "metadata": {},
     "output_type": "execute_result"
    }
   ],
   "source": [
    "data.columns[data.isna().any()].tolist()"
   ]
  },
  {
   "cell_type": "code",
   "execution_count": 40,
   "id": "8090a1e8-544e-4fbf-82ab-50e254a273ae",
   "metadata": {},
   "outputs": [],
   "source": [
    "x = np.count_nonzero(data, axis=1)\n",
    "x = np.log(x+np.full(x.shape,1))"
   ]
  },
  {
   "cell_type": "code",
   "execution_count": 42,
   "id": "2d970452-5c4b-4626-8e9b-bc960f649752",
   "metadata": {},
   "outputs": [
    {
     "name": "stderr",
     "output_type": "stream",
     "text": [
      "/opt/conda/lib/python3.8/site-packages/seaborn/distributions.py:2619: FutureWarning: `distplot` is a deprecated function and will be removed in a future version. Please adapt your code to use either `displot` (a figure-level function with similar flexibility) or `histplot` (an axes-level function for histograms).\n",
      "  warnings.warn(msg, FutureWarning)\n"
     ]
    },
    {
     "data": {
      "text/plain": [
       "<AxesSubplot:ylabel='Density'>"
      ]
     },
     "execution_count": 42,
     "metadata": {},
     "output_type": "execute_result"
    },
    {
     "data": {
      "image/png": "[encoded data removed]",
      "text/plain": [
       "<Figure size 432x288 with 1 Axes>"
      ]
     },
     "metadata": {
      "needs_background": "light"
     },
     "output_type": "display_data"
    }
   ],
   "source": [
    "sns.distplot(x)"
   ]
  },
  {
   "cell_type": "code",
   "execution_count": 43,
   "id": "6d6c966d-fe68-4fc0-b953-d58bcdbb0eed",
   "metadata": {},
   "outputs": [
    {
     "data": {
      "text/plain": [
       "array([4.99209389e-03, 7.02826950e-01, 1.11058349e+00, 1.39961916e+00,\n",
       "       1.62376517e+00, 1.80585203e+00, 2.38739252e+00, 3.27126684e+00,\n",
       "       7.89715933e+00])"
      ]
     },
     "execution_count": 43,
     "metadata": {},
     "output_type": "execute_result"
    }
   ],
   "source": [
    "find_thresholds(x, max_components=10)"
   ]
  },
  {
   "cell_type": "code",
   "execution_count": 47,
   "id": "a77fcb16-bb88-45c0-8a10-5e1c5c9950c9",
   "metadata": {},
   "outputs": [],
   "source": [
    "thr = 1.6"
   ]
  },
  {
   "cell_type": "code",
   "execution_count": 49,
   "id": "42172aff-ff8f-42c2-8b62-9ed030278a00",
   "metadata": {},
   "outputs": [],
   "source": [
    "is_in_filtered = x > thr"
   ]
  },
  {
   "cell_type": "code",
   "execution_count": 52,
   "id": "1cda7cfc-8ae1-40ec-b3a4-5eb9bad361a2",
   "metadata": {},
   "outputs": [],
   "source": [
    "filtered = data[is_in_filtered]"
   ]
  },
  {
   "cell_type": "code",
   "execution_count": 53,
   "id": "7e79e465-0d64-49d8-9c2d-8ff6f425a471",
   "metadata": {},
   "outputs": [
    {
     "data": {
      "text/plain": [
       "(15821, 3222)"
      ]
     },
     "execution_count": 53,
     "metadata": {},
     "output_type": "execute_result"
    }
   ],
   "source": [
    "filtered.shape"
   ]
  },
  {
   "cell_type": "code",
   "execution_count": 59,
   "id": "2aca90e1-2f77-4b99-84be-d7958c209a26",
   "metadata": {},
   "outputs": [],
   "source": [
    "filtered = pd.DataFrame(filtered)\n",
    "filtered.to_csv(\"filtered_pbmc.csv\")"
   ]
  }
 ],
 "metadata": {
  "kernelspec": {
   "display_name": "enrichment-auc",
   "language": "python",
   "name": "enrichment-auc"
  },
  "language_info": {
   "codemirror_mode": {
    "name": "ipython",
    "version": 3
   },
   "file_extension": ".py",
   "mimetype": "text/x-python",
   "name": "python",
   "nbconvert_exporter": "python",
   "pygments_lexer": "ipython3",
   "version": "3.8.12"
  }
 },
 "nbformat": 4,
 "nbformat_minor": 5
}
