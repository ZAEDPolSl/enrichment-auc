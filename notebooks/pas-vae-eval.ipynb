{
 "cells": [
  {
   "cell_type": "code",
   "execution_count": 1,
   "id": "bd965a6d-9d15-4878-a46d-028cb5a3c507",
   "metadata": {
    "tags": []
   },
   "outputs": [],
   "source": [
    "import os\n",
    "import pandas as pd\n",
    "import numpy as np\n",
    "import plotly.express as px\n",
    "from sklearn.metrics import silhouette_score\n",
    "import scipy.stats as st "
   ]
  },
  {
   "cell_type": "code",
   "execution_count": 2,
   "id": "d2c053dc-a4e4-4d25-842c-fc883a78be70",
   "metadata": {},
   "outputs": [],
   "source": [
    "res_path = \"/mnt/pmanas/Ania/scrna-seq/results/\""
   ]
  },
  {
   "cell_type": "code",
   "execution_count": 3,
   "id": "0e572aef-7c7a-4019-998f-a551d02248ac",
   "metadata": {},
   "outputs": [],
   "source": [
    "datasets = [\"BM\", \"COVID\", \"Liver\", \"PBMC\"]"
   ]
  },
  {
   "cell_type": "code",
   "execution_count": null,
   "id": "cd183220-8372-41f7-9c6b-ecaf63ed6813",
   "metadata": {},
   "outputs": [],
   "source": [
    "for dataset in datasets:\n",
    "    true_labels = pd.read_csv(os.path.join(\"/mnt/pmanas/Ania/scrna-seq/data/\", dataset, \"true_labels.csv\"), index_col=0)\n",
    "    chosen_pathways = pd.read_csv(os.path.join(\"/mnt/pmanas/Ania/scrna-seq/data/\", dataset, \"chosen_genesets.csv\"), index_col=0)\n",
    "    labels = np.array(true_labels.CellType).T\n",
    "    vae_pas = res_path + dataset + \"/pas_vae/\"\n",
    "    vae_opts = [vae_pas + folder for folder in os.listdir(vae_pas) if os.path.isdir(vae_pas + folder)]\n",
    "    layer_params = {}\n",
    "    uncorr_files = {}\n",
    "    for vae_opt in vae_opts:\n",
    "        configs = sorted([os.path.join(vae_opt, file) for file in os.listdir(vae_opt) if file.endswith(\".txt\")])\n",
    "        for config in configs:\n",
    "            with open(config, \"r\") as f:\n",
    "                layer_param = f.readline()[:-1]\n",
    "                lp_list = []\n",
    "                unc_files = []\n",
    "                for i in range(10):\n",
    "                    pas_vae_name = os.path.join(vae_opt, f'pas_trial{config.split(\".\")[0][-1]}_{i}.csv')\n",
    "                    res = pd.read_csv(pas_vae_name, index_col=0)\n",
    "                    res = res.loc[chosen_pathways.index, :]\n",
    "                    if not res.isna().values.any():\n",
    "                        lp_list.append(silhouette_score(res.T, labels))\n",
    "                        unc_files.append(pas_vae_name)\n",
    "                if len(lp_list) > 2:\n",
    "                    layer_params[layer_param] = lp_list\n",
    "                    uncorr_files[layer_param] = unc_files\n",
    "    means = []\n",
    "    upper = []\n",
    "    lower = []\n",
    "    best_file = []\n",
    "    for key, data in layer_params.items():\n",
    "        means.append(sum(data)/len(data))\n",
    "        best_file.append(uncorr_files[key][np.argmax(np.array(data))])\n",
    "        interval =  st.t.interval(alpha=0.95, \n",
    "                                  df=len(data)-1, \n",
    "                                  loc=np.mean(data),  \n",
    "                                  scale=st.sem(data))\n",
    "        lower.append(interval[0])\n",
    "        upper.append(interval[1])\n",
    "    results = pd.DataFrame([[key for key, _ in layer_params.items()], means, upper, lower, best_file]).T\n",
    "    results = results.sort_values(by=[1])\n",
    "    results.to_csv(f\"/mnt/pmanas/Ania/scrna-seq/results/{dataset}/pas_vae/param_choice_fix.csv\")\n",
    "\n",
    "    res = pd.read_csv(results.iloc[-1, -1], index_col=0)\n",
    "    res = res.loc[chosen_pathways.index, :]\n",
    "    res.to_csv(f\"/mnt/pmanas/Ania/scrna-seq/results/{dataset}/seurat/vae.csv\")"
   ]
  },
  {
   "cell_type": "code",
   "execution_count": null,
   "id": "762202aa-bba7-493a-9dad-6b984172b0c4",
   "metadata": {},
   "outputs": [],
   "source": []
  }
 ],
 "metadata": {
  "kernelspec": {
   "display_name": "enrich",
   "language": "python",
   "name": "enrich"
  },
  "language_info": {
   "codemirror_mode": {
    "name": "ipython",
    "version": 3
   },
   "file_extension": ".py",
   "mimetype": "text/x-python",
   "name": "python",
   "nbconvert_exporter": "python",
   "pygments_lexer": "ipython3",
   "version": "3.10.12"
  }
 },
 "nbformat": 4,
 "nbformat_minor": 5
}
