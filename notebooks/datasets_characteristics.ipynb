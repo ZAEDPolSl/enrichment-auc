{
 "cells": [
  {
   "cell_type": "code",
   "execution_count": 1,
   "id": "e284a22c-ce71-44ef-b886-6d046a2c74d4",
   "metadata": {
    "tags": []
   },
   "outputs": [],
   "source": [
    "import os\n",
    "import numpy as np\n",
    "import pandas as pd"
   ]
  },
  {
   "cell_type": "code",
   "execution_count": 2,
   "id": "4bb5ddac-fa57-4b56-8cc6-08fe8f8220f6",
   "metadata": {
    "tags": []
   },
   "outputs": [],
   "source": [
    "path = os.getcwd().replace('notebooks', '')"
   ]
  },
  {
   "cell_type": "code",
   "execution_count": 3,
   "id": "f32ade0f-dabf-4c5e-83f3-057a3294cf2f",
   "metadata": {
    "tags": []
   },
   "outputs": [],
   "source": [
    "tissue = \"Liver\"\n",
    "norm = \"seurat\"\n",
    "datafolder = path + \"data/\" + tissue + \"/\""
   ]
  },
  {
   "cell_type": "code",
   "execution_count": 4,
   "id": "ef58b4ee-644e-460d-9071-a6cbb6c41720",
   "metadata": {
    "tags": []
   },
   "outputs": [
    {
     "data": {
      "text/plain": [
       "CellType\n",
       "T cell                                  7676\n",
       "endothelial cell of hepatic sinusoid    2285\n",
       "macrophage                              1625\n",
       "natural killer cell                      919\n",
       "hepatocyte                               746\n",
       "Kupffer cell                             619\n",
       "B cell                                   405\n",
       "cholangiocyte                            292\n",
       "plasma cell                              162\n",
       "cycling cell                              57\n",
       "endothelial cell of vascular tree         39\n",
       "hematopoietic stem cell                   27\n",
       "Name: count, dtype: int64"
      ]
     },
     "execution_count": 4,
     "metadata": {},
     "output_type": "execute_result"
    }
   ],
   "source": [
    "labels = pd.read_csv(datafolder + \"true_labels.csv\", index_col=0)\n",
    "labels['CellType'].value_counts()"
   ]
  },
  {
   "cell_type": "code",
   "execution_count": 5,
   "id": "bcd9696d-2c03-4a96-9193-6d3ea9b6435f",
   "metadata": {
    "tags": []
   },
   "outputs": [],
   "source": [
    "t_cells = [\"CD4+ T cell\", \"Cytotoxic T cell\"]\n",
    "nk_cells = [\"Natural killer cell\", \"natural killer cell\"]\n",
    "b_cells = [\"mature B cell\"]"
   ]
  },
  {
   "cell_type": "code",
   "execution_count": 6,
   "id": "e6c84556-aabc-4fc1-b4fd-d3e5d3537898",
   "metadata": {
    "tags": []
   },
   "outputs": [
    {
     "data": {
      "text/plain": [
       "CellType\n",
       "T cell                                  7676\n",
       "endothelial cell of hepatic sinusoid    2285\n",
       "macrophage                              1625\n",
       "NK cell                                  919\n",
       "hepatocyte                               746\n",
       "Kupffer cell                             619\n",
       "B cell                                   405\n",
       "cholangiocyte                            292\n",
       "plasma cell                              162\n",
       "cycling cell                              57\n",
       "endothelial cell of vascular tree         39\n",
       "hematopoietic stem cell                   27\n",
       "Name: count, dtype: int64"
      ]
     },
     "execution_count": 6,
     "metadata": {},
     "output_type": "execute_result"
    }
   ],
   "source": [
    "labels.loc[labels[\"CellType\"].isin(t_cells), \"CellType\"] = \"T cell\"\n",
    "labels.loc[labels[\"CellType\"].isin(nk_cells), \"CellType\"] = \"NK cell\"\n",
    "labels.loc[labels[\"CellType\"].isin(b_cells), \"CellType\"] = \"B cell\"\n",
    "labels['CellType'].value_counts()"
   ]
  },
  {
   "cell_type": "code",
   "execution_count": 7,
   "id": "5865e614-3e00-4b4b-ba01-c0c88053ef89",
   "metadata": {
    "tags": []
   },
   "outputs": [
    {
     "data": {
      "text/plain": [
       "CellType\n",
       "T cell     7676\n",
       "other      5852\n",
       "NK cell     919\n",
       "B cell      405\n",
       "Name: count, dtype: int64"
      ]
     },
     "execution_count": 7,
     "metadata": {},
     "output_type": "execute_result"
    }
   ],
   "source": [
    "labels.loc[~labels[\"CellType\"].isin(\n",
    "    [\"NK cell\", \"T cell\", \"B cell\"])\n",
    "           , \"CellType\"] = \"other\"\n",
    "labels['CellType'].value_counts()"
   ]
  },
  {
   "cell_type": "code",
   "execution_count": null,
   "id": "02c60e64-88f1-4c9d-b37c-42501693d46d",
   "metadata": {},
   "outputs": [],
   "source": []
  }
 ],
 "metadata": {
  "kernelspec": {
   "display_name": "enrich",
   "language": "python",
   "name": "enrich"
  },
  "language_info": {
   "codemirror_mode": {
    "name": "ipython",
    "version": 3
   },
   "file_extension": ".py",
   "mimetype": "text/x-python",
   "name": "python",
   "nbconvert_exporter": "python",
   "pygments_lexer": "ipython3",
   "version": "3.10.12"
  }
 },
 "nbformat": 4,
 "nbformat_minor": 5
}
