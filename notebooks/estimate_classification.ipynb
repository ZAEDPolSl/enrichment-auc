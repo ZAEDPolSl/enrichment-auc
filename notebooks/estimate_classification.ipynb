{
 "cells": [
  {
   "cell_type": "code",
   "execution_count": 181,
   "metadata": {},
   "outputs": [],
   "source": [
    "import pandas as pd\n",
    "from sklearn import metrics"
   ]
  },
  {
   "cell_type": "code",
   "execution_count": 136,
   "metadata": {},
   "outputs": [],
   "source": [
    "dataset = \"COVID\"\n",
    "datatype = \"log2\" # \"raw_counts\"\n",
    "clustertype = \"gmm\" # \"kmeans\"\n",
    "\n",
    "datafolder =  \"C:\\\\Users\\\\amruk\\\\source\\\\enrichment-auc\\\\data\\\\\"\n",
    "resfolder =  \"C:\\\\Users\\\\amruk\\\\source\\\\enrichment-auc\\\\results\\\\\"+dataset+\"\\\\\"+datatype+\"\\\\\"\n",
    "scorenames = [\"z\", \"gsva\", \"auc\", \"cerno\",\n",
    "              \"aucell\", \"vision\", \"ratios\",\n",
    "              \"svd\", \"sparse_pca\"]"
   ]
  },
  {
   "attachments": {},
   "cell_type": "markdown",
   "metadata": {},
   "source": [
    "## Get chosen pathways for cell types"
   ]
  },
  {
   "cell_type": "code",
   "execution_count": 91,
   "metadata": {},
   "outputs": [],
   "source": [
    "paths = pd.read_csv(datafolder+\"chosen_paths.txt\", sep='\\t', index_col=0)\n",
    "paths.head()"
   ]
  },
  {
   "attachments": {},
   "cell_type": "markdown",
   "metadata": {},
   "source": [
    "## Get dataset specific pathways"
   ]
  },
  {
   "cell_type": "code",
   "execution_count": 93,
   "metadata": {},
   "outputs": [
    {
     "data": {
      "text/html": [
       "<div>\n",
       "<style scoped>\n",
       "    .dataframe tbody tr th:only-of-type {\n",
       "        vertical-align: middle;\n",
       "    }\n",
       "\n",
       "    .dataframe tbody tr th {\n",
       "        vertical-align: top;\n",
       "    }\n",
       "\n",
       "    .dataframe thead th {\n",
       "        text-align: right;\n",
       "    }\n",
       "</style>\n",
       "<table border=\"1\" class=\"dataframe\">\n",
       "  <thead>\n",
       "    <tr style=\"text-align: right;\">\n",
       "      <th></th>\n",
       "      <th>ID</th>\n",
       "      <th>Title</th>\n",
       "      <th>source</th>\n",
       "      <th>DataBase</th>\n",
       "    </tr>\n",
       "  </thead>\n",
       "  <tbody>\n",
       "    <tr>\n",
       "      <th>hsa04062</th>\n",
       "      <td>hsa04062</td>\n",
       "      <td>Chemokine signaling pathway</td>\n",
       "      <td>Organismal Systems; Immune system</td>\n",
       "      <td>KEGG</td>\n",
       "    </tr>\n",
       "    <tr>\n",
       "      <th>hsa04610</th>\n",
       "      <td>hsa04610</td>\n",
       "      <td>Complement and coagulation cascades</td>\n",
       "      <td>Organismal Systems; Immune system</td>\n",
       "      <td>KEGG</td>\n",
       "    </tr>\n",
       "    <tr>\n",
       "      <th>hsa04611</th>\n",
       "      <td>hsa04611</td>\n",
       "      <td>Platelet activation</td>\n",
       "      <td>Organismal Systems; Immune system</td>\n",
       "      <td>KEGG</td>\n",
       "    </tr>\n",
       "    <tr>\n",
       "      <th>hsa04612</th>\n",
       "      <td>hsa04612</td>\n",
       "      <td>Antigen processing and presentation</td>\n",
       "      <td>Organismal Systems; Immune system</td>\n",
       "      <td>KEGG</td>\n",
       "    </tr>\n",
       "    <tr>\n",
       "      <th>hsa04613</th>\n",
       "      <td>hsa04613</td>\n",
       "      <td>Neutrophil extracellular trap formation</td>\n",
       "      <td>Organismal Systems; Immune system</td>\n",
       "      <td>KEGG</td>\n",
       "    </tr>\n",
       "  </tbody>\n",
       "</table>\n",
       "</div>"
      ],
      "text/plain": [
       "                ID                                    Title   \n",
       "hsa04062  hsa04062              Chemokine signaling pathway  \\\n",
       "hsa04610  hsa04610      Complement and coagulation cascades   \n",
       "hsa04611  hsa04611                      Platelet activation   \n",
       "hsa04612  hsa04612      Antigen processing and presentation   \n",
       "hsa04613  hsa04613  Neutrophil extracellular trap formation   \n",
       "\n",
       "                                     source DataBase  \n",
       "hsa04062  Organismal Systems; Immune system     KEGG  \n",
       "hsa04610  Organismal Systems; Immune system     KEGG  \n",
       "hsa04611  Organismal Systems; Immune system     KEGG  \n",
       "hsa04612  Organismal Systems; Immune system     KEGG  \n",
       "hsa04613  Organismal Systems; Immune system     KEGG  "
      ]
     },
     "execution_count": 93,
     "metadata": {},
     "output_type": "execute_result"
    }
   ],
   "source": [
    "geneset_info = pd.read_csv(datafolder + dataset +\"//genesets_modules.csv\", index_col=0)\n",
    "geneset_info.head()"
   ]
  },
  {
   "attachments": {},
   "cell_type": "markdown",
   "metadata": {},
   "source": [
    "## Choose the ones in both"
   ]
  },
  {
   "cell_type": "code",
   "execution_count": null,
   "metadata": {},
   "outputs": [],
   "source": [
    "dataset_specific = paths[paths[\"ID\"].isin(geneset_info[\"ID\"])]\n",
    "dataset_specific.Celltype = dataset_specific['Celltype'].str.replace(';',' +')"
   ]
  },
  {
   "cell_type": "code",
   "execution_count": 95,
   "metadata": {},
   "outputs": [
    {
     "data": {
      "text/plain": [
       "Celltype\n",
       "B cell              10\n",
       "B cell + T cell      1\n",
       "NK cell              1\n",
       "NK cell + T cell     2\n",
       "T cell              14\n",
       "dtype: int64"
      ]
     },
     "execution_count": 95,
     "metadata": {},
     "output_type": "execute_result"
    }
   ],
   "source": [
    "dataset_specific.groupby(['Celltype']).size()"
   ]
  },
  {
   "cell_type": "code",
   "execution_count": 186,
   "metadata": {},
   "outputs": [],
   "source": [
    "to_save = dataset_specific[[\"ID\", \"Title\", \"Celltype\"]]"
   ]
  },
  {
   "attachments": {},
   "cell_type": "markdown",
   "metadata": {},
   "source": [
    "## Get true labels"
   ]
  },
  {
   "cell_type": "code",
   "execution_count": 164,
   "metadata": {},
   "outputs": [
    {
     "data": {
      "text/html": [
       "<div>\n",
       "<style scoped>\n",
       "    .dataframe tbody tr th:only-of-type {\n",
       "        vertical-align: middle;\n",
       "    }\n",
       "\n",
       "    .dataframe tbody tr th {\n",
       "        vertical-align: top;\n",
       "    }\n",
       "\n",
       "    .dataframe thead th {\n",
       "        text-align: right;\n",
       "    }\n",
       "</style>\n",
       "<table border=\"1\" class=\"dataframe\">\n",
       "  <thead>\n",
       "    <tr style=\"text-align: right;\">\n",
       "      <th></th>\n",
       "      <th>cell.ID</th>\n",
       "      <th>Cell.type.Ontology</th>\n",
       "    </tr>\n",
       "  </thead>\n",
       "  <tbody>\n",
       "    <tr>\n",
       "      <th>SAMEA6979313-AAAGAACCACCTGCTT</th>\n",
       "      <td>SAMEA6979313-AAAGAACCACCTGCTT</td>\n",
       "      <td>T cell</td>\n",
       "    </tr>\n",
       "    <tr>\n",
       "      <th>SAMEA6979313-AAAGGATGTCCCTCAT</th>\n",
       "      <td>SAMEA6979313-AAAGGATGTCCCTCAT</td>\n",
       "      <td>monocyte</td>\n",
       "    </tr>\n",
       "    <tr>\n",
       "      <th>SAMEA6979313-AACAGGGAGATCACTC</th>\n",
       "      <td>SAMEA6979313-AACAGGGAGATCACTC</td>\n",
       "      <td>T cell</td>\n",
       "    </tr>\n",
       "    <tr>\n",
       "      <th>SAMEA6979313-AACCAACGTGTGAGCA</th>\n",
       "      <td>SAMEA6979313-AACCAACGTGTGAGCA</td>\n",
       "      <td>T cell</td>\n",
       "    </tr>\n",
       "    <tr>\n",
       "      <th>SAMEA6979313-AACCATGAGCAGCGAT</th>\n",
       "      <td>SAMEA6979313-AACCATGAGCAGCGAT</td>\n",
       "      <td>monocyte</td>\n",
       "    </tr>\n",
       "  </tbody>\n",
       "</table>\n",
       "</div>"
      ],
      "text/plain": [
       "                                                     cell.ID   \n",
       "SAMEA6979313-AAAGAACCACCTGCTT  SAMEA6979313-AAAGAACCACCTGCTT  \\\n",
       "SAMEA6979313-AAAGGATGTCCCTCAT  SAMEA6979313-AAAGGATGTCCCTCAT   \n",
       "SAMEA6979313-AACAGGGAGATCACTC  SAMEA6979313-AACAGGGAGATCACTC   \n",
       "SAMEA6979313-AACCAACGTGTGAGCA  SAMEA6979313-AACCAACGTGTGAGCA   \n",
       "SAMEA6979313-AACCATGAGCAGCGAT  SAMEA6979313-AACCATGAGCAGCGAT   \n",
       "\n",
       "                              Cell.type.Ontology  \n",
       "SAMEA6979313-AAAGAACCACCTGCTT             T cell  \n",
       "SAMEA6979313-AAAGGATGTCCCTCAT           monocyte  \n",
       "SAMEA6979313-AACAGGGAGATCACTC             T cell  \n",
       "SAMEA6979313-AACCAACGTGTGAGCA             T cell  \n",
       "SAMEA6979313-AACCATGAGCAGCGAT           monocyte  "
      ]
     },
     "execution_count": 164,
     "metadata": {},
     "output_type": "execute_result"
    }
   ],
   "source": [
    "true_labels = pd.read_csv(datafolder + dataset +\"//true_labels.csv\", index_col=0)\n",
    "true_labels.head()"
   ]
  },
  {
   "attachments": {},
   "cell_type": "markdown",
   "metadata": {},
   "source": [
    "Check for pro B cell beforehand - ignore index"
   ]
  },
  {
   "cell_type": "code",
   "execution_count": 165,
   "metadata": {},
   "outputs": [
    {
     "data": {
      "text/plain": [
       "array(['T cell', 'monocyte', 'erythroid lineage cell', 'neutrophil',\n",
       "       'platelet', 'B cell'], dtype=object)"
      ]
     },
     "execution_count": 165,
     "metadata": {},
     "output_type": "execute_result"
    }
   ],
   "source": [
    "true_labels = true_labels.rename(columns={'Cell.type.Ontology': 'CellType'})\n",
    "true_labels.CellType.unique()"
   ]
  },
  {
   "cell_type": "code",
   "execution_count": 99,
   "metadata": {},
   "outputs": [
    {
     "data": {
      "text/plain": [
       "array(['T cell', 'other', 'B cell'], dtype=object)"
      ]
     },
     "execution_count": 99,
     "metadata": {},
     "output_type": "execute_result"
    }
   ],
   "source": [
    "true_labels.loc[true_labels[\"CellType\"].isin(['CD4+ T cell',\n",
    "                                              'Cytotoxic T cell']), \"CellType\"] = 'T cell'\n",
    "true_labels.loc[true_labels[\"CellType\"].isin(['Natural killer cell']), \"CellType\"] = 'NK cell'\n",
    "true_labels.loc[~true_labels[\"CellType\"].isin(['NK cell',\n",
    "                                               'T cell',\n",
    "                                               'B cell']), \"CellType\"] = 'other'\n",
    "true_labels.CellType.unique()"
   ]
  },
  {
   "attachments": {},
   "cell_type": "markdown",
   "metadata": {},
   "source": [
    "## Calculate classification scores"
   ]
  },
  {
   "cell_type": "code",
   "execution_count": 191,
   "metadata": {},
   "outputs": [],
   "source": [
    "class Scores:\n",
    "    def __init__(self):\n",
    "        self.scoring_methods = [metrics.balanced_accuracy_score,\n",
    "                                metrics.adjusted_rand_score,\n",
    "                                metrics.f1_score,\n",
    "                                metrics.precision_score,\n",
    "                                metrics.recall_score,\n",
    "                                metrics.matthews_corrcoef,\n",
    "                                metrics.jaccard_score,\n",
    "                                metrics.hamming_loss\n",
    "                                ]\n",
    "        self.scores = [[] for _ in self.scoring_methods]\n",
    "        self.names = [\"BAcc_\",\n",
    "                      \"ARI_\",\n",
    "                      \"F1_\",\n",
    "                      \"Precision_\",\n",
    "                      \"Recall_\",\n",
    "                      \"Matthews_\",\n",
    "                      \"Jaccard_\",\n",
    "                      \"Hamming_\"]\n",
    "\n",
    "    def get_classification_scores(self, y_true, y_pred):\n",
    "        for i, scoring in enumerate(self.scoring_methods):\n",
    "            res = scoring(y_true, y_pred)\n",
    "            self.scores[i].append(res)\n",
    "    \n",
    "    "
   ]
  },
  {
   "cell_type": "code",
   "execution_count": null,
   "metadata": {},
   "outputs": [],
   "source": [
    "for scorename in scorenames:\n",
    "    scores = pd.read_csv(resfolder+ scorename + \".csv\", index_col=0)\n",
    "    thresholds = pd.read_csv(\n",
    "        resfolder+ scorename +\"_\" + clustertype + \"_thr\" \".csv\",\n",
    "        index_col=0)\n",
    "    eval = Scores()\n",
    "    for index, row in dataset_specific.iterrows():\n",
    "        gs_score = scores.loc[row[\"ID\"]]\n",
    "        thr = thresholds.loc[row[\"ID\"]].max()\n",
    "        preds = gs_score > thr\n",
    "        preds = preds.astype(int)\n",
    "        true_labels[\"label\"] = true_labels.CellType.isin(\n",
    "            row[\"Celltype\"].split(\" + \")\n",
    "            ).astype(int)\n",
    "        eval.get_classification_scores(true_labels[\"label\"], preds)\n",
    "    for i, cls_score in enumerate(eval.scores):\n",
    "        to_save.loc[:, eval.names[i]+scorename] = cls_score\n",
    "\n",
    "to_save.to_csv(resfolder+\"classification_scores.csv\")"
   ]
  }
 ],
 "metadata": {
  "kernelspec": {
   "display_name": "enrich",
   "language": "python",
   "name": "python3"
  },
  "language_info": {
   "codemirror_mode": {
    "name": "ipython",
    "version": 3
   },
   "file_extension": ".py",
   "mimetype": "text/x-python",
   "name": "python",
   "nbconvert_exporter": "python",
   "pygments_lexer": "ipython3",
   "version": "3.10.10"
  },
  "orig_nbformat": 4
 },
 "nbformat": 4,
 "nbformat_minor": 2
}
