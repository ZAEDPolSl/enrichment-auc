{
 "cells": [
  {
   "cell_type": "code",
   "execution_count": 1,
   "metadata": {},
   "outputs": [],
   "source": [
    "import numpy as np\n",
    "import pandas as pd"
   ]
  },
  {
   "cell_type": "code",
   "execution_count": 2,
   "metadata": {},
   "outputs": [],
   "source": [
    "from enrichment_auc.plot.plot_boxplots import visualize_methods, visualize_difference\n",
    "from enrichment_auc.evaluate_classification import Scores"
   ]
  },
  {
   "cell_type": "code",
   "execution_count": 3,
   "metadata": {},
   "outputs": [],
   "source": [
    "dataset = \"Liver\"\n",
    "datatype = \"log2\" # \"raw_counts\"\n",
    "clustertype = \"gmm\" # \"kmeans\"\n",
    "plottype = clustertype\n",
    "if clustertype != 'kmeans':\n",
    "    plottype = \"top1\"\n",
    "\n",
    "datafolder =  \"C:\\\\Users\\\\amruk\\\\source\\\\enrichment-auc\\\\data\\\\\"\n",
    "resfolder =  \"C:\\\\Users\\\\amruk\\\\source\\\\enrichment-auc\\\\results\\\\\"+dataset+\"\\\\\"+datatype+\"\\\\\"\n",
    "plotfolder =  \"C:\\\\Users\\\\amruk\\\\source\\\\enrichment-auc\\\\plots\\\\\"+dataset+\"\\\\\"+datatype+\"\\\\\"+plottype+\"\\\\\"+\"classification\\\\\""
   ]
  },
  {
   "cell_type": "code",
   "execution_count": null,
   "metadata": {},
   "outputs": [],
   "source": [
    "scorenames = [\n",
    "    \"z\",\n",
    "    \"gsva\",\n",
    "    \"auc\",\n",
    "    \"cerno\",\n",
    "    \"aucell\",\n",
    "    \"vision\",\n",
    "    \"ratios\",\n",
    "    \"svd\",\n",
    "    \"sparse_pca\",\n",
    "    # \"vae\",\n",
    "]\n"
   ]
  },
  {
   "cell_type": "code",
   "execution_count": 4,
   "metadata": {},
   "outputs": [],
   "source": [
    "names = [\"Balanced_accuracy_\",\n",
    "        \"ARI_\",\n",
    "        \"F1_\",\n",
    "        \"Recall_\",\n",
    "        \"Matthews_\",\n",
    "        \"Jaccard_\",\n",
    "        \"Hamming_\",\n",
    "        \"Precision_\",\n",
    "        \"FDR_\"]"
   ]
  },
  {
   "attachments": {},
   "cell_type": "markdown",
   "metadata": {},
   "source": [
    "## Get chosen pathways for cell types"
   ]
  },
  {
   "cell_type": "code",
   "execution_count": 4,
   "metadata": {},
   "outputs": [
    {
     "data": {
      "text/html": [
       "<div>\n",
       "<style scoped>\n",
       "    .dataframe tbody tr th:only-of-type {\n",
       "        vertical-align: middle;\n",
       "    }\n",
       "\n",
       "    .dataframe tbody tr th {\n",
       "        vertical-align: top;\n",
       "    }\n",
       "\n",
       "    .dataframe thead th {\n",
       "        text-align: right;\n",
       "    }\n",
       "</style>\n",
       "<table border=\"1\" class=\"dataframe\">\n",
       "  <thead>\n",
       "    <tr style=\"text-align: right;\">\n",
       "      <th></th>\n",
       "      <th>ID</th>\n",
       "      <th>Title</th>\n",
       "      <th>Category</th>\n",
       "      <th>Database</th>\n",
       "      <th>GSsize</th>\n",
       "      <th>GenesInGS</th>\n",
       "      <th>Perc</th>\n",
       "      <th>Celltype</th>\n",
       "      <th>Celltype_unclear</th>\n",
       "    </tr>\n",
       "  </thead>\n",
       "  <tbody>\n",
       "    <tr>\n",
       "      <th>hsa04062</th>\n",
       "      <td>hsa04062</td>\n",
       "      <td>KEGG: Chemokine signaling pathway</td>\n",
       "      <td>KEGG: Organismal Systems; Immune system</td>\n",
       "      <td>KEGG</td>\n",
       "      <td>192</td>\n",
       "      <td>139</td>\n",
       "      <td>72.395833</td>\n",
       "      <td>T cell</td>\n",
       "      <td>no</td>\n",
       "    </tr>\n",
       "    <tr>\n",
       "      <th>hsa04610</th>\n",
       "      <td>hsa04610</td>\n",
       "      <td>KEGG: Complement and coagulation cascades</td>\n",
       "      <td>KEGG: Organismal Systems; Immune system</td>\n",
       "      <td>KEGG</td>\n",
       "      <td>85</td>\n",
       "      <td>46</td>\n",
       "      <td>54.117647</td>\n",
       "      <td>B cell; T cell</td>\n",
       "      <td>no</td>\n",
       "    </tr>\n",
       "    <tr>\n",
       "      <th>hsa04612</th>\n",
       "      <td>hsa04612</td>\n",
       "      <td>KEGG: Antigen processing and presentation</td>\n",
       "      <td>KEGG: Organismal Systems; Immune system</td>\n",
       "      <td>KEGG</td>\n",
       "      <td>78</td>\n",
       "      <td>66</td>\n",
       "      <td>84.615385</td>\n",
       "      <td>NK cell; T cell</td>\n",
       "      <td>no</td>\n",
       "    </tr>\n",
       "    <tr>\n",
       "      <th>hsa04650</th>\n",
       "      <td>hsa04650</td>\n",
       "      <td>KEGG: Natural killer cell mediated cytotoxicity</td>\n",
       "      <td>KEGG: Organismal Systems; Immune system</td>\n",
       "      <td>KEGG</td>\n",
       "      <td>131</td>\n",
       "      <td>94</td>\n",
       "      <td>71.755725</td>\n",
       "      <td>NK cell</td>\n",
       "      <td>no</td>\n",
       "    </tr>\n",
       "    <tr>\n",
       "      <th>hsa04657</th>\n",
       "      <td>hsa04657</td>\n",
       "      <td>KEGG: IL-17 signaling pathway</td>\n",
       "      <td>KEGG: Organismal Systems; Immune system</td>\n",
       "      <td>KEGG</td>\n",
       "      <td>94</td>\n",
       "      <td>63</td>\n",
       "      <td>67.021277</td>\n",
       "      <td>NK cell; T cell</td>\n",
       "      <td>no</td>\n",
       "    </tr>\n",
       "  </tbody>\n",
       "</table>\n",
       "</div>"
      ],
      "text/plain": [
       "                ID                                            Title   \n",
       "hsa04062  hsa04062                KEGG: Chemokine signaling pathway  \\\n",
       "hsa04610  hsa04610        KEGG: Complement and coagulation cascades   \n",
       "hsa04612  hsa04612        KEGG: Antigen processing and presentation   \n",
       "hsa04650  hsa04650  KEGG: Natural killer cell mediated cytotoxicity   \n",
       "hsa04657  hsa04657                    KEGG: IL-17 signaling pathway   \n",
       "\n",
       "                                         Category Database  GSsize  GenesInGS   \n",
       "hsa04062  KEGG: Organismal Systems; Immune system     KEGG     192        139  \\\n",
       "hsa04610  KEGG: Organismal Systems; Immune system     KEGG      85         46   \n",
       "hsa04612  KEGG: Organismal Systems; Immune system     KEGG      78         66   \n",
       "hsa04650  KEGG: Organismal Systems; Immune system     KEGG     131         94   \n",
       "hsa04657  KEGG: Organismal Systems; Immune system     KEGG      94         63   \n",
       "\n",
       "               Perc         Celltype Celltype_unclear  \n",
       "hsa04062  72.395833           T cell               no  \n",
       "hsa04610  54.117647   B cell; T cell               no  \n",
       "hsa04612  84.615385  NK cell; T cell               no  \n",
       "hsa04650  71.755725          NK cell               no  \n",
       "hsa04657  67.021277  NK cell; T cell               no  "
      ]
     },
     "execution_count": 4,
     "metadata": {},
     "output_type": "execute_result"
    }
   ],
   "source": [
    "paths = pd.read_csv(datafolder+\"chosen_paths.txt\", sep='\\t', index_col=0)\n",
    "paths.head()"
   ]
  },
  {
   "attachments": {},
   "cell_type": "markdown",
   "metadata": {},
   "source": [
    "## Get dataset specific pathways"
   ]
  },
  {
   "cell_type": "code",
   "execution_count": 4,
   "metadata": {},
   "outputs": [
    {
     "data": {
      "text/html": [
       "<div>\n",
       "<style scoped>\n",
       "    .dataframe tbody tr th:only-of-type {\n",
       "        vertical-align: middle;\n",
       "    }\n",
       "\n",
       "    .dataframe tbody tr th {\n",
       "        vertical-align: top;\n",
       "    }\n",
       "\n",
       "    .dataframe thead th {\n",
       "        text-align: right;\n",
       "    }\n",
       "</style>\n",
       "<table border=\"1\" class=\"dataframe\">\n",
       "  <thead>\n",
       "    <tr style=\"text-align: right;\">\n",
       "      <th></th>\n",
       "      <th>ID</th>\n",
       "      <th>Title</th>\n",
       "      <th>source</th>\n",
       "      <th>DataBase</th>\n",
       "    </tr>\n",
       "  </thead>\n",
       "  <tbody>\n",
       "    <tr>\n",
       "      <th>hsa04062</th>\n",
       "      <td>hsa04062</td>\n",
       "      <td>Chemokine signaling pathway</td>\n",
       "      <td>Organismal Systems; Immune system</td>\n",
       "      <td>KEGG</td>\n",
       "    </tr>\n",
       "    <tr>\n",
       "      <th>hsa04610</th>\n",
       "      <td>hsa04610</td>\n",
       "      <td>Complement and coagulation cascades</td>\n",
       "      <td>Organismal Systems; Immune system</td>\n",
       "      <td>KEGG</td>\n",
       "    </tr>\n",
       "    <tr>\n",
       "      <th>hsa04611</th>\n",
       "      <td>hsa04611</td>\n",
       "      <td>Platelet activation</td>\n",
       "      <td>Organismal Systems; Immune system</td>\n",
       "      <td>KEGG</td>\n",
       "    </tr>\n",
       "    <tr>\n",
       "      <th>hsa04612</th>\n",
       "      <td>hsa04612</td>\n",
       "      <td>Antigen processing and presentation</td>\n",
       "      <td>Organismal Systems; Immune system</td>\n",
       "      <td>KEGG</td>\n",
       "    </tr>\n",
       "    <tr>\n",
       "      <th>hsa04613</th>\n",
       "      <td>hsa04613</td>\n",
       "      <td>Neutrophil extracellular trap formation</td>\n",
       "      <td>Organismal Systems; Immune system</td>\n",
       "      <td>KEGG</td>\n",
       "    </tr>\n",
       "  </tbody>\n",
       "</table>\n",
       "</div>"
      ],
      "text/plain": [
       "                ID                                    Title   \n",
       "hsa04062  hsa04062              Chemokine signaling pathway  \\\n",
       "hsa04610  hsa04610      Complement and coagulation cascades   \n",
       "hsa04611  hsa04611                      Platelet activation   \n",
       "hsa04612  hsa04612      Antigen processing and presentation   \n",
       "hsa04613  hsa04613  Neutrophil extracellular trap formation   \n",
       "\n",
       "                                     source DataBase  \n",
       "hsa04062  Organismal Systems; Immune system     KEGG  \n",
       "hsa04610  Organismal Systems; Immune system     KEGG  \n",
       "hsa04611  Organismal Systems; Immune system     KEGG  \n",
       "hsa04612  Organismal Systems; Immune system     KEGG  \n",
       "hsa04613  Organismal Systems; Immune system     KEGG  "
      ]
     },
     "execution_count": 4,
     "metadata": {},
     "output_type": "execute_result"
    }
   ],
   "source": [
    "geneset_info = pd.read_csv(datafolder + dataset +\"//genesets_modules.csv\", index_col=0)\n",
    "geneset_info.head()"
   ]
  },
  {
   "attachments": {},
   "cell_type": "markdown",
   "metadata": {},
   "source": [
    "## Choose the ones in both"
   ]
  },
  {
   "cell_type": "code",
   "execution_count": 6,
   "metadata": {},
   "outputs": [
    {
     "name": "stderr",
     "output_type": "stream",
     "text": [
      "C:\\Users\\amruk\\AppData\\Local\\Temp\\ipykernel_20512\\2728621780.py:2: SettingWithCopyWarning: \n",
      "A value is trying to be set on a copy of a slice from a DataFrame.\n",
      "Try using .loc[row_indexer,col_indexer] = value instead\n",
      "\n",
      "See the caveats in the documentation: https://pandas.pydata.org/pandas-docs/stable/user_guide/indexing.html#returning-a-view-versus-a-copy\n",
      "  dataset_specific.Celltype = dataset_specific['Celltype'].str.replace(';',' +')\n"
     ]
    }
   ],
   "source": [
    "dataset_specific = paths[paths[\"ID\"].isin(geneset_info[\"ID\"])]\n",
    "dataset_specific.Celltype = dataset_specific['Celltype'].str.replace(';',' +')"
   ]
  },
  {
   "cell_type": "code",
   "execution_count": 7,
   "metadata": {},
   "outputs": [],
   "source": [
    "to_save = dataset_specific[[\"ID\", \"Title\", \"Celltype\"]]"
   ]
  },
  {
   "attachments": {},
   "cell_type": "markdown",
   "metadata": {},
   "source": [
    "## Get true labels"
   ]
  },
  {
   "cell_type": "code",
   "execution_count": 10,
   "metadata": {},
   "outputs": [
    {
     "data": {
      "text/html": [
       "<div>\n",
       "<style scoped>\n",
       "    .dataframe tbody tr th:only-of-type {\n",
       "        vertical-align: middle;\n",
       "    }\n",
       "\n",
       "    .dataframe tbody tr th {\n",
       "        vertical-align: top;\n",
       "    }\n",
       "\n",
       "    .dataframe thead th {\n",
       "        text-align: right;\n",
       "    }\n",
       "</style>\n",
       "<table border=\"1\" class=\"dataframe\">\n",
       "  <thead>\n",
       "    <tr style=\"text-align: right;\">\n",
       "      <th></th>\n",
       "      <th>ID</th>\n",
       "      <th>Cell.type.authors</th>\n",
       "    </tr>\n",
       "  </thead>\n",
       "  <tbody>\n",
       "    <tr>\n",
       "      <th>2</th>\n",
       "      <td>SAMEA11294524-AAACCTGAGTCTCCTC</td>\n",
       "      <td>hepatocyte</td>\n",
       "    </tr>\n",
       "    <tr>\n",
       "      <th>3</th>\n",
       "      <td>SAMEA11294524-AAACCTGCAATGTAAG</td>\n",
       "      <td>monocyte-derived macrophage</td>\n",
       "    </tr>\n",
       "    <tr>\n",
       "      <th>4</th>\n",
       "      <td>SAMEA11294524-AAACCTGCACCGATAT</td>\n",
       "      <td>T cell</td>\n",
       "    </tr>\n",
       "    <tr>\n",
       "      <th>6</th>\n",
       "      <td>SAMEA11294524-AAACCTGCAGTCAGAG</td>\n",
       "      <td>liver sinusoidal endothelial cell</td>\n",
       "    </tr>\n",
       "    <tr>\n",
       "      <th>7</th>\n",
       "      <td>SAMEA11294524-AAACCTGGTATCAGTC</td>\n",
       "      <td>T cell</td>\n",
       "    </tr>\n",
       "  </tbody>\n",
       "</table>\n",
       "</div>"
      ],
      "text/plain": [
       "                               ID                  Cell.type.authors\n",
       "2  SAMEA11294524-AAACCTGAGTCTCCTC                         hepatocyte\n",
       "3  SAMEA11294524-AAACCTGCAATGTAAG        monocyte-derived macrophage\n",
       "4  SAMEA11294524-AAACCTGCACCGATAT                             T cell\n",
       "6  SAMEA11294524-AAACCTGCAGTCAGAG  liver sinusoidal endothelial cell\n",
       "7  SAMEA11294524-AAACCTGGTATCAGTC                             T cell"
      ]
     },
     "execution_count": 10,
     "metadata": {},
     "output_type": "execute_result"
    }
   ],
   "source": [
    "true_labels = pd.read_csv(datafolder + dataset +\"//true_labels.csv\", index_col=0)\n",
    "true_labels.head()"
   ]
  },
  {
   "cell_type": "code",
   "execution_count": null,
   "metadata": {},
   "outputs": [],
   "source": [
    "true_labels.set_index('NAME', inplace=True)"
   ]
  },
  {
   "cell_type": "code",
   "execution_count": 11,
   "metadata": {},
   "outputs": [],
   "source": [
    "true_labels.set_index('ID', inplace=True)"
   ]
  },
  {
   "cell_type": "code",
   "execution_count": 12,
   "metadata": {},
   "outputs": [
    {
     "data": {
      "text/plain": [
       "array(['hepatocyte', 'monocyte-derived macrophage', 'T cell',\n",
       "       'liver sinusoidal endothelial cell', 'natural killer cell',\n",
       "       'cycling cell', 'plasma cell', 'B cell', 'cholangiocyte',\n",
       "       'Kupffer cell', 'vascular endothelial cell 1',\n",
       "       'vascular endothelial cell 2', 'activated HSC', 'quiescent HSC'],\n",
       "      dtype=object)"
      ]
     },
     "execution_count": 12,
     "metadata": {},
     "output_type": "execute_result"
    }
   ],
   "source": [
    "true_labels = true_labels.rename(columns={'Cell.type.Ontology': 'CellType'})\n",
    "true_labels = true_labels.rename(columns={'Cell.type.authors': 'CellType'})\n",
    "true_labels.CellType.unique()"
   ]
  },
  {
   "cell_type": "code",
   "execution_count": 13,
   "metadata": {},
   "outputs": [],
   "source": [
    "not_pre_B = ~true_labels[\"CellType\"].isin(['precursor B cell',\n",
    "                                                         'pro-B cell'])\n",
    "true_labels = true_labels[not_pre_B]"
   ]
  },
  {
   "cell_type": "code",
   "execution_count": 14,
   "metadata": {},
   "outputs": [
    {
     "data": {
      "text/plain": [
       "array(['other', 'T cell', 'NK cell', 'B cell'], dtype=object)"
      ]
     },
     "execution_count": 14,
     "metadata": {},
     "output_type": "execute_result"
    }
   ],
   "source": [
    "true_labels.loc[true_labels[\"CellType\"].isin(['CD4+ T cell',\n",
    "                                              'Cytotoxic T cell']), \"CellType\"] = 'T cell'\n",
    "true_labels.loc[true_labels[\"CellType\"].isin(['mature B cell']), \"CellType\"] = 'B cell'\n",
    "true_labels.loc[true_labels[\"CellType\"].isin(['Natural killer cell', 'natural killer cell']), \"CellType\"] = 'NK cell'\n",
    "true_labels.loc[~true_labels[\"CellType\"].isin(['NK cell',\n",
    "                                               'T cell',\n",
    "                                               'B cell']), \"CellType\"] = 'other'\n",
    "true_labels.CellType.unique()"
   ]
  },
  {
   "attachments": {},
   "cell_type": "markdown",
   "metadata": {},
   "source": [
    "## Calculate classification scores"
   ]
  },
  {
   "cell_type": "code",
   "execution_count": 16,
   "metadata": {},
   "outputs": [],
   "source": [
    "to_save = to_save[to_save.Celltype.str.contains('|'.join(true_labels.CellType.unique()))]"
   ]
  },
  {
   "cell_type": "code",
   "execution_count": 17,
   "metadata": {},
   "outputs": [
    {
     "name": "stderr",
     "output_type": "stream",
     "text": [
      "c:\\Users\\amruk\\Miniconda3\\envs\\enrich\\lib\\site-packages\\sklearn\\metrics\\_classification.py:1344: UndefinedMetricWarning: Precision is ill-defined and being set to 0.0 due to no predicted samples. Use `zero_division` parameter to control this behavior.\n",
      "  _warn_prf(average, modifier, msg_start, len(result))\n",
      "c:\\Users\\amruk\\Miniconda3\\envs\\enrich\\lib\\site-packages\\sklearn\\metrics\\_classification.py:1344: UndefinedMetricWarning: Precision is ill-defined and being set to 0.0 due to no predicted samples. Use `zero_division` parameter to control this behavior.\n",
      "  _warn_prf(average, modifier, msg_start, len(result))\n",
      "c:\\Users\\amruk\\Miniconda3\\envs\\enrich\\lib\\site-packages\\sklearn\\metrics\\_classification.py:1344: UndefinedMetricWarning: Precision is ill-defined and being set to 0.0 due to no predicted samples. Use `zero_division` parameter to control this behavior.\n",
      "  _warn_prf(average, modifier, msg_start, len(result))\n",
      "c:\\Users\\amruk\\Miniconda3\\envs\\enrich\\lib\\site-packages\\sklearn\\metrics\\_classification.py:1344: UndefinedMetricWarning: Precision is ill-defined and being set to 0.0 due to no predicted samples. Use `zero_division` parameter to control this behavior.\n",
      "  _warn_prf(average, modifier, msg_start, len(result))\n",
      "c:\\Users\\amruk\\Miniconda3\\envs\\enrich\\lib\\site-packages\\sklearn\\metrics\\_classification.py:1344: UndefinedMetricWarning: Precision is ill-defined and being set to 0.0 due to no predicted samples. Use `zero_division` parameter to control this behavior.\n",
      "  _warn_prf(average, modifier, msg_start, len(result))\n",
      "c:\\Users\\amruk\\Miniconda3\\envs\\enrich\\lib\\site-packages\\sklearn\\metrics\\_classification.py:1344: UndefinedMetricWarning: Precision is ill-defined and being set to 0.0 due to no predicted samples. Use `zero_division` parameter to control this behavior.\n",
      "  _warn_prf(average, modifier, msg_start, len(result))\n",
      "c:\\Users\\amruk\\Miniconda3\\envs\\enrich\\lib\\site-packages\\sklearn\\metrics\\_classification.py:1344: UndefinedMetricWarning: Precision is ill-defined and being set to 0.0 due to no predicted samples. Use `zero_division` parameter to control this behavior.\n",
      "  _warn_prf(average, modifier, msg_start, len(result))\n",
      "c:\\Users\\amruk\\Miniconda3\\envs\\enrich\\lib\\site-packages\\sklearn\\metrics\\_classification.py:1344: UndefinedMetricWarning: Precision is ill-defined and being set to 0.0 due to no predicted samples. Use `zero_division` parameter to control this behavior.\n",
      "  _warn_prf(average, modifier, msg_start, len(result))\n",
      "c:\\Users\\amruk\\Miniconda3\\envs\\enrich\\lib\\site-packages\\sklearn\\metrics\\_classification.py:1344: UndefinedMetricWarning: Precision is ill-defined and being set to 0.0 due to no predicted samples. Use `zero_division` parameter to control this behavior.\n",
      "  _warn_prf(average, modifier, msg_start, len(result))\n",
      "c:\\Users\\amruk\\Miniconda3\\envs\\enrich\\lib\\site-packages\\sklearn\\metrics\\_classification.py:1344: UndefinedMetricWarning: Precision is ill-defined and being set to 0.0 due to no predicted samples. Use `zero_division` parameter to control this behavior.\n",
      "  _warn_prf(average, modifier, msg_start, len(result))\n",
      "c:\\Users\\amruk\\Miniconda3\\envs\\enrich\\lib\\site-packages\\sklearn\\metrics\\_classification.py:1344: UndefinedMetricWarning: Precision is ill-defined and being set to 0.0 due to no predicted samples. Use `zero_division` parameter to control this behavior.\n",
      "  _warn_prf(average, modifier, msg_start, len(result))\n",
      "c:\\Users\\amruk\\Miniconda3\\envs\\enrich\\lib\\site-packages\\sklearn\\metrics\\_classification.py:1344: UndefinedMetricWarning: Precision is ill-defined and being set to 0.0 due to no predicted samples. Use `zero_division` parameter to control this behavior.\n",
      "  _warn_prf(average, modifier, msg_start, len(result))\n",
      "c:\\Users\\amruk\\Miniconda3\\envs\\enrich\\lib\\site-packages\\sklearn\\metrics\\_classification.py:1344: UndefinedMetricWarning: Precision is ill-defined and being set to 0.0 due to no predicted samples. Use `zero_division` parameter to control this behavior.\n",
      "  _warn_prf(average, modifier, msg_start, len(result))\n",
      "c:\\Users\\amruk\\Miniconda3\\envs\\enrich\\lib\\site-packages\\sklearn\\metrics\\_classification.py:1344: UndefinedMetricWarning: Precision is ill-defined and being set to 0.0 due to no predicted samples. Use `zero_division` parameter to control this behavior.\n",
      "  _warn_prf(average, modifier, msg_start, len(result))\n",
      "c:\\Users\\amruk\\Miniconda3\\envs\\enrich\\lib\\site-packages\\sklearn\\metrics\\_classification.py:1344: UndefinedMetricWarning: Precision is ill-defined and being set to 0.0 due to no predicted samples. Use `zero_division` parameter to control this behavior.\n",
      "  _warn_prf(average, modifier, msg_start, len(result))\n",
      "c:\\Users\\amruk\\Miniconda3\\envs\\enrich\\lib\\site-packages\\sklearn\\metrics\\_classification.py:1344: UndefinedMetricWarning: Precision is ill-defined and being set to 0.0 due to no predicted samples. Use `zero_division` parameter to control this behavior.\n",
      "  _warn_prf(average, modifier, msg_start, len(result))\n",
      "c:\\Users\\amruk\\Miniconda3\\envs\\enrich\\lib\\site-packages\\sklearn\\metrics\\_classification.py:1344: UndefinedMetricWarning: Precision is ill-defined and being set to 0.0 due to no predicted samples. Use `zero_division` parameter to control this behavior.\n",
      "  _warn_prf(average, modifier, msg_start, len(result))\n",
      "c:\\Users\\amruk\\Miniconda3\\envs\\enrich\\lib\\site-packages\\sklearn\\metrics\\_classification.py:1344: UndefinedMetricWarning: Precision is ill-defined and being set to 0.0 due to no predicted samples. Use `zero_division` parameter to control this behavior.\n",
      "  _warn_prf(average, modifier, msg_start, len(result))\n",
      "c:\\Users\\amruk\\Miniconda3\\envs\\enrich\\lib\\site-packages\\sklearn\\metrics\\_classification.py:1344: UndefinedMetricWarning: Precision is ill-defined and being set to 0.0 due to no predicted samples. Use `zero_division` parameter to control this behavior.\n",
      "  _warn_prf(average, modifier, msg_start, len(result))\n",
      "c:\\Users\\amruk\\Miniconda3\\envs\\enrich\\lib\\site-packages\\sklearn\\metrics\\_classification.py:1344: UndefinedMetricWarning: Precision is ill-defined and being set to 0.0 due to no predicted samples. Use `zero_division` parameter to control this behavior.\n",
      "  _warn_prf(average, modifier, msg_start, len(result))\n",
      "c:\\Users\\amruk\\Miniconda3\\envs\\enrich\\lib\\site-packages\\sklearn\\metrics\\_classification.py:1344: UndefinedMetricWarning: Precision is ill-defined and being set to 0.0 due to no predicted samples. Use `zero_division` parameter to control this behavior.\n",
      "  _warn_prf(average, modifier, msg_start, len(result))\n",
      "c:\\Users\\amruk\\Miniconda3\\envs\\enrich\\lib\\site-packages\\sklearn\\metrics\\_classification.py:1344: UndefinedMetricWarning: Precision is ill-defined and being set to 0.0 due to no predicted samples. Use `zero_division` parameter to control this behavior.\n",
      "  _warn_prf(average, modifier, msg_start, len(result))\n",
      "c:\\Users\\amruk\\Miniconda3\\envs\\enrich\\lib\\site-packages\\sklearn\\metrics\\_classification.py:1344: UndefinedMetricWarning: Precision is ill-defined and being set to 0.0 due to no predicted samples. Use `zero_division` parameter to control this behavior.\n",
      "  _warn_prf(average, modifier, msg_start, len(result))\n",
      "c:\\Users\\amruk\\Miniconda3\\envs\\enrich\\lib\\site-packages\\sklearn\\metrics\\_classification.py:1344: UndefinedMetricWarning: Precision is ill-defined and being set to 0.0 due to no predicted samples. Use `zero_division` parameter to control this behavior.\n",
      "  _warn_prf(average, modifier, msg_start, len(result))\n",
      "c:\\Users\\amruk\\Miniconda3\\envs\\enrich\\lib\\site-packages\\sklearn\\metrics\\_classification.py:1344: UndefinedMetricWarning: Precision is ill-defined and being set to 0.0 due to no predicted samples. Use `zero_division` parameter to control this behavior.\n",
      "  _warn_prf(average, modifier, msg_start, len(result))\n",
      "c:\\Users\\amruk\\Miniconda3\\envs\\enrich\\lib\\site-packages\\sklearn\\metrics\\_classification.py:1344: UndefinedMetricWarning: Precision is ill-defined and being set to 0.0 due to no predicted samples. Use `zero_division` parameter to control this behavior.\n",
      "  _warn_prf(average, modifier, msg_start, len(result))\n",
      "c:\\Users\\amruk\\Miniconda3\\envs\\enrich\\lib\\site-packages\\sklearn\\metrics\\_classification.py:1344: UndefinedMetricWarning: Precision is ill-defined and being set to 0.0 due to no predicted samples. Use `zero_division` parameter to control this behavior.\n",
      "  _warn_prf(average, modifier, msg_start, len(result))\n",
      "c:\\Users\\amruk\\Miniconda3\\envs\\enrich\\lib\\site-packages\\sklearn\\metrics\\_classification.py:1344: UndefinedMetricWarning: Precision is ill-defined and being set to 0.0 due to no predicted samples. Use `zero_division` parameter to control this behavior.\n",
      "  _warn_prf(average, modifier, msg_start, len(result))\n",
      "c:\\Users\\amruk\\Miniconda3\\envs\\enrich\\lib\\site-packages\\sklearn\\metrics\\_classification.py:1344: UndefinedMetricWarning: Precision is ill-defined and being set to 0.0 due to no predicted samples. Use `zero_division` parameter to control this behavior.\n",
      "  _warn_prf(average, modifier, msg_start, len(result))\n",
      "c:\\Users\\amruk\\Miniconda3\\envs\\enrich\\lib\\site-packages\\sklearn\\metrics\\_classification.py:1344: UndefinedMetricWarning: Precision is ill-defined and being set to 0.0 due to no predicted samples. Use `zero_division` parameter to control this behavior.\n",
      "  _warn_prf(average, modifier, msg_start, len(result))\n",
      "c:\\Users\\amruk\\Miniconda3\\envs\\enrich\\lib\\site-packages\\sklearn\\metrics\\_classification.py:1344: UndefinedMetricWarning: Precision is ill-defined and being set to 0.0 due to no predicted samples. Use `zero_division` parameter to control this behavior.\n",
      "  _warn_prf(average, modifier, msg_start, len(result))\n",
      "c:\\Users\\amruk\\Miniconda3\\envs\\enrich\\lib\\site-packages\\sklearn\\metrics\\_classification.py:1344: UndefinedMetricWarning: Precision is ill-defined and being set to 0.0 due to no predicted samples. Use `zero_division` parameter to control this behavior.\n",
      "  _warn_prf(average, modifier, msg_start, len(result))\n",
      "c:\\Users\\amruk\\Miniconda3\\envs\\enrich\\lib\\site-packages\\sklearn\\metrics\\_classification.py:1344: UndefinedMetricWarning: Precision is ill-defined and being set to 0.0 due to no predicted samples. Use `zero_division` parameter to control this behavior.\n",
      "  _warn_prf(average, modifier, msg_start, len(result))\n",
      "c:\\Users\\amruk\\Miniconda3\\envs\\enrich\\lib\\site-packages\\sklearn\\metrics\\_classification.py:1344: UndefinedMetricWarning: Precision is ill-defined and being set to 0.0 due to no predicted samples. Use `zero_division` parameter to control this behavior.\n",
      "  _warn_prf(average, modifier, msg_start, len(result))\n",
      "c:\\Users\\amruk\\Miniconda3\\envs\\enrich\\lib\\site-packages\\sklearn\\metrics\\_classification.py:1344: UndefinedMetricWarning: Precision is ill-defined and being set to 0.0 due to no predicted samples. Use `zero_division` parameter to control this behavior.\n",
      "  _warn_prf(average, modifier, msg_start, len(result))\n",
      "c:\\Users\\amruk\\Miniconda3\\envs\\enrich\\lib\\site-packages\\sklearn\\metrics\\_classification.py:1344: UndefinedMetricWarning: Precision is ill-defined and being set to 0.0 due to no predicted samples. Use `zero_division` parameter to control this behavior.\n",
      "  _warn_prf(average, modifier, msg_start, len(result))\n",
      "c:\\Users\\amruk\\Miniconda3\\envs\\enrich\\lib\\site-packages\\sklearn\\metrics\\_classification.py:1344: UndefinedMetricWarning: Precision is ill-defined and being set to 0.0 due to no predicted samples. Use `zero_division` parameter to control this behavior.\n",
      "  _warn_prf(average, modifier, msg_start, len(result))\n",
      "c:\\Users\\amruk\\Miniconda3\\envs\\enrich\\lib\\site-packages\\sklearn\\metrics\\_classification.py:1344: UndefinedMetricWarning: Precision is ill-defined and being set to 0.0 due to no predicted samples. Use `zero_division` parameter to control this behavior.\n",
      "  _warn_prf(average, modifier, msg_start, len(result))\n",
      "c:\\Users\\amruk\\Miniconda3\\envs\\enrich\\lib\\site-packages\\sklearn\\metrics\\_classification.py:1344: UndefinedMetricWarning: Precision is ill-defined and being set to 0.0 due to no predicted samples. Use `zero_division` parameter to control this behavior.\n",
      "  _warn_prf(average, modifier, msg_start, len(result))\n",
      "c:\\Users\\amruk\\Miniconda3\\envs\\enrich\\lib\\site-packages\\sklearn\\metrics\\_classification.py:1344: UndefinedMetricWarning: Precision is ill-defined and being set to 0.0 due to no predicted samples. Use `zero_division` parameter to control this behavior.\n",
      "  _warn_prf(average, modifier, msg_start, len(result))\n",
      "c:\\Users\\amruk\\Miniconda3\\envs\\enrich\\lib\\site-packages\\sklearn\\metrics\\_classification.py:1344: UndefinedMetricWarning: Precision is ill-defined and being set to 0.0 due to no predicted samples. Use `zero_division` parameter to control this behavior.\n",
      "  _warn_prf(average, modifier, msg_start, len(result))\n",
      "c:\\Users\\amruk\\Miniconda3\\envs\\enrich\\lib\\site-packages\\sklearn\\metrics\\_classification.py:1344: UndefinedMetricWarning: Precision is ill-defined and being set to 0.0 due to no predicted samples. Use `zero_division` parameter to control this behavior.\n",
      "  _warn_prf(average, modifier, msg_start, len(result))\n",
      "c:\\Users\\amruk\\Miniconda3\\envs\\enrich\\lib\\site-packages\\sklearn\\metrics\\_classification.py:1344: UndefinedMetricWarning: Precision is ill-defined and being set to 0.0 due to no predicted samples. Use `zero_division` parameter to control this behavior.\n",
      "  _warn_prf(average, modifier, msg_start, len(result))\n",
      "c:\\Users\\amruk\\Miniconda3\\envs\\enrich\\lib\\site-packages\\sklearn\\metrics\\_classification.py:1344: UndefinedMetricWarning: Precision is ill-defined and being set to 0.0 due to no predicted samples. Use `zero_division` parameter to control this behavior.\n",
      "  _warn_prf(average, modifier, msg_start, len(result))\n",
      "c:\\Users\\amruk\\Miniconda3\\envs\\enrich\\lib\\site-packages\\sklearn\\metrics\\_classification.py:1344: UndefinedMetricWarning: Precision is ill-defined and being set to 0.0 due to no predicted samples. Use `zero_division` parameter to control this behavior.\n",
      "  _warn_prf(average, modifier, msg_start, len(result))\n",
      "c:\\Users\\amruk\\Miniconda3\\envs\\enrich\\lib\\site-packages\\sklearn\\metrics\\_classification.py:1344: UndefinedMetricWarning: Precision is ill-defined and being set to 0.0 due to no predicted samples. Use `zero_division` parameter to control this behavior.\n",
      "  _warn_prf(average, modifier, msg_start, len(result))\n"
     ]
    }
   ],
   "source": [
    "for scorename in scorenames:\n",
    "    scores = pd.read_csv(resfolder+ scorename + \".csv\", index_col=0)\n",
    "    scores = scores.loc[:, not_pre_B]\n",
    "    thresholds = pd.read_csv(\n",
    "        resfolder+ scorename +\"_\" + clustertype + \"_thr\" \".csv\",\n",
    "        index_col=0)\n",
    "    eval = Scores()\n",
    "    for index, row in to_save.iterrows():\n",
    "        gs_score = scores.loc[row[\"ID\"]]\n",
    "        thr = thresholds.loc[row[\"ID\"]].max()\n",
    "        preds = gs_score > thr\n",
    "        preds = preds.astype(int)\n",
    "        true_labels[\"label\"] = true_labels.CellType.isin(\n",
    "            row[\"Celltype\"].split(\" + \")\n",
    "            ).astype(int)\n",
    "        eval.get_classification_scores(true_labels[\"label\"], preds)\n",
    "        eval.save_confusion_matrix(true_labels[\"label\"], preds,\n",
    "                                   resfolder, plottype, scorename, row[\"ID\"])\n",
    "    for i, cls_score in enumerate(eval.scores):\n",
    "        to_save.loc[:, eval.names[i]+scorename] = cls_score\n",
    "\n",
    "to_save.to_csv(resfolder+\"classification_scores_\"+plottype+\".csv\")"
   ]
  },
  {
   "attachments": {},
   "cell_type": "markdown",
   "metadata": {},
   "source": [
    "## Plots"
   ]
  },
  {
   "attachments": {},
   "cell_type": "markdown",
   "metadata": {},
   "source": [
    "### COVID"
   ]
  },
  {
   "cell_type": "code",
   "execution_count": 5,
   "metadata": {},
   "outputs": [
    {
     "data": {
      "text/plain": [
       "Celltype\n",
       "B cell              10\n",
       "B cell + T cell      1\n",
       "NK cell + T cell     2\n",
       "T cell              14\n",
       "Name: Celltype, dtype: int64"
      ]
     },
     "execution_count": 5,
     "metadata": {},
     "output_type": "execute_result"
    }
   ],
   "source": [
    "plotfolder =  \"C:\\\\Users\\\\amruk\\\\source\\\\enrichment-auc\\\\plots\\\\COVID\\\\\"+datatype+\"\\\\\"+plottype+\"\\\\\"+\"classification\\\\\"\n",
    "resfolder =  \"C:\\\\Users\\\\amruk\\\\source\\\\enrichment-auc\\\\results\\\\COVID\\\\\"+datatype+\"\\\\\"\n",
    "covid_df = pd.read_csv(resfolder+\"classification_scores_\"+plottype+\".csv\", index_col=0)\n",
    "groups = covid_df.groupby([\"Celltype\"])[\"Celltype\"].count()\n",
    "groups"
   ]
  },
  {
   "cell_type": "code",
   "execution_count": 6,
   "metadata": {},
   "outputs": [],
   "source": [
    "celltypes = groups[groups > 2].keys().tolist()\n",
    "visualize_methods(covid_df, celltypes, names, plotfolder)"
   ]
  },
  {
   "cell_type": "code",
   "execution_count": 31,
   "metadata": {},
   "outputs": [],
   "source": [
    "resfolder =  \"C:\\\\Users\\\\amruk\\\\source\\\\enrichment-auc\\\\results\\\\COVID\\\\\"+datatype+\"\\\\\"\n",
    "covid_kmeans_df = pd.read_csv(resfolder+\"classification_scores_kmeans.csv\", index_col=0)\n",
    "covid_top1_df = pd.read_csv(resfolder+\"classification_scores_top1.csv\", index_col=0)\n",
    "\n",
    "cols = [\"ID\", \"Title\", \"Celltype\"]\n",
    "covid_top1_df.drop(columns=cols, inplace=True)\n",
    "covid_kmeans_df.drop(columns=cols, inplace=True)"
   ]
  },
  {
   "attachments": {},
   "cell_type": "markdown",
   "metadata": {},
   "source": [
    "### BM"
   ]
  },
  {
   "cell_type": "code",
   "execution_count": 10,
   "metadata": {},
   "outputs": [
    {
     "data": {
      "text/plain": [
       "Celltype\n",
       "B cell              9\n",
       "B cell + T cell     1\n",
       "NK cell             6\n",
       "NK cell + T cell    3\n",
       "Name: Celltype, dtype: int64"
      ]
     },
     "execution_count": 10,
     "metadata": {},
     "output_type": "execute_result"
    }
   ],
   "source": [
    "plotfolder =  \"C:\\\\Users\\\\amruk\\\\source\\\\enrichment-auc\\\\plots\\\\BM\\\\\"+datatype+\"\\\\\"+plottype+\"\\\\\"+\"classification\\\\\"\n",
    "resfolder =  \"C:\\\\Users\\\\amruk\\\\source\\\\enrichment-auc\\\\results\\\\BM\\\\\"+datatype+\"\\\\\"\n",
    "bm_df = pd.read_csv(resfolder+\"classification_scores_\"+plottype+\".csv\", index_col=0)\n",
    "groups = bm_df.groupby([\"Celltype\"])[\"Celltype\"].count()\n",
    "groups"
   ]
  },
  {
   "cell_type": "code",
   "execution_count": 11,
   "metadata": {},
   "outputs": [],
   "source": [
    "celltypes = groups[groups > 2].keys().tolist()\n",
    "visualize_methods(bm_df, celltypes, names, plotfolder)"
   ]
  },
  {
   "cell_type": "code",
   "execution_count": 32,
   "metadata": {},
   "outputs": [],
   "source": [
    "resfolder =  \"C:\\\\Users\\\\amruk\\\\source\\\\enrichment-auc\\\\results\\\\BM\\\\\"+datatype+\"\\\\\"\n",
    "bm_kmeans_df = pd.read_csv(resfolder+\"classification_scores_kmeans.csv\", index_col=0)\n",
    "bm_top1_df = pd.read_csv(resfolder+\"classification_scores_top1.csv\", index_col=0)\n",
    "\n",
    "cols = [\"ID\", \"Title\", \"Celltype\"]\n",
    "bm_top1_df.drop(columns=cols, inplace=True)\n",
    "bm_kmeans_df.drop(columns=cols, inplace=True)"
   ]
  },
  {
   "attachments": {},
   "cell_type": "markdown",
   "metadata": {},
   "source": [
    "### PBMC"
   ]
  },
  {
   "cell_type": "code",
   "execution_count": 12,
   "metadata": {},
   "outputs": [
    {
     "data": {
      "text/plain": [
       "Celltype\n",
       "B cell              10\n",
       "B cell + T cell      1\n",
       "NK cell              7\n",
       "NK cell + T cell     4\n",
       "T cell              14\n",
       "Name: Celltype, dtype: int64"
      ]
     },
     "execution_count": 12,
     "metadata": {},
     "output_type": "execute_result"
    }
   ],
   "source": [
    "plotfolder =  \"C:\\\\Users\\\\amruk\\\\source\\\\enrichment-auc\\\\plots\\\\PBMC\\\\\"+datatype+\"\\\\\"+plottype+\"\\\\\"+\"classification\\\\\"\n",
    "resfolder =  \"C:\\\\Users\\\\amruk\\\\source\\\\enrichment-auc\\\\results\\\\PBMC\\\\\"+datatype+\"\\\\\"\n",
    "pbmc_df = pd.read_csv(resfolder+\"classification_scores_\"+plottype+\".csv\", index_col=0)\n",
    "groups = pbmc_df.groupby([\"Celltype\"])[\"Celltype\"].count()\n",
    "groups"
   ]
  },
  {
   "cell_type": "code",
   "execution_count": 13,
   "metadata": {},
   "outputs": [],
   "source": [
    "celltypes = groups[groups > 2].keys().tolist()\n",
    "visualize_methods(pbmc_df, celltypes, names, plotfolder)"
   ]
  },
  {
   "cell_type": "code",
   "execution_count": 33,
   "metadata": {},
   "outputs": [],
   "source": [
    "resfolder =  \"C:\\\\Users\\\\amruk\\\\source\\\\enrichment-auc\\\\results\\\\PBMC\\\\\"+datatype+\"\\\\\"\n",
    "pbmc_kmeans_df = pd.read_csv(resfolder+\"classification_scores_kmeans.csv\", index_col=0)\n",
    "pbmc_top1_df = pd.read_csv(resfolder+\"classification_scores_top1.csv\", index_col=0)\n",
    "\n",
    "cols = [\"ID\", \"Title\", \"Celltype\"]\n",
    "pbmc_top1_df.drop(columns=cols, inplace=True)\n",
    "pbmc_kmeans_df.drop(columns=cols, inplace=True)"
   ]
  },
  {
   "attachments": {},
   "cell_type": "markdown",
   "metadata": {},
   "source": [
    "### Liver"
   ]
  },
  {
   "cell_type": "code",
   "execution_count": 14,
   "metadata": {},
   "outputs": [
    {
     "data": {
      "text/plain": [
       "Celltype\n",
       "B cell              10\n",
       "B cell + T cell      1\n",
       "NK cell              6\n",
       "NK cell + T cell     4\n",
       "T cell              12\n",
       "Name: Celltype, dtype: int64"
      ]
     },
     "execution_count": 14,
     "metadata": {},
     "output_type": "execute_result"
    }
   ],
   "source": [
    "plotfolder =  \"C:\\\\Users\\\\amruk\\\\source\\\\enrichment-auc\\\\plots\\\\Liver\\\\\"+datatype+\"\\\\\"+plottype+\"\\\\\"+\"classification\\\\\"\n",
    "resfolder =  \"C:\\\\Users\\\\amruk\\\\source\\\\enrichment-auc\\\\results\\\\Liver\\\\\"+datatype+\"\\\\\"\n",
    "liver_df = pd.read_csv(resfolder+\"classification_scores_\"+plottype+\".csv\", index_col=0)\n",
    "groups = liver_df.groupby([\"Celltype\"])[\"Celltype\"].count()\n",
    "groups"
   ]
  },
  {
   "cell_type": "code",
   "execution_count": 15,
   "metadata": {},
   "outputs": [],
   "source": [
    "celltypes = groups[groups > 2].keys().tolist()\n",
    "visualize_methods(liver_df, celltypes, names, plotfolder)"
   ]
  },
  {
   "cell_type": "code",
   "execution_count": 34,
   "metadata": {},
   "outputs": [],
   "source": [
    "resfolder =  \"C:\\\\Users\\\\amruk\\\\source\\\\enrichment-auc\\\\results\\\\Liver\\\\\"+datatype+\"\\\\\"\n",
    "liver_kmeans_df = pd.read_csv(resfolder+\"classification_scores_kmeans.csv\", index_col=0)\n",
    "liver_top1_df = pd.read_csv(resfolder+\"classification_scores_top1.csv\", index_col=0)\n",
    "\n",
    "cols = [\"ID\", \"Title\", \"Celltype\"]\n",
    "liver_top1_df.drop(columns=cols, inplace=True)\n",
    "liver_kmeans_df.drop(columns=cols, inplace=True)"
   ]
  },
  {
   "attachments": {},
   "cell_type": "markdown",
   "metadata": {},
   "source": [
    "### Merged"
   ]
  },
  {
   "cell_type": "code",
   "execution_count": 16,
   "metadata": {},
   "outputs": [
    {
     "data": {
      "text/plain": [
       "Celltype\n",
       "B cell              39\n",
       "B cell + T cell      4\n",
       "NK cell             19\n",
       "NK cell + T cell    13\n",
       "T cell              40\n",
       "Name: Celltype, dtype: int64"
      ]
     },
     "execution_count": 16,
     "metadata": {},
     "output_type": "execute_result"
    }
   ],
   "source": [
    "plotfolder =  \"C:\\\\Users\\\\amruk\\\\source\\\\enrichment-auc\\\\plots\\\\merged\\\\\"+datatype+\"\\\\\"+plottype+\"\\\\\"\n",
    "\n",
    "merged = pd.concat([covid_df, pbmc_df, liver_df, bm_df])\n",
    "groups = merged.groupby([\"Celltype\"])[\"Celltype\"].count()\n",
    "groups"
   ]
  },
  {
   "cell_type": "code",
   "execution_count": 17,
   "metadata": {},
   "outputs": [],
   "source": [
    "celltypes = groups[groups > 2].keys().tolist()\n",
    "visualize_methods(merged, celltypes, names, plotfolder)"
   ]
  },
  {
   "cell_type": "code",
   "execution_count": 35,
   "metadata": {},
   "outputs": [],
   "source": [
    "plotfolder =  \"C:\\\\Users\\\\amruk\\\\source\\\\enrichment-auc\\\\plots\\\\merged\\\\\"+datatype+\"\\\\\"\n",
    "merged_top1 = pd.concat([covid_top1_df, pbmc_top1_df, liver_top1_df, bm_top1_df])\n",
    "merged_kmeans = pd.concat([covid_kmeans_df, pbmc_kmeans_df, liver_kmeans_df, bm_kmeans_df])\n",
    "visualize_difference(merged_top1, merged_kmeans, names, plotfolder)"
   ]
  }
 ],
 "metadata": {
  "kernelspec": {
   "display_name": "enrich",
   "language": "python",
   "name": "python3"
  },
  "language_info": {
   "codemirror_mode": {
    "name": "ipython",
    "version": 3
   },
   "file_extension": ".py",
   "mimetype": "text/x-python",
   "name": "python",
   "nbconvert_exporter": "python",
   "pygments_lexer": "ipython3",
   "version": "3.10.11"
  },
  "orig_nbformat": 4
 },
 "nbformat": 4,
 "nbformat_minor": 2
}
