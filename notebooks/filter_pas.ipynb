{
 "cells": [
  {
   "cell_type": "code",
   "execution_count": 1,
   "metadata": {},
   "outputs": [],
   "source": [
    "import json\n",
    "import numpy as np\n",
    "import pandas as pd\n",
    "import os\n",
    "from tqdm import tqdm"
   ]
  },
  {
   "cell_type": "code",
   "execution_count": 2,
   "metadata": {},
   "outputs": [],
   "source": [
    "dataset = \"Liver\" # \"PBMC\" \"BM\" \"COVID\" \"Liver\"\n",
    "datatype = \"seurat\" # \"row\"\n",
    "datafolder =  \"C:\\\\Users\\\\amruk\\\\source\\\\enrichment-auc\\\\results\\\\\"+dataset+\"\\\\\"+datatype+\"\\\\\""
   ]
  },
  {
   "cell_type": "code",
   "execution_count": 3,
   "metadata": {},
   "outputs": [
    {
     "data": {
      "text/plain": [
       "157"
      ]
     },
     "execution_count": 3,
     "metadata": {},
     "output_type": "execute_result"
    }
   ],
   "source": [
    "with open(\"C:\\\\Users\\\\amruk\\\\source\\\\enrichment-auc\\\\data\\\\\"+dataset+\"\\\\filtered_genesets_genes.json\") as file:\n",
    "    genesets = json.load(file)\n",
    "gs_names = list(genesets.keys())\n",
    "len(genesets)"
   ]
  },
  {
   "cell_type": "code",
   "execution_count": 5,
   "metadata": {},
   "outputs": [],
   "source": [
    "files = sorted([f.name for f in os.scandir(datafolder) if f.is_file()])\n",
    "no_change = ['ranks_gsva.csv', 'ranks_ssgsea.csv', 'times.csv']\n",
    "files = [file for file in files if file not in no_change]"
   ]
  },
  {
   "cell_type": "code",
   "execution_count": 6,
   "metadata": {},
   "outputs": [
    {
     "name": "stdout",
     "output_type": "stream",
     "text": [
      "auc.csv\n",
      "(165, 14852)\n",
      "(157, 14852)\n",
      "aucell.csv\n",
      "(165, 14852)\n",
      "(157, 14852)\n",
      "cerno.csv\n",
      "(165, 14852)\n",
      "(157, 14852)\n",
      "gsva.csv\n",
      "(165, 14852)\n",
      "(157, 14852)\n",
      "jasmine.csv\n",
      "(165, 14852)\n",
      "(157, 14852)\n",
      "mean.csv\n",
      "(165, 14852)\n",
      "(157, 14852)\n",
      "pvals_005.csv\n",
      "(165, 14852)\n",
      "(157, 14852)\n",
      "pvals_cerno005.csv\n",
      "(165, 14852)\n",
      "(157, 14852)\n",
      "qvals_005.csv\n",
      "(165, 14852)\n",
      "(157, 14852)\n",
      "qvals_cerno005.csv\n",
      "(165, 14852)\n",
      "(157, 14852)\n",
      "ratios.csv\n",
      "(165, 14852)\n",
      "(157, 14852)\n",
      "sparse_pca.csv\n",
      "(165, 14852)\n",
      "(157, 14852)\n",
      "ssgsea.csv\n",
      "(165, 14852)\n",
      "(157, 14852)\n",
      "svd.csv\n",
      "(165, 14852)\n",
      "(157, 14852)\n",
      "vision.csv\n",
      "(165, 14852)\n",
      "(157, 14852)\n",
      "z.csv\n",
      "(165, 14852)\n",
      "(157, 14852)\n"
     ]
    }
   ],
   "source": [
    "for file in files:\n",
    "    print(file)\n",
    "    res = pd.read_csv(datafolder+file, index_col=0)\n",
    "    print(res.shape)\n",
    "    res = res.loc[res.index.isin(gs_names)]\n",
    "    print(res.shape)\n",
    "    res.to_csv(datafolder+file, index=True)"
   ]
  }
 ],
 "metadata": {
  "kernelspec": {
   "display_name": "enrich",
   "language": "python",
   "name": "python3"
  },
  "language_info": {
   "codemirror_mode": {
    "name": "ipython",
    "version": 3
   },
   "file_extension": ".py",
   "mimetype": "text/x-python",
   "name": "python",
   "nbconvert_exporter": "python",
   "pygments_lexer": "ipython3",
   "version": "3.10.11"
  },
  "orig_nbformat": 4
 },
 "nbformat": 4,
 "nbformat_minor": 2
}
