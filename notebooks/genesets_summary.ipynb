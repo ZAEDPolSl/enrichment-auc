{
 "cells": [
  {
   "cell_type": "code",
   "execution_count": 1,
   "metadata": {},
   "outputs": [],
   "source": [
    "import json\n",
    "import numpy as np\n",
    "import pandas as pd\n",
    "from tqdm import tqdm"
   ]
  },
  {
   "cell_type": "code",
   "execution_count": 2,
   "metadata": {},
   "outputs": [],
   "source": [
    "dataset = \"PBMC\" # \"PBMC\" \"BM\" \"COVID\" \"Liver\"\n",
    "datatype = \"seurat\" # \"row\"\n",
    "datafolder =  \"C:\\\\Users\\\\amruk\\\\source\\\\enrichment-auc\\\\data\\\\\"+dataset+\"\\\\\""
   ]
  },
  {
   "attachments": {},
   "cell_type": "markdown",
   "metadata": {},
   "source": [
    "## Geneset - remove empty IDs"
   ]
  },
  {
   "cell_type": "code",
   "execution_count": 3,
   "metadata": {},
   "outputs": [
    {
     "data": {
      "text/html": [
       "<div>\n",
       "<style scoped>\n",
       "    .dataframe tbody tr th:only-of-type {\n",
       "        vertical-align: middle;\n",
       "    }\n",
       "\n",
       "    .dataframe tbody tr th {\n",
       "        vertical-align: top;\n",
       "    }\n",
       "\n",
       "    .dataframe thead th {\n",
       "        text-align: right;\n",
       "    }\n",
       "</style>\n",
       "<table border=\"1\" class=\"dataframe\">\n",
       "  <thead>\n",
       "    <tr style=\"text-align: right;\">\n",
       "      <th></th>\n",
       "      <th>ID</th>\n",
       "      <th>Title</th>\n",
       "      <th>source</th>\n",
       "      <th>DataBase</th>\n",
       "    </tr>\n",
       "  </thead>\n",
       "  <tbody>\n",
       "    <tr>\n",
       "      <th>101</th>\n",
       "      <td>Monocyte</td>\n",
       "      <td>Monocyte</td>\n",
       "      <td>CM</td>\n",
       "      <td>CellMarker</td>\n",
       "    </tr>\n",
       "    <tr>\n",
       "      <th>111</th>\n",
       "      <td>Myeloid</td>\n",
       "      <td>Myeloid</td>\n",
       "      <td>CM</td>\n",
       "      <td>CellMarker</td>\n",
       "    </tr>\n",
       "    <tr>\n",
       "      <th>121</th>\n",
       "      <td>Natural killer cell</td>\n",
       "      <td>Natural killer cell</td>\n",
       "      <td>CM</td>\n",
       "      <td>CellMarker</td>\n",
       "    </tr>\n",
       "    <tr>\n",
       "      <th>131</th>\n",
       "      <td>Neutrophil</td>\n",
       "      <td>Neutrophil</td>\n",
       "      <td>CM</td>\n",
       "      <td>CellMarker</td>\n",
       "    </tr>\n",
       "    <tr>\n",
       "      <th>141</th>\n",
       "      <td>T cell</td>\n",
       "      <td>T cell</td>\n",
       "      <td>CM</td>\n",
       "      <td>CellMarker</td>\n",
       "    </tr>\n",
       "  </tbody>\n",
       "</table>\n",
       "</div>"
      ],
      "text/plain": [
       "                      ID                Title source    DataBase\n",
       "101             Monocyte             Monocyte     CM  CellMarker\n",
       "111              Myeloid              Myeloid     CM  CellMarker\n",
       "121  Natural killer cell  Natural killer cell     CM  CellMarker\n",
       "131           Neutrophil           Neutrophil     CM  CellMarker\n",
       "141               T cell               T cell     CM  CellMarker"
      ]
     },
     "execution_count": 3,
     "metadata": {},
     "output_type": "execute_result"
    }
   ],
   "source": [
    "geneset_info = pd.read_csv(datafolder+\"genesets_modules.csv\", index_col=0)\n",
    "geneset_info.tail()"
   ]
  },
  {
   "cell_type": "code",
   "execution_count": 4,
   "metadata": {},
   "outputs": [
    {
     "data": {
      "text/html": [
       "<div>\n",
       "<style scoped>\n",
       "    .dataframe tbody tr th:only-of-type {\n",
       "        vertical-align: middle;\n",
       "    }\n",
       "\n",
       "    .dataframe tbody tr th {\n",
       "        vertical-align: top;\n",
       "    }\n",
       "\n",
       "    .dataframe thead th {\n",
       "        text-align: right;\n",
       "    }\n",
       "</style>\n",
       "<table border=\"1\" class=\"dataframe\">\n",
       "  <thead>\n",
       "    <tr style=\"text-align: right;\">\n",
       "      <th></th>\n",
       "      <th>ID</th>\n",
       "      <th>Title</th>\n",
       "      <th>source</th>\n",
       "      <th>DataBase</th>\n",
       "    </tr>\n",
       "  </thead>\n",
       "  <tbody>\n",
       "    <tr>\n",
       "      <th>101</th>\n",
       "      <td>Monocyte</td>\n",
       "      <td>Monocyte</td>\n",
       "      <td>CM</td>\n",
       "      <td>CellMarker</td>\n",
       "    </tr>\n",
       "    <tr>\n",
       "      <th>111</th>\n",
       "      <td>Myeloid</td>\n",
       "      <td>Myeloid</td>\n",
       "      <td>CM</td>\n",
       "      <td>CellMarker</td>\n",
       "    </tr>\n",
       "    <tr>\n",
       "      <th>121</th>\n",
       "      <td>Natural killer cell</td>\n",
       "      <td>Natural killer cell</td>\n",
       "      <td>CM</td>\n",
       "      <td>CellMarker</td>\n",
       "    </tr>\n",
       "    <tr>\n",
       "      <th>131</th>\n",
       "      <td>Neutrophil</td>\n",
       "      <td>Neutrophil</td>\n",
       "      <td>CM</td>\n",
       "      <td>CellMarker</td>\n",
       "    </tr>\n",
       "    <tr>\n",
       "      <th>141</th>\n",
       "      <td>T cell</td>\n",
       "      <td>T cell</td>\n",
       "      <td>CM</td>\n",
       "      <td>CellMarker</td>\n",
       "    </tr>\n",
       "  </tbody>\n",
       "</table>\n",
       "</div>"
      ],
      "text/plain": [
       "                      ID                Title source    DataBase\n",
       "101             Monocyte             Monocyte     CM  CellMarker\n",
       "111              Myeloid              Myeloid     CM  CellMarker\n",
       "121  Natural killer cell  Natural killer cell     CM  CellMarker\n",
       "131           Neutrophil           Neutrophil     CM  CellMarker\n",
       "141               T cell               T cell     CM  CellMarker"
      ]
     },
     "execution_count": 4,
     "metadata": {},
     "output_type": "execute_result"
    }
   ],
   "source": [
    "geneset_info['ID'] = np.where(geneset_info['ID'] == \"-\", geneset_info['Title'], geneset_info['ID'])\n",
    "geneset_info.tail()"
   ]
  },
  {
   "cell_type": "code",
   "execution_count": 5,
   "metadata": {},
   "outputs": [],
   "source": [
    "geneset_info.to_csv(datafolder+ \"genesets_modules.csv\")"
   ]
  },
  {
   "attachments": {},
   "cell_type": "markdown",
   "metadata": {},
   "source": [
    "## Filter geneset by occuring genes"
   ]
  },
  {
   "cell_type": "code",
   "execution_count": 7,
   "metadata": {},
   "outputs": [],
   "source": [
    "geneset_info = pd.read_csv(datafolder+\"genesets_modules.csv\", index_col=0)\n",
    "gene_expr = pd.read_csv(datafolder + datatype + \"_filtered_data.csv\", index_col=0)\n",
    "patients_names = gene_expr.columns.to_list()\n",
    "genes = gene_expr.index.tolist()\n",
    "gene_expr = gene_expr.to_numpy().astype(float)"
   ]
  },
  {
   "cell_type": "code",
   "execution_count": 8,
   "metadata": {},
   "outputs": [
    {
     "data": {
      "text/plain": [
       "159"
      ]
     },
     "execution_count": 8,
     "metadata": {},
     "output_type": "execute_result"
    }
   ],
   "source": [
    "with open(datafolder + \"genesets_genes.json\") as file:\n",
    "    genesets = json.load(file)\n",
    "gs_names = list(genesets.keys())\n",
    "len(genesets)"
   ]
  },
  {
   "cell_type": "code",
   "execution_count": 8,
   "metadata": {},
   "outputs": [
    {
     "name": "stderr",
     "output_type": "stream",
     "text": [
      "  0%|          | 0/159 [00:00<?, ?it/s]"
     ]
    },
    {
     "name": "stdout",
     "output_type": "stream",
     "text": [
      "Cancer cell 0.3333333333333333 5 15\n"
     ]
    },
    {
     "name": "stderr",
     "output_type": "stream",
     "text": [
      "  7%|▋         | 11/159 [00:00<00:06, 23.47it/s]"
     ]
    },
    {
     "name": "stdout",
     "output_type": "stream",
     "text": [
      "Endothelial cell 0.375 3 8\n"
     ]
    },
    {
     "name": "stderr",
     "output_type": "stream",
     "text": [
      " 10%|█         | 16/159 [00:00<00:06, 20.75it/s]"
     ]
    },
    {
     "name": "stdout",
     "output_type": "stream",
     "text": [
      "hsa04610 0.5411764705882353 46 85\n",
      "hsa04613 0.5157894736842106 98 190\n"
     ]
    },
    {
     "name": "stderr",
     "output_type": "stream",
     "text": [
      " 25%|██▍       | 39/159 [00:02<00:06, 17.99it/s]"
     ]
    },
    {
     "name": "stdout",
     "output_type": "stream",
     "text": [
      "hsa05320 0.5283018867924528 28 53\n",
      "hsa05322 0.3014705882352941 41 136\n"
     ]
    },
    {
     "name": "stderr",
     "output_type": "stream",
     "text": [
      " 33%|███▎      | 52/159 [00:03<00:05, 20.77it/s]"
     ]
    },
    {
     "name": "stdout",
     "output_type": "stream",
     "text": [
      "M39214 0.5979381443298969 58 97\n"
     ]
    },
    {
     "name": "stderr",
     "output_type": "stream",
     "text": [
      " 75%|███████▌  | 120/159 [00:04<00:00, 43.90it/s]"
     ]
    },
    {
     "name": "stdout",
     "output_type": "stream",
     "text": [
      "LI.M156.0 0.5116279069767442 22 43\n",
      "LI.M152.0 0.12 3 25\n",
      "LI.M152.1 0.09523809523809523 2 21\n",
      "LI.M152.2 0.05555555555555555 1 18\n",
      "LI.M217 0.4 4 10\n"
     ]
    },
    {
     "name": "stderr",
     "output_type": "stream",
     "text": [
      " 98%|█████████▊| 156/159 [00:05<00:00, 49.78it/s]"
     ]
    },
    {
     "name": "stdout",
     "output_type": "stream",
     "text": [
      "LI.M61.0 0.5833333333333334 14 24\n",
      "LI.M61.1 0.38461538461538464 5 13\n"
     ]
    },
    {
     "name": "stderr",
     "output_type": "stream",
     "text": [
      "100%|██████████| 159/159 [00:05<00:00, 26.89it/s]\n"
     ]
    }
   ],
   "source": [
    "incorrect = []\n",
    "for i, (gs_name, geneset_genes) in tqdm(enumerate(genesets.items()), total=len(genesets)):\n",
    "    genes_in_ds = [gene in geneset_genes for gene in genes]\n",
    "    in_gs = gene_expr[genes_in_ds, :]\n",
    "    N_gs = in_gs.shape[0]  # number of genes in GS\n",
    "    N_tot = len(genes)  # total number of genes\n",
    "    if round(N_gs/len(geneset_genes), 2) < 0.65:\n",
    "        incorrect.append(gs_name)\n",
    "        print(gs_name, N_gs/len(geneset_genes), N_gs, len(geneset_genes))"
   ]
  },
  {
   "cell_type": "code",
   "execution_count": 9,
   "metadata": {},
   "outputs": [],
   "source": [
    "filtered_geneset_info = geneset_info[~geneset_info['ID'].isin(incorrect)]\n",
    "filtered_genesets = {key: genesets[key] for key in genesets.keys() if key not in incorrect}"
   ]
  },
  {
   "cell_type": "code",
   "execution_count": 10,
   "metadata": {},
   "outputs": [
    {
     "data": {
      "text/plain": [
       "145"
      ]
     },
     "execution_count": 10,
     "metadata": {},
     "output_type": "execute_result"
    }
   ],
   "source": [
    "len(list(filtered_genesets.keys()))"
   ]
  },
  {
   "cell_type": "code",
   "execution_count": 11,
   "metadata": {},
   "outputs": [
    {
     "data": {
      "text/plain": [
       "DataBase\n",
       "CIBERSORT     42\n",
       "CellMarker    12\n",
       "KEGG          25\n",
       "MSigDB        11\n",
       "PanglaoDB      7\n",
       "tmod          41\n",
       "dtype: int64"
      ]
     },
     "execution_count": 11,
     "metadata": {},
     "output_type": "execute_result"
    }
   ],
   "source": [
    "filtered_geneset_info.groupby([\"DataBase\"]).size()"
   ]
  },
  {
   "cell_type": "code",
   "execution_count": 12,
   "metadata": {},
   "outputs": [],
   "source": [
    "filtered_geneset_info.to_csv(datafolder+ \"filtered_genesets_modules.csv\")\n",
    "with open(datafolder + \"filtered_genesets_genes.json\", 'w') as fp:\n",
    "    json.dump(filtered_genesets, fp)"
   ]
  },
  {
   "attachments": {},
   "cell_type": "markdown",
   "metadata": {},
   "source": [
    "## Get genesets for classification scores"
   ]
  },
  {
   "cell_type": "code",
   "execution_count": 110,
   "metadata": {},
   "outputs": [],
   "source": [
    "data_folder =  \"C:\\\\Users\\\\amruk\\\\source\\\\enrichment-auc\\\\data\\\\\"\n",
    "paths = pd.read_csv(data_folder+\"paths_to_cells.txt\", sep='\\t')"
   ]
  },
  {
   "cell_type": "code",
   "execution_count": null,
   "metadata": {},
   "outputs": [],
   "source": [
    "by_celltype = paths[~paths['Celltype'].str.contains(\"monocyte|dendritic\", case=False)]\n",
    "by_celltype['Celltype'] = by_celltype['Celltype'].str.replace('CD4+ T cell; Cytotoxic T cell','T cell')\n",
    "by_celltype['Celltype'] = by_celltype['Celltype'].str.replace('Cytotoxic T cell; CD4+ T cell','T cell')\n",
    "by_celltype['Celltype'] = by_celltype['Celltype'].str.replace('CD4+ T cell','T cell')\n",
    "by_celltype['Celltype'] = by_celltype['Celltype'].str.replace('Cytotoxic T cell','T cell')\n",
    "by_celltype['Celltype'] = by_celltype['Celltype'].str.replace(\"T cell; T cell\",'T cell')\n",
    "by_celltype['Celltype'] = by_celltype['Celltype'].str.replace(\"Natural killer cell\",'NK cell')\n",
    "by_celltype['Celltype'] = by_celltype['Celltype'].str.replace(\"T cell; NK cell\",'NK cell; T cell')\n",
    "\n",
    "by_celltype['Celltype'] = by_celltype['Celltype'].str.replace(\"T cell; NK cell\",'NK cell; T cell')"
   ]
  },
  {
   "cell_type": "code",
   "execution_count": 100,
   "metadata": {},
   "outputs": [
    {
     "data": {
      "text/html": [
       "<div>\n",
       "<style scoped>\n",
       "    .dataframe tbody tr th:only-of-type {\n",
       "        vertical-align: middle;\n",
       "    }\n",
       "\n",
       "    .dataframe tbody tr th {\n",
       "        vertical-align: top;\n",
       "    }\n",
       "\n",
       "    .dataframe thead th {\n",
       "        text-align: right;\n",
       "    }\n",
       "</style>\n",
       "<table border=\"1\" class=\"dataframe\">\n",
       "  <thead>\n",
       "    <tr style=\"text-align: right;\">\n",
       "      <th></th>\n",
       "      <th>ID</th>\n",
       "      <th>Title</th>\n",
       "      <th>Category</th>\n",
       "      <th>Database</th>\n",
       "      <th>GSsize</th>\n",
       "      <th>GenesInGS</th>\n",
       "      <th>Perc</th>\n",
       "      <th>Celltype</th>\n",
       "      <th>Celltype_unclear</th>\n",
       "    </tr>\n",
       "  </thead>\n",
       "  <tbody>\n",
       "    <tr>\n",
       "      <th>Sig.:21</th>\n",
       "      <td>Sig.:21</td>\n",
       "      <td>T CELLS GAMMA DELTA</td>\n",
       "      <td>Signature of PBMC</td>\n",
       "      <td>Signature</td>\n",
       "      <td>36</td>\n",
       "      <td>35</td>\n",
       "      <td>97.222222</td>\n",
       "      <td>other</td>\n",
       "      <td>no</td>\n",
       "    </tr>\n",
       "  </tbody>\n",
       "</table>\n",
       "</div>"
      ],
      "text/plain": [
       "              ID                Title           Category   Database  GSsize   \n",
       "Sig.:21  Sig.:21  T CELLS GAMMA DELTA  Signature of PBMC  Signature      36  \\\n",
       "\n",
       "         GenesInGS       Perc Celltype Celltype_unclear  \n",
       "Sig.:21         35  97.222222    other               no  "
      ]
     },
     "execution_count": 100,
     "metadata": {},
     "output_type": "execute_result"
    }
   ],
   "source": [
    "title_condition = by_celltype['Title'].str.contains(\"nk cell|natural killer|b cell|t cell\", case=False)\n",
    "other_cells = by_celltype['Celltype'].str.contains(\"other|unknown\", case=False)\n",
    "not_mast = ~by_celltype['Title'].str.contains(\"mast cell\", case=False)\n",
    "other_applicable = by_celltype[title_condition & other_cells & not_mast]\n",
    "other_applicable"
   ]
  },
  {
   "cell_type": "code",
   "execution_count": null,
   "metadata": {},
   "outputs": [],
   "source": [
    "other_applicable[\"Celltype\"] = \" T cell\""
   ]
  },
  {
   "cell_type": "code",
   "execution_count": 106,
   "metadata": {},
   "outputs": [],
   "source": [
    "chosen = pd.concat([by_celltype[by_celltype['Celltype'].str.contains(\"nk cell|natural killer|t cell|b cell\", case=False)], other_applicable])"
   ]
  },
  {
   "cell_type": "code",
   "execution_count": 114,
   "metadata": {},
   "outputs": [
    {
     "data": {
      "text/html": [
       "<div>\n",
       "<style scoped>\n",
       "    .dataframe tbody tr th:only-of-type {\n",
       "        vertical-align: middle;\n",
       "    }\n",
       "\n",
       "    .dataframe tbody tr th {\n",
       "        vertical-align: top;\n",
       "    }\n",
       "\n",
       "    .dataframe thead th {\n",
       "        text-align: right;\n",
       "    }\n",
       "</style>\n",
       "<table border=\"1\" class=\"dataframe\">\n",
       "  <thead>\n",
       "    <tr style=\"text-align: right;\">\n",
       "      <th></th>\n",
       "      <th>ID</th>\n",
       "      <th>Title</th>\n",
       "      <th>Category</th>\n",
       "      <th>Database</th>\n",
       "      <th>GSsize</th>\n",
       "      <th>GenesInGS</th>\n",
       "      <th>Perc</th>\n",
       "      <th>Celltype</th>\n",
       "      <th>Celltype_unclear</th>\n",
       "    </tr>\n",
       "  </thead>\n",
       "  <tbody>\n",
       "    <tr>\n",
       "      <th>hsa04062</th>\n",
       "      <td>hsa04062</td>\n",
       "      <td>KEGG: Chemokine signaling pathway</td>\n",
       "      <td>KEGG: Organismal Systems; Immune system</td>\n",
       "      <td>KEGG</td>\n",
       "      <td>192</td>\n",
       "      <td>139</td>\n",
       "      <td>72.395833</td>\n",
       "      <td>T cell</td>\n",
       "      <td>no</td>\n",
       "    </tr>\n",
       "    <tr>\n",
       "      <th>hsa04610</th>\n",
       "      <td>hsa04610</td>\n",
       "      <td>KEGG: Complement and coagulation cascades</td>\n",
       "      <td>KEGG: Organismal Systems; Immune system</td>\n",
       "      <td>KEGG</td>\n",
       "      <td>85</td>\n",
       "      <td>46</td>\n",
       "      <td>54.117647</td>\n",
       "      <td>B cell; T cell</td>\n",
       "      <td>no</td>\n",
       "    </tr>\n",
       "    <tr>\n",
       "      <th>hsa04612</th>\n",
       "      <td>hsa04612</td>\n",
       "      <td>KEGG: Antigen processing and presentation</td>\n",
       "      <td>KEGG: Organismal Systems; Immune system</td>\n",
       "      <td>KEGG</td>\n",
       "      <td>78</td>\n",
       "      <td>66</td>\n",
       "      <td>84.615385</td>\n",
       "      <td>NK cell; T cell</td>\n",
       "      <td>no</td>\n",
       "    </tr>\n",
       "    <tr>\n",
       "      <th>hsa04650</th>\n",
       "      <td>hsa04650</td>\n",
       "      <td>KEGG: Natural killer cell mediated cytotoxicity</td>\n",
       "      <td>KEGG: Organismal Systems; Immune system</td>\n",
       "      <td>KEGG</td>\n",
       "      <td>131</td>\n",
       "      <td>94</td>\n",
       "      <td>71.755725</td>\n",
       "      <td>NK cell</td>\n",
       "      <td>no</td>\n",
       "    </tr>\n",
       "    <tr>\n",
       "      <th>hsa04657</th>\n",
       "      <td>hsa04657</td>\n",
       "      <td>KEGG: IL-17 signaling pathway</td>\n",
       "      <td>KEGG: Organismal Systems; Immune system</td>\n",
       "      <td>KEGG</td>\n",
       "      <td>94</td>\n",
       "      <td>63</td>\n",
       "      <td>67.021277</td>\n",
       "      <td>NK cell; T cell</td>\n",
       "      <td>no</td>\n",
       "    </tr>\n",
       "  </tbody>\n",
       "</table>\n",
       "</div>"
      ],
      "text/plain": [
       "                ID                                            Title   \n",
       "hsa04062  hsa04062                KEGG: Chemokine signaling pathway  \\\n",
       "hsa04610  hsa04610        KEGG: Complement and coagulation cascades   \n",
       "hsa04612  hsa04612        KEGG: Antigen processing and presentation   \n",
       "hsa04650  hsa04650  KEGG: Natural killer cell mediated cytotoxicity   \n",
       "hsa04657  hsa04657                    KEGG: IL-17 signaling pathway   \n",
       "\n",
       "                                         Category Database  GSsize  GenesInGS   \n",
       "hsa04062  KEGG: Organismal Systems; Immune system     KEGG     192        139  \\\n",
       "hsa04610  KEGG: Organismal Systems; Immune system     KEGG      85         46   \n",
       "hsa04612  KEGG: Organismal Systems; Immune system     KEGG      78         66   \n",
       "hsa04650  KEGG: Organismal Systems; Immune system     KEGG     131         94   \n",
       "hsa04657  KEGG: Organismal Systems; Immune system     KEGG      94         63   \n",
       "\n",
       "               Perc         Celltype Celltype_unclear  \n",
       "hsa04062  72.395833           T cell               no  \n",
       "hsa04610  54.117647   B cell; T cell               no  \n",
       "hsa04612  84.615385  NK cell; T cell               no  \n",
       "hsa04650  71.755725          NK cell               no  \n",
       "hsa04657  67.021277  NK cell; T cell               no  "
      ]
     },
     "execution_count": 114,
     "metadata": {},
     "output_type": "execute_result"
    }
   ],
   "source": [
    "chosen.head()"
   ]
  },
  {
   "cell_type": "code",
   "execution_count": 128,
   "metadata": {},
   "outputs": [
    {
     "data": {
      "text/plain": [
       "(69, 9)"
      ]
     },
     "execution_count": 128,
     "metadata": {},
     "output_type": "execute_result"
    }
   ],
   "source": [
    "chosen.shape"
   ]
  },
  {
   "cell_type": "code",
   "execution_count": 129,
   "metadata": {},
   "outputs": [],
   "source": [
    "chosen.to_csv(data_folder+\"chosen_paths.txt\", sep='\\t', mode='a')"
   ]
  }
 ],
 "metadata": {
  "kernelspec": {
   "display_name": "enrich",
   "language": "python",
   "name": "python3"
  },
  "language_info": {
   "codemirror_mode": {
    "name": "ipython",
    "version": 3
   },
   "file_extension": ".py",
   "mimetype": "text/x-python",
   "name": "python",
   "nbconvert_exporter": "python",
   "pygments_lexer": "ipython3",
   "version": "3.10.11"
  },
  "orig_nbformat": 4
 },
 "nbformat": 4,
 "nbformat_minor": 2
}
