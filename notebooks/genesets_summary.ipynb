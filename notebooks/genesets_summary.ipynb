{
 "cells": [
  {
   "cell_type": "code",
   "execution_count": 1,
   "metadata": {},
   "outputs": [],
   "source": [
    "import json\n",
    "import numpy as np\n",
    "import pandas as pd\n",
    "from tqdm import tqdm"
   ]
  },
  {
   "cell_type": "code",
   "execution_count": 2,
   "metadata": {},
   "outputs": [],
   "source": [
    "dataset = \"Liver\"\n",
    "datatype = \"log2\"\n",
    "datafolder =  \"C:\\\\Users\\\\amruk\\\\source\\\\enrichment-auc\\\\data\\\\\"+dataset+\"\\\\\"\n",
    "resfolder =  \"C:\\\\Users\\\\amruk\\\\source\\\\enrichment-auc\\\\results\\\\\"+dataset+\"\\\\\"+datatype+\"\\\\\""
   ]
  },
  {
   "attachments": {},
   "cell_type": "markdown",
   "metadata": {},
   "source": [
    "## Geneset - remove empty IDs"
   ]
  },
  {
   "cell_type": "code",
   "execution_count": 3,
   "metadata": {},
   "outputs": [
    {
     "data": {
      "text/html": [
       "<div>\n",
       "<style scoped>\n",
       "    .dataframe tbody tr th:only-of-type {\n",
       "        vertical-align: middle;\n",
       "    }\n",
       "\n",
       "    .dataframe tbody tr th {\n",
       "        vertical-align: top;\n",
       "    }\n",
       "\n",
       "    .dataframe thead th {\n",
       "        text-align: right;\n",
       "    }\n",
       "</style>\n",
       "<table border=\"1\" class=\"dataframe\">\n",
       "  <thead>\n",
       "    <tr style=\"text-align: right;\">\n",
       "      <th></th>\n",
       "      <th>ID</th>\n",
       "      <th>Title</th>\n",
       "      <th>source</th>\n",
       "      <th>DataBase</th>\n",
       "    </tr>\n",
       "  </thead>\n",
       "  <tbody>\n",
       "    <tr>\n",
       "      <th>210</th>\n",
       "      <td>Endothelial cell</td>\n",
       "      <td>Endothelial cell</td>\n",
       "      <td>CM</td>\n",
       "      <td>CellMarker</td>\n",
       "    </tr>\n",
       "    <tr>\n",
       "      <th>35</th>\n",
       "      <td>Kupffer cell</td>\n",
       "      <td>Kupffer cell</td>\n",
       "      <td>CM</td>\n",
       "      <td>CellMarker</td>\n",
       "    </tr>\n",
       "    <tr>\n",
       "      <th>41</th>\n",
       "      <td>Liver bud hepatic cell</td>\n",
       "      <td>Liver bud hepatic cell</td>\n",
       "      <td>CM</td>\n",
       "      <td>CellMarker</td>\n",
       "    </tr>\n",
       "    <tr>\n",
       "      <th>51</th>\n",
       "      <td>Mesenchymal cell</td>\n",
       "      <td>Mesenchymal cell</td>\n",
       "      <td>CM</td>\n",
       "      <td>CellMarker</td>\n",
       "    </tr>\n",
       "    <tr>\n",
       "      <th>61</th>\n",
       "      <td>T cell</td>\n",
       "      <td>T cell</td>\n",
       "      <td>CM</td>\n",
       "      <td>CellMarker</td>\n",
       "    </tr>\n",
       "  </tbody>\n",
       "</table>\n",
       "</div>"
      ],
      "text/plain": [
       "                         ID                   Title source    DataBase\n",
       "210        Endothelial cell        Endothelial cell     CM  CellMarker\n",
       "35             Kupffer cell            Kupffer cell     CM  CellMarker\n",
       "41   Liver bud hepatic cell  Liver bud hepatic cell     CM  CellMarker\n",
       "51         Mesenchymal cell        Mesenchymal cell     CM  CellMarker\n",
       "61                   T cell                  T cell     CM  CellMarker"
      ]
     },
     "execution_count": 3,
     "metadata": {},
     "output_type": "execute_result"
    }
   ],
   "source": [
    "geneset_info = pd.read_csv(datafolder+\"genesets_modules.csv\", index_col=0)\n",
    "geneset_info.tail()"
   ]
  },
  {
   "cell_type": "code",
   "execution_count": 4,
   "metadata": {},
   "outputs": [
    {
     "data": {
      "text/html": [
       "<div>\n",
       "<style scoped>\n",
       "    .dataframe tbody tr th:only-of-type {\n",
       "        vertical-align: middle;\n",
       "    }\n",
       "\n",
       "    .dataframe tbody tr th {\n",
       "        vertical-align: top;\n",
       "    }\n",
       "\n",
       "    .dataframe thead th {\n",
       "        text-align: right;\n",
       "    }\n",
       "</style>\n",
       "<table border=\"1\" class=\"dataframe\">\n",
       "  <thead>\n",
       "    <tr style=\"text-align: right;\">\n",
       "      <th></th>\n",
       "      <th>ID</th>\n",
       "      <th>Title</th>\n",
       "      <th>source</th>\n",
       "      <th>DataBase</th>\n",
       "    </tr>\n",
       "  </thead>\n",
       "  <tbody>\n",
       "    <tr>\n",
       "      <th>210</th>\n",
       "      <td>Endothelial cell</td>\n",
       "      <td>Endothelial cell</td>\n",
       "      <td>CM</td>\n",
       "      <td>CellMarker</td>\n",
       "    </tr>\n",
       "    <tr>\n",
       "      <th>35</th>\n",
       "      <td>Kupffer cell</td>\n",
       "      <td>Kupffer cell</td>\n",
       "      <td>CM</td>\n",
       "      <td>CellMarker</td>\n",
       "    </tr>\n",
       "    <tr>\n",
       "      <th>41</th>\n",
       "      <td>Liver bud hepatic cell</td>\n",
       "      <td>Liver bud hepatic cell</td>\n",
       "      <td>CM</td>\n",
       "      <td>CellMarker</td>\n",
       "    </tr>\n",
       "    <tr>\n",
       "      <th>51</th>\n",
       "      <td>Mesenchymal cell</td>\n",
       "      <td>Mesenchymal cell</td>\n",
       "      <td>CM</td>\n",
       "      <td>CellMarker</td>\n",
       "    </tr>\n",
       "    <tr>\n",
       "      <th>61</th>\n",
       "      <td>T cell</td>\n",
       "      <td>T cell</td>\n",
       "      <td>CM</td>\n",
       "      <td>CellMarker</td>\n",
       "    </tr>\n",
       "  </tbody>\n",
       "</table>\n",
       "</div>"
      ],
      "text/plain": [
       "                         ID                   Title source    DataBase\n",
       "210        Endothelial cell        Endothelial cell     CM  CellMarker\n",
       "35             Kupffer cell            Kupffer cell     CM  CellMarker\n",
       "41   Liver bud hepatic cell  Liver bud hepatic cell     CM  CellMarker\n",
       "51         Mesenchymal cell        Mesenchymal cell     CM  CellMarker\n",
       "61                   T cell                  T cell     CM  CellMarker"
      ]
     },
     "execution_count": 4,
     "metadata": {},
     "output_type": "execute_result"
    }
   ],
   "source": [
    "geneset_info['ID'] = np.where(geneset_info['ID'] == \"-\", geneset_info['Title'], geneset_info['ID'])\n",
    "geneset_info.tail()"
   ]
  },
  {
   "cell_type": "code",
   "execution_count": 5,
   "metadata": {},
   "outputs": [],
   "source": [
    "geneset_info.to_csv(datafolder+ \"genesets_modules.csv\")"
   ]
  },
  {
   "attachments": {},
   "cell_type": "markdown",
   "metadata": {},
   "source": [
    "## Filter geneset by occuring genes"
   ]
  },
  {
   "cell_type": "code",
   "execution_count": 6,
   "metadata": {},
   "outputs": [],
   "source": [
    "geneset_info = pd.read_csv(datafolder+\"genesets_modules.csv\", index_col=0)\n",
    "gene_expr = pd.read_csv(datafolder + datatype + \"_filtered_data.csv\", index_col=0)\n",
    "patients_names = gene_expr.columns.to_list()\n",
    "genes = gene_expr.index.tolist()\n",
    "gene_expr = gene_expr.to_numpy().astype(float)"
   ]
  },
  {
   "cell_type": "code",
   "execution_count": 7,
   "metadata": {},
   "outputs": [],
   "source": [
    "with open(datafolder + \"genesets_genes.json\") as file:\n",
    "    genesets = json.load(file)\n",
    "gs_names = list(genesets.keys())"
   ]
  },
  {
   "cell_type": "code",
   "execution_count": 8,
   "metadata": {},
   "outputs": [
    {
     "name": "stderr",
     "output_type": "stream",
     "text": [
      "100%|██████████| 168/168 [00:03<00:00, 44.05it/s] \n"
     ]
    }
   ],
   "source": [
    "incorrect = []\n",
    "for i, (gs_name, geneset_genes) in tqdm(enumerate(genesets.items()), total=len(genesets)):\n",
    "    genes_in_ds = [gene in geneset_genes for gene in genes]\n",
    "    in_gs = gene_expr[genes_in_ds, :]\n",
    "    N_gs = in_gs.shape[0]  # number of genes in GS\n",
    "    N_tot = len(genes)  # total number of genes\n",
    "    if N_gs == 0:\n",
    "        incorrect.append(gs_name)"
   ]
  },
  {
   "cell_type": "code",
   "execution_count": 9,
   "metadata": {},
   "outputs": [],
   "source": [
    "filtered_geneset_info = geneset_info[~geneset_info['ID'].isin(incorrect)]\n",
    "filtered_genesets = {key: genesets[key] for key in genesets.keys() if key not in incorrect}"
   ]
  },
  {
   "cell_type": "code",
   "execution_count": 11,
   "metadata": {},
   "outputs": [
    {
     "data": {
      "text/plain": [
       "160"
      ]
     },
     "execution_count": 11,
     "metadata": {},
     "output_type": "execute_result"
    }
   ],
   "source": [
    "len(filtered_genesets)"
   ]
  },
  {
   "cell_type": "code",
   "execution_count": 12,
   "metadata": {},
   "outputs": [
    {
     "data": {
      "text/plain": [
       "DataBase\n",
       "CIBERSORT     45\n",
       "CellMarker     6\n",
       "KEGG          29\n",
       "MSigDB        34\n",
       "PanglaoDB     13\n",
       "tmod          26\n",
       "dtype: int64"
      ]
     },
     "execution_count": 12,
     "metadata": {},
     "output_type": "execute_result"
    }
   ],
   "source": [
    "filtered_geneset_info.groupby([\"DataBase\"]).size()"
   ]
  },
  {
   "cell_type": "code",
   "execution_count": 13,
   "metadata": {},
   "outputs": [],
   "source": [
    "filtered_geneset_info.to_csv(datafolder+ \"genesets_modules.csv\")\n",
    "with open(datafolder + \"genesets_genes.json\", 'w') as fp:\n",
    "    json.dump(filtered_genesets, fp)"
   ]
  }
 ],
 "metadata": {
  "kernelspec": {
   "display_name": "enrich",
   "language": "python",
   "name": "python3"
  },
  "language_info": {
   "codemirror_mode": {
    "name": "ipython",
    "version": 3
   },
   "file_extension": ".py",
   "mimetype": "text/x-python",
   "name": "python",
   "nbconvert_exporter": "python",
   "pygments_lexer": "ipython3",
   "version": "3.10.10"
  },
  "orig_nbformat": 4
 },
 "nbformat": 4,
 "nbformat_minor": 2
}
