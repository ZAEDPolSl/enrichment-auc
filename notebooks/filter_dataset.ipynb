{
 "cells": [
  {
   "attachments": {},
   "cell_type": "markdown",
   "id": "f2cab688",
   "metadata": {},
   "source": [
    "## PBMC"
   ]
  },
  {
   "cell_type": "code",
   "execution_count": null,
   "id": "94daff48-7e02-4963-a46b-67d003ffc2cb",
   "metadata": {},
   "outputs": [],
   "source": [
    "import numpy as np\n",
    "import pandas as pd\n",
    "from divik._matlab_legacy import find_thresholds\n",
    "import matplotlib.pyplot as plt\n",
    "import seaborn as sns"
   ]
  },
  {
   "cell_type": "code",
   "execution_count": 2,
   "id": "8eaf6627-fc0c-4c29-aac8-e9166498cf31",
   "metadata": {},
   "outputs": [],
   "source": [
    "data = pd.read_csv(\"data.csv\", index_col=0)"
   ]
  },
  {
   "cell_type": "code",
   "execution_count": 3,
   "id": "17f4e03c-690d-48d7-8248-b8f38d24d377",
   "metadata": {},
   "outputs": [
    {
     "data": {
      "text/plain": [
       "(33694, 3222)"
      ]
     },
     "execution_count": 3,
     "metadata": {},
     "output_type": "execute_result"
    }
   ],
   "source": [
    "data.shape"
   ]
  },
  {
   "cell_type": "code",
   "execution_count": 4,
   "id": "af378a0a-52b4-43ea-b2d7-4216498b8202",
   "metadata": {},
   "outputs": [
    {
     "data": {
      "text/plain": [
       "[]"
      ]
     },
     "execution_count": 4,
     "metadata": {},
     "output_type": "execute_result"
    }
   ],
   "source": [
    "data.columns[data.isna().any()].tolist()"
   ]
  },
  {
   "cell_type": "code",
   "execution_count": 5,
   "id": "8090a1e8-544e-4fbf-82ab-50e254a273ae",
   "metadata": {},
   "outputs": [],
   "source": [
    "x = np.count_nonzero(data, axis=1)\n",
    "x = np.log(x+np.full(x.shape,1))"
   ]
  },
  {
   "cell_type": "code",
   "execution_count": 6,
   "id": "2d970452-5c4b-4626-8e9b-bc960f649752",
   "metadata": {},
   "outputs": [
    {
     "name": "stderr",
     "output_type": "stream",
     "text": [
      "/opt/conda/lib/python3.8/site-packages/seaborn/distributions.py:2619: FutureWarning: `distplot` is a deprecated function and will be removed in a future version. Please adapt your code to use either `displot` (a figure-level function with similar flexibility) or `histplot` (an axes-level function for histograms).\n",
      "  warnings.warn(msg, FutureWarning)\n"
     ]
    },
    {
     "data": {
      "text/plain": [
       "<AxesSubplot:ylabel='Density'>"
      ]
     },
     "execution_count": 6,
     "metadata": {},
     "output_type": "execute_result"
    },
    {
     "data": {
      "image/png": "[encoded data removed]",
      "text/plain": [
       "<Figure size 504x360 with 1 Axes>"
      ]
     },
     "metadata": {
      "needs_background": "light"
     },
     "output_type": "display_data"
    }
   ],
   "source": [
    "plt.figure(figsize=(7,5))\n",
    "sns.distplot(x)"
   ]
  },
  {
   "cell_type": "code",
   "execution_count": 43,
   "id": "6d6c966d-fe68-4fc0-b953-d58bcdbb0eed",
   "metadata": {},
   "outputs": [
    {
     "data": {
      "text/plain": [
       "array([4.99209389e-03, 7.02826950e-01, 1.11058349e+00, 1.39961916e+00,\n",
       "       1.62376517e+00, 1.80585203e+00, 2.38739252e+00, 3.27126684e+00,\n",
       "       7.89715933e+00])"
      ]
     },
     "execution_count": 43,
     "metadata": {},
     "output_type": "execute_result"
    }
   ],
   "source": [
    "find_thresholds(x, max_components=10)"
   ]
  },
  {
   "cell_type": "code",
   "execution_count": 47,
   "id": "a77fcb16-bb88-45c0-8a10-5e1c5c9950c9",
   "metadata": {},
   "outputs": [],
   "source": [
    "thr = 1.6"
   ]
  },
  {
   "cell_type": "code",
   "execution_count": 49,
   "id": "42172aff-ff8f-42c2-8b62-9ed030278a00",
   "metadata": {},
   "outputs": [],
   "source": [
    "is_in_filtered = x > thr"
   ]
  },
  {
   "cell_type": "code",
   "execution_count": 52,
   "id": "1cda7cfc-8ae1-40ec-b3a4-5eb9bad361a2",
   "metadata": {},
   "outputs": [],
   "source": [
    "filtered = data[is_in_filtered]"
   ]
  },
  {
   "cell_type": "code",
   "execution_count": 53,
   "id": "7e79e465-0d64-49d8-9c2d-8ff6f425a471",
   "metadata": {},
   "outputs": [
    {
     "data": {
      "text/plain": [
       "(15821, 3222)"
      ]
     },
     "execution_count": 53,
     "metadata": {},
     "output_type": "execute_result"
    }
   ],
   "source": [
    "filtered.shape"
   ]
  },
  {
   "cell_type": "code",
   "execution_count": 59,
   "id": "2aca90e1-2f77-4b99-84be-d7958c209a26",
   "metadata": {},
   "outputs": [],
   "source": [
    "filtered = pd.DataFrame(filtered)\n",
    "filtered.to_csv(\"filtered_pbmc.csv\")"
   ]
  },
  {
   "attachments": {},
   "cell_type": "markdown",
   "id": "87f4848b",
   "metadata": {},
   "source": [
    "## Data preprocessing"
   ]
  },
  {
   "cell_type": "code",
   "execution_count": 1,
   "id": "0a388c2e",
   "metadata": {},
   "outputs": [],
   "source": [
    "import numpy as np\n",
    "import pandas as pd\n",
    "import matplotlib.pyplot as plt\n",
    "import seaborn as sns"
   ]
  },
  {
   "cell_type": "code",
   "execution_count": 188,
   "id": "5e5af8d1",
   "metadata": {},
   "outputs": [],
   "source": [
    "datatype = \"raw_counts\"\n",
    "# datatype = \"log2\""
   ]
  },
  {
   "attachments": {},
   "cell_type": "markdown",
   "id": "18eec102",
   "metadata": {},
   "source": [
    "### Liver & breast cancer"
   ]
  },
  {
   "cell_type": "code",
   "execution_count": 189,
   "id": "ccb18bc7",
   "metadata": {},
   "outputs": [],
   "source": [
    "folder = \"Liver\"\n",
    "# folder = \"BreastCancer\""
   ]
  },
  {
   "cell_type": "code",
   "execution_count": 190,
   "id": "565f8826",
   "metadata": {},
   "outputs": [
    {
     "data": {
      "text/html": [
       "<div>\n",
       "<style scoped>\n",
       "    .dataframe tbody tr th:only-of-type {\n",
       "        vertical-align: middle;\n",
       "    }\n",
       "\n",
       "    .dataframe tbody tr th {\n",
       "        vertical-align: top;\n",
       "    }\n",
       "\n",
       "    .dataframe thead th {\n",
       "        text-align: right;\n",
       "    }\n",
       "</style>\n",
       "<table border=\"1\" class=\"dataframe\">\n",
       "  <thead>\n",
       "    <tr style=\"text-align: right;\">\n",
       "      <th></th>\n",
       "      <th>external_gene_name</th>\n",
       "    </tr>\n",
       "    <tr>\n",
       "      <th>genes</th>\n",
       "      <th></th>\n",
       "    </tr>\n",
       "  </thead>\n",
       "  <tbody>\n",
       "    <tr>\n",
       "      <th>ENSG00000000003</th>\n",
       "      <td>TSPAN6</td>\n",
       "    </tr>\n",
       "    <tr>\n",
       "      <th>ENSG00000000005</th>\n",
       "      <td>TNMD</td>\n",
       "    </tr>\n",
       "    <tr>\n",
       "      <th>ENSG00000000419</th>\n",
       "      <td>DPM1</td>\n",
       "    </tr>\n",
       "    <tr>\n",
       "      <th>ENSG00000000457</th>\n",
       "      <td>SCYL3</td>\n",
       "    </tr>\n",
       "    <tr>\n",
       "      <th>ENSG00000000460</th>\n",
       "      <td>C1orf112</td>\n",
       "    </tr>\n",
       "  </tbody>\n",
       "</table>\n",
       "</div>"
      ],
      "text/plain": [
       "                external_gene_name\n",
       "genes                             \n",
       "ENSG00000000003             TSPAN6\n",
       "ENSG00000000005               TNMD\n",
       "ENSG00000000419               DPM1\n",
       "ENSG00000000457              SCYL3\n",
       "ENSG00000000460           C1orf112"
      ]
     },
     "execution_count": 190,
     "metadata": {},
     "output_type": "execute_result"
    }
   ],
   "source": [
    "genes = pd.read_csv(\"data/\"+folder+\"/genes.csv\", usecols=[\"genes\", \"external_gene_name\"], index_col=\"genes\")\n",
    "genes.head()"
   ]
  },
  {
   "cell_type": "code",
   "execution_count": 191,
   "id": "60357c73",
   "metadata": {},
   "outputs": [
    {
     "data": {
      "text/plain": [
       "62"
      ]
     },
     "execution_count": 191,
     "metadata": {},
     "output_type": "execute_result"
    }
   ],
   "source": [
    "genes.isnull().values.sum()"
   ]
  },
  {
   "cell_type": "code",
   "execution_count": 192,
   "id": "7e14fae0",
   "metadata": {},
   "outputs": [],
   "source": [
    "genes.dropna(inplace=True)"
   ]
  },
  {
   "cell_type": "code",
   "execution_count": 193,
   "id": "8d63db31",
   "metadata": {},
   "outputs": [],
   "source": [
    "v = genes[genes.duplicated('external_gene_name', keep=False)].index.tolist()"
   ]
  },
  {
   "cell_type": "code",
   "execution_count": 194,
   "id": "ce4a6890",
   "metadata": {},
   "outputs": [
    {
     "data": {
      "text/html": [
       "<div>\n",
       "<style scoped>\n",
       "    .dataframe tbody tr th:only-of-type {\n",
       "        vertical-align: middle;\n",
       "    }\n",
       "\n",
       "    .dataframe tbody tr th {\n",
       "        vertical-align: top;\n",
       "    }\n",
       "\n",
       "    .dataframe thead th {\n",
       "        text-align: right;\n",
       "    }\n",
       "</style>\n",
       "<table border=\"1\" class=\"dataframe\">\n",
       "  <thead>\n",
       "    <tr style=\"text-align: right;\">\n",
       "      <th></th>\n",
       "      <th>external_gene_name</th>\n",
       "    </tr>\n",
       "    <tr>\n",
       "      <th>genes</th>\n",
       "      <th></th>\n",
       "    </tr>\n",
       "  </thead>\n",
       "  <tbody>\n",
       "    <tr>\n",
       "      <th>ENSG00000188626</th>\n",
       "      <td>GOLGA8M</td>\n",
       "    </tr>\n",
       "    <tr>\n",
       "      <th>ENSG00000278186</th>\n",
       "      <td>GOLGA8M</td>\n",
       "    </tr>\n",
       "  </tbody>\n",
       "</table>\n",
       "</div>"
      ],
      "text/plain": [
       "                external_gene_name\n",
       "genes                             \n",
       "ENSG00000188626            GOLGA8M\n",
       "ENSG00000278186            GOLGA8M"
      ]
     },
     "execution_count": 194,
     "metadata": {},
     "output_type": "execute_result"
    }
   ],
   "source": [
    "genes[genes.duplicated('external_gene_name', keep=False)]"
   ]
  },
  {
   "cell_type": "code",
   "execution_count": null,
   "id": "0a3b11d1",
   "metadata": {},
   "outputs": [],
   "source": [
    "cells = pd.read_csv(\"data/\"+folder+\"/\"+ datatype+\"_data.csv\", index_col=0)\n",
    "cells.head()"
   ]
  },
  {
   "cell_type": "code",
   "execution_count": 196,
   "id": "3153f0e2",
   "metadata": {},
   "outputs": [
    {
     "data": {
      "text/plain": [
       "array(['GOLGA8M'], dtype=object)"
      ]
     },
     "execution_count": 196,
     "metadata": {},
     "output_type": "execute_result"
    }
   ],
   "source": [
    "pd.unique(genes[genes.duplicated('external_gene_name',\n",
    "keep=False)].external_gene_name)"
   ]
  },
  {
   "cell_type": "code",
   "execution_count": 197,
   "id": "11e2313d",
   "metadata": {},
   "outputs": [
    {
     "data": {
      "text/plain": [
       "array(['GOLGA8M'], dtype=object)"
      ]
     },
     "execution_count": 197,
     "metadata": {},
     "output_type": "execute_result"
    }
   ],
   "source": [
    "pd.unique(genes[genes.duplicated('external_gene_name',\n",
    "keep=False)][\"external_gene_name\"])"
   ]
  },
  {
   "cell_type": "code",
   "execution_count": 158,
   "id": "cc2a5970",
   "metadata": {},
   "outputs": [],
   "source": [
    "duplicates = pd.unique(genes[genes.duplicated('external_gene_name',\n",
    "keep=False)].external_gene_name)\n",
    "duplicated_rows = genes[genes.duplicated('external_gene_name', keep=False)]\n",
    "for name in duplicates:\n",
    "    id = genes[genes[\"external_gene_name\"]==name].index\n",
    "    to_stay = cells.loc[id].var(axis=1).idxmax()\n",
    "    duplicated_rows = duplicated_rows.drop(index=to_stay)\n",
    "genes = genes.drop(index=duplicated_rows.index)"
   ]
  },
  {
   "cell_type": "code",
   "execution_count": 159,
   "id": "4fef3242",
   "metadata": {},
   "outputs": [
    {
     "data": {
      "text/plain": [
       "(15587, 1)"
      ]
     },
     "execution_count": 159,
     "metadata": {},
     "output_type": "execute_result"
    }
   ],
   "source": [
    "genes.shape"
   ]
  },
  {
   "cell_type": "code",
   "execution_count": 160,
   "id": "2016fea2",
   "metadata": {},
   "outputs": [
    {
     "data": {
      "text/plain": [
       "(15587, 14853)"
      ]
     },
     "execution_count": 160,
     "metadata": {},
     "output_type": "execute_result"
    }
   ],
   "source": [
    "new_cells = pd.concat([cells, genes], join=\"inner\", axis=1)\n",
    "new_cells.shape"
   ]
  },
  {
   "cell_type": "code",
   "execution_count": 161,
   "id": "98ccc3dd",
   "metadata": {},
   "outputs": [
    {
     "data": {
      "text/html": [
       "<div>\n",
       "<style scoped>\n",
       "    .dataframe tbody tr th:only-of-type {\n",
       "        vertical-align: middle;\n",
       "    }\n",
       "\n",
       "    .dataframe tbody tr th {\n",
       "        vertical-align: top;\n",
       "    }\n",
       "\n",
       "    .dataframe thead th {\n",
       "        text-align: right;\n",
       "    }\n",
       "</style>\n",
       "<table border=\"1\" class=\"dataframe\">\n",
       "  <thead>\n",
       "    <tr style=\"text-align: right;\">\n",
       "      <th></th>\n",
       "      <th>SAMEA11294524-AAACCTGAGTCTCCTC</th>\n",
       "      <th>SAMEA11294524-AAACCTGCAATGTAAG</th>\n",
       "      <th>SAMEA11294524-AAACCTGCACCGATAT</th>\n",
       "      <th>SAMEA11294524-AAACCTGCAGTCAGAG</th>\n",
       "      <th>SAMEA11294524-AAACCTGGTATCAGTC</th>\n",
       "      <th>SAMEA11294524-AAACCTGGTCAATGTC</th>\n",
       "      <th>SAMEA11294524-AAACCTGGTTCCACTC</th>\n",
       "      <th>SAMEA11294524-AAACCTGTCCGTACAA</th>\n",
       "      <th>SAMEA11294524-AAACCTGTCGGACAAG</th>\n",
       "      <th>SAMEA11294524-AAACCTGTCTTTAGGG</th>\n",
       "      <th>...</th>\n",
       "      <th>SAMEA11294531-TTTGCGCTCCAGAGGA</th>\n",
       "      <th>SAMEA11294531-TTTGCGCTCTGTCCGT</th>\n",
       "      <th>SAMEA11294531-TTTGGTTAGCCCAGCT</th>\n",
       "      <th>SAMEA11294531-TTTGGTTAGTCTCAAC</th>\n",
       "      <th>SAMEA11294531-TTTGGTTCAAGGTTTC</th>\n",
       "      <th>SAMEA11294531-TTTGGTTCAATAACGA</th>\n",
       "      <th>SAMEA11294531-TTTGGTTCACGGTTTA</th>\n",
       "      <th>SAMEA11294531-TTTGGTTTCCAAATGC</th>\n",
       "      <th>SAMEA11294531-TTTGTCAAGATCTGCT</th>\n",
       "      <th>SAMEA11294531-TTTGTCAAGCTAGTCT</th>\n",
       "    </tr>\n",
       "  </thead>\n",
       "  <tbody>\n",
       "    <tr>\n",
       "      <th>TSPAN6</th>\n",
       "      <td>1.053026</td>\n",
       "      <td>0.000000</td>\n",
       "      <td>0.000000</td>\n",
       "      <td>0.000000</td>\n",
       "      <td>0.0</td>\n",
       "      <td>0.000000</td>\n",
       "      <td>0.0</td>\n",
       "      <td>0.0</td>\n",
       "      <td>0.000000</td>\n",
       "      <td>0.0</td>\n",
       "      <td>...</td>\n",
       "      <td>0.0</td>\n",
       "      <td>0.0</td>\n",
       "      <td>0.0</td>\n",
       "      <td>0.0</td>\n",
       "      <td>0.0</td>\n",
       "      <td>0.000000</td>\n",
       "      <td>0.0</td>\n",
       "      <td>0.0</td>\n",
       "      <td>0.000000</td>\n",
       "      <td>0.0</td>\n",
       "    </tr>\n",
       "    <tr>\n",
       "      <th>TNMD</th>\n",
       "      <td>0.000000</td>\n",
       "      <td>0.000000</td>\n",
       "      <td>0.000000</td>\n",
       "      <td>0.000000</td>\n",
       "      <td>0.0</td>\n",
       "      <td>0.000000</td>\n",
       "      <td>0.0</td>\n",
       "      <td>0.0</td>\n",
       "      <td>0.000000</td>\n",
       "      <td>0.0</td>\n",
       "      <td>...</td>\n",
       "      <td>0.0</td>\n",
       "      <td>0.0</td>\n",
       "      <td>0.0</td>\n",
       "      <td>0.0</td>\n",
       "      <td>0.0</td>\n",
       "      <td>0.000000</td>\n",
       "      <td>0.0</td>\n",
       "      <td>0.0</td>\n",
       "      <td>0.000000</td>\n",
       "      <td>0.0</td>\n",
       "    </tr>\n",
       "    <tr>\n",
       "      <th>DPM1</th>\n",
       "      <td>0.000000</td>\n",
       "      <td>0.491265</td>\n",
       "      <td>1.014371</td>\n",
       "      <td>1.237905</td>\n",
       "      <td>0.0</td>\n",
       "      <td>0.636558</td>\n",
       "      <td>0.0</td>\n",
       "      <td>0.0</td>\n",
       "      <td>1.986645</td>\n",
       "      <td>0.0</td>\n",
       "      <td>...</td>\n",
       "      <td>0.0</td>\n",
       "      <td>0.0</td>\n",
       "      <td>0.0</td>\n",
       "      <td>0.0</td>\n",
       "      <td>0.0</td>\n",
       "      <td>0.331461</td>\n",
       "      <td>0.0</td>\n",
       "      <td>0.0</td>\n",
       "      <td>1.071214</td>\n",
       "      <td>0.0</td>\n",
       "    </tr>\n",
       "    <tr>\n",
       "      <th>SCYL3</th>\n",
       "      <td>0.000000</td>\n",
       "      <td>0.000000</td>\n",
       "      <td>0.000000</td>\n",
       "      <td>0.000000</td>\n",
       "      <td>0.0</td>\n",
       "      <td>0.000000</td>\n",
       "      <td>0.0</td>\n",
       "      <td>0.0</td>\n",
       "      <td>0.000000</td>\n",
       "      <td>0.0</td>\n",
       "      <td>...</td>\n",
       "      <td>0.0</td>\n",
       "      <td>0.0</td>\n",
       "      <td>0.0</td>\n",
       "      <td>0.0</td>\n",
       "      <td>0.0</td>\n",
       "      <td>0.000000</td>\n",
       "      <td>0.0</td>\n",
       "      <td>0.0</td>\n",
       "      <td>0.000000</td>\n",
       "      <td>0.0</td>\n",
       "    </tr>\n",
       "    <tr>\n",
       "      <th>C1orf112</th>\n",
       "      <td>0.000000</td>\n",
       "      <td>0.000000</td>\n",
       "      <td>0.000000</td>\n",
       "      <td>0.000000</td>\n",
       "      <td>0.0</td>\n",
       "      <td>0.000000</td>\n",
       "      <td>0.0</td>\n",
       "      <td>0.0</td>\n",
       "      <td>0.000000</td>\n",
       "      <td>0.0</td>\n",
       "      <td>...</td>\n",
       "      <td>0.0</td>\n",
       "      <td>0.0</td>\n",
       "      <td>0.0</td>\n",
       "      <td>0.0</td>\n",
       "      <td>0.0</td>\n",
       "      <td>0.000000</td>\n",
       "      <td>0.0</td>\n",
       "      <td>0.0</td>\n",
       "      <td>0.000000</td>\n",
       "      <td>0.0</td>\n",
       "    </tr>\n",
       "  </tbody>\n",
       "</table>\n",
       "<p>5 rows × 14852 columns</p>\n",
       "</div>"
      ],
      "text/plain": [
       "          SAMEA11294524-AAACCTGAGTCTCCTC  SAMEA11294524-AAACCTGCAATGTAAG   \n",
       "TSPAN6                          1.053026                        0.000000  \\\n",
       "TNMD                            0.000000                        0.000000   \n",
       "DPM1                            0.000000                        0.491265   \n",
       "SCYL3                           0.000000                        0.000000   \n",
       "C1orf112                        0.000000                        0.000000   \n",
       "\n",
       "          SAMEA11294524-AAACCTGCACCGATAT  SAMEA11294524-AAACCTGCAGTCAGAG   \n",
       "TSPAN6                          0.000000                        0.000000  \\\n",
       "TNMD                            0.000000                        0.000000   \n",
       "DPM1                            1.014371                        1.237905   \n",
       "SCYL3                           0.000000                        0.000000   \n",
       "C1orf112                        0.000000                        0.000000   \n",
       "\n",
       "          SAMEA11294524-AAACCTGGTATCAGTC  SAMEA11294524-AAACCTGGTCAATGTC   \n",
       "TSPAN6                               0.0                        0.000000  \\\n",
       "TNMD                                 0.0                        0.000000   \n",
       "DPM1                                 0.0                        0.636558   \n",
       "SCYL3                                0.0                        0.000000   \n",
       "C1orf112                             0.0                        0.000000   \n",
       "\n",
       "          SAMEA11294524-AAACCTGGTTCCACTC  SAMEA11294524-AAACCTGTCCGTACAA   \n",
       "TSPAN6                               0.0                             0.0  \\\n",
       "TNMD                                 0.0                             0.0   \n",
       "DPM1                                 0.0                             0.0   \n",
       "SCYL3                                0.0                             0.0   \n",
       "C1orf112                             0.0                             0.0   \n",
       "\n",
       "          SAMEA11294524-AAACCTGTCGGACAAG  SAMEA11294524-AAACCTGTCTTTAGGG  ...   \n",
       "TSPAN6                          0.000000                             0.0  ...  \\\n",
       "TNMD                            0.000000                             0.0  ...   \n",
       "DPM1                            1.986645                             0.0  ...   \n",
       "SCYL3                           0.000000                             0.0  ...   \n",
       "C1orf112                        0.000000                             0.0  ...   \n",
       "\n",
       "          SAMEA11294531-TTTGCGCTCCAGAGGA  SAMEA11294531-TTTGCGCTCTGTCCGT   \n",
       "TSPAN6                               0.0                             0.0  \\\n",
       "TNMD                                 0.0                             0.0   \n",
       "DPM1                                 0.0                             0.0   \n",
       "SCYL3                                0.0                             0.0   \n",
       "C1orf112                             0.0                             0.0   \n",
       "\n",
       "          SAMEA11294531-TTTGGTTAGCCCAGCT  SAMEA11294531-TTTGGTTAGTCTCAAC   \n",
       "TSPAN6                               0.0                             0.0  \\\n",
       "TNMD                                 0.0                             0.0   \n",
       "DPM1                                 0.0                             0.0   \n",
       "SCYL3                                0.0                             0.0   \n",
       "C1orf112                             0.0                             0.0   \n",
       "\n",
       "          SAMEA11294531-TTTGGTTCAAGGTTTC  SAMEA11294531-TTTGGTTCAATAACGA   \n",
       "TSPAN6                               0.0                        0.000000  \\\n",
       "TNMD                                 0.0                        0.000000   \n",
       "DPM1                                 0.0                        0.331461   \n",
       "SCYL3                                0.0                        0.000000   \n",
       "C1orf112                             0.0                        0.000000   \n",
       "\n",
       "          SAMEA11294531-TTTGGTTCACGGTTTA  SAMEA11294531-TTTGGTTTCCAAATGC   \n",
       "TSPAN6                               0.0                             0.0  \\\n",
       "TNMD                                 0.0                             0.0   \n",
       "DPM1                                 0.0                             0.0   \n",
       "SCYL3                                0.0                             0.0   \n",
       "C1orf112                             0.0                             0.0   \n",
       "\n",
       "          SAMEA11294531-TTTGTCAAGATCTGCT  SAMEA11294531-TTTGTCAAGCTAGTCT  \n",
       "TSPAN6                          0.000000                             0.0  \n",
       "TNMD                            0.000000                             0.0  \n",
       "DPM1                            1.071214                             0.0  \n",
       "SCYL3                           0.000000                             0.0  \n",
       "C1orf112                        0.000000                             0.0  \n",
       "\n",
       "[5 rows x 14852 columns]"
      ]
     },
     "execution_count": 161,
     "metadata": {},
     "output_type": "execute_result"
    }
   ],
   "source": [
    "new_cells = new_cells.set_index(\"external_gene_name\")\n",
    "new_cells.index.name = None\n",
    "new_cells.head()"
   ]
  },
  {
   "cell_type": "code",
   "execution_count": 162,
   "id": "5cd9e0fd",
   "metadata": {},
   "outputs": [],
   "source": [
    "new_cells.to_csv(\"data/\"+folder+\"/\"+ datatype+\"_data.csv\")"
   ]
  },
  {
   "attachments": {},
   "cell_type": "markdown",
   "id": "e71edbaf",
   "metadata": {},
   "source": [
    "### Others"
   ]
  },
  {
   "cell_type": "code",
   "execution_count": 93,
   "id": "1d2a1742",
   "metadata": {},
   "outputs": [],
   "source": [
    "# folder = \"Pancreas\"\n",
    "# folder = \"BM\"\n",
    "# folder = \"COVID\""
   ]
  },
  {
   "cell_type": "code",
   "execution_count": null,
   "id": "41dd29ee",
   "metadata": {},
   "outputs": [],
   "source": [
    "cells = pd.read_csv(\"data/\"+folder+\"/\"+ datatype+\"_data.csv\", index_col=0)\n",
    "cells.head()"
   ]
  },
  {
   "cell_type": "code",
   "execution_count": 174,
   "id": "69f1cb07",
   "metadata": {},
   "outputs": [
    {
     "data": {
      "text/plain": [
       "(15587, 14852)"
      ]
     },
     "execution_count": 174,
     "metadata": {},
     "output_type": "execute_result"
    }
   ],
   "source": [
    "cells.shape"
   ]
  },
  {
   "cell_type": "code",
   "execution_count": 175,
   "id": "ca30ff73",
   "metadata": {},
   "outputs": [
    {
     "name": "stdout",
     "output_type": "stream",
     "text": [
      "(15587, 14852)\n"
     ]
    }
   ],
   "source": [
    "cells.dropna(inplace=True)\n",
    "print(cells.shape)"
   ]
  },
  {
   "cell_type": "code",
   "execution_count": 176,
   "id": "0050007a",
   "metadata": {},
   "outputs": [],
   "source": [
    "vars = np.var(cells, axis=1)"
   ]
  },
  {
   "cell_type": "code",
   "execution_count": 177,
   "id": "49400769",
   "metadata": {},
   "outputs": [],
   "source": [
    "vars = vars[vars != 0]"
   ]
  },
  {
   "cell_type": "code",
   "execution_count": 178,
   "id": "34ec2537",
   "metadata": {},
   "outputs": [
    {
     "data": {
      "text/plain": [
       "(15573,)"
      ]
     },
     "execution_count": 178,
     "metadata": {},
     "output_type": "execute_result"
    }
   ],
   "source": [
    "vars.shape"
   ]
  },
  {
   "cell_type": "code",
   "execution_count": 182,
   "id": "9b357f25",
   "metadata": {},
   "outputs": [],
   "source": [
    "cells = cells.loc[vars.sort_values()[int(0.75 * vars.shape[0]) :].index]"
   ]
  },
  {
   "cell_type": "code",
   "execution_count": 183,
   "id": "4b0b9662",
   "metadata": {},
   "outputs": [
    {
     "data": {
      "text/plain": [
       "(3894, 14852)"
      ]
     },
     "execution_count": 183,
     "metadata": {},
     "output_type": "execute_result"
    }
   ],
   "source": [
    "cells.shape"
   ]
  },
  {
   "cell_type": "code",
   "execution_count": 186,
   "id": "e764e282",
   "metadata": {},
   "outputs": [
    {
     "data": {
      "text/html": [
       "<div>\n",
       "<style scoped>\n",
       "    .dataframe tbody tr th:only-of-type {\n",
       "        vertical-align: middle;\n",
       "    }\n",
       "\n",
       "    .dataframe tbody tr th {\n",
       "        vertical-align: top;\n",
       "    }\n",
       "\n",
       "    .dataframe thead th {\n",
       "        text-align: right;\n",
       "    }\n",
       "</style>\n",
       "<table border=\"1\" class=\"dataframe\">\n",
       "  <thead>\n",
       "    <tr style=\"text-align: right;\">\n",
       "      <th></th>\n",
       "      <th>SAMEA11294524-AAACCTGAGTCTCCTC</th>\n",
       "      <th>SAMEA11294524-AAACCTGCAATGTAAG</th>\n",
       "      <th>SAMEA11294524-AAACCTGCACCGATAT</th>\n",
       "      <th>SAMEA11294524-AAACCTGCAGTCAGAG</th>\n",
       "      <th>SAMEA11294524-AAACCTGGTATCAGTC</th>\n",
       "      <th>SAMEA11294524-AAACCTGGTCAATGTC</th>\n",
       "      <th>SAMEA11294524-AAACCTGGTTCCACTC</th>\n",
       "      <th>SAMEA11294524-AAACCTGTCCGTACAA</th>\n",
       "      <th>SAMEA11294524-AAACCTGTCGGACAAG</th>\n",
       "      <th>SAMEA11294524-AAACCTGTCTTTAGGG</th>\n",
       "      <th>...</th>\n",
       "      <th>SAMEA11294531-TTTGCGCTCCAGAGGA</th>\n",
       "      <th>SAMEA11294531-TTTGCGCTCTGTCCGT</th>\n",
       "      <th>SAMEA11294531-TTTGGTTAGCCCAGCT</th>\n",
       "      <th>SAMEA11294531-TTTGGTTAGTCTCAAC</th>\n",
       "      <th>SAMEA11294531-TTTGGTTCAAGGTTTC</th>\n",
       "      <th>SAMEA11294531-TTTGGTTCAATAACGA</th>\n",
       "      <th>SAMEA11294531-TTTGGTTCACGGTTTA</th>\n",
       "      <th>SAMEA11294531-TTTGGTTTCCAAATGC</th>\n",
       "      <th>SAMEA11294531-TTTGTCAAGATCTGCT</th>\n",
       "      <th>SAMEA11294531-TTTGTCAAGCTAGTCT</th>\n",
       "    </tr>\n",
       "  </thead>\n",
       "  <tbody>\n",
       "    <tr>\n",
       "      <th>CD40</th>\n",
       "      <td>0.0</td>\n",
       "      <td>0.0</td>\n",
       "      <td>0.0</td>\n",
       "      <td>0.0</td>\n",
       "      <td>0.0</td>\n",
       "      <td>0.0</td>\n",
       "      <td>0.0</td>\n",
       "      <td>0.0</td>\n",
       "      <td>0.0</td>\n",
       "      <td>0.0</td>\n",
       "      <td>...</td>\n",
       "      <td>0.0</td>\n",
       "      <td>0.0</td>\n",
       "      <td>0.0</td>\n",
       "      <td>0.0</td>\n",
       "      <td>0.0</td>\n",
       "      <td>0.0</td>\n",
       "      <td>0.0</td>\n",
       "      <td>0.0</td>\n",
       "      <td>0.0</td>\n",
       "      <td>0.0</td>\n",
       "    </tr>\n",
       "    <tr>\n",
       "      <th>NFAT5</th>\n",
       "      <td>0.0</td>\n",
       "      <td>0.0</td>\n",
       "      <td>0.0</td>\n",
       "      <td>1.0</td>\n",
       "      <td>0.0</td>\n",
       "      <td>0.0</td>\n",
       "      <td>0.0</td>\n",
       "      <td>0.0</td>\n",
       "      <td>0.0</td>\n",
       "      <td>0.0</td>\n",
       "      <td>...</td>\n",
       "      <td>0.0</td>\n",
       "      <td>0.0</td>\n",
       "      <td>0.0</td>\n",
       "      <td>0.0</td>\n",
       "      <td>0.0</td>\n",
       "      <td>0.0</td>\n",
       "      <td>0.0</td>\n",
       "      <td>0.0</td>\n",
       "      <td>1.0</td>\n",
       "      <td>0.0</td>\n",
       "    </tr>\n",
       "    <tr>\n",
       "      <th>CNR2</th>\n",
       "      <td>0.0</td>\n",
       "      <td>2.0</td>\n",
       "      <td>0.0</td>\n",
       "      <td>0.0</td>\n",
       "      <td>0.0</td>\n",
       "      <td>0.0</td>\n",
       "      <td>0.0</td>\n",
       "      <td>0.0</td>\n",
       "      <td>0.0</td>\n",
       "      <td>0.0</td>\n",
       "      <td>...</td>\n",
       "      <td>0.0</td>\n",
       "      <td>0.0</td>\n",
       "      <td>0.0</td>\n",
       "      <td>0.0</td>\n",
       "      <td>0.0</td>\n",
       "      <td>0.0</td>\n",
       "      <td>0.0</td>\n",
       "      <td>0.0</td>\n",
       "      <td>1.5</td>\n",
       "      <td>0.0</td>\n",
       "    </tr>\n",
       "    <tr>\n",
       "      <th>YPEL1</th>\n",
       "      <td>0.0</td>\n",
       "      <td>0.0</td>\n",
       "      <td>0.0</td>\n",
       "      <td>0.0</td>\n",
       "      <td>0.0</td>\n",
       "      <td>0.0</td>\n",
       "      <td>0.0</td>\n",
       "      <td>0.0</td>\n",
       "      <td>0.0</td>\n",
       "      <td>0.0</td>\n",
       "      <td>...</td>\n",
       "      <td>1.0</td>\n",
       "      <td>0.0</td>\n",
       "      <td>1.0</td>\n",
       "      <td>0.0</td>\n",
       "      <td>0.0</td>\n",
       "      <td>0.0</td>\n",
       "      <td>0.0</td>\n",
       "      <td>0.0</td>\n",
       "      <td>0.0</td>\n",
       "      <td>0.0</td>\n",
       "    </tr>\n",
       "    <tr>\n",
       "      <th>OGT</th>\n",
       "      <td>0.0</td>\n",
       "      <td>0.0</td>\n",
       "      <td>0.0</td>\n",
       "      <td>0.0</td>\n",
       "      <td>0.0</td>\n",
       "      <td>0.0</td>\n",
       "      <td>0.0</td>\n",
       "      <td>0.0</td>\n",
       "      <td>0.0</td>\n",
       "      <td>1.0</td>\n",
       "      <td>...</td>\n",
       "      <td>0.0</td>\n",
       "      <td>0.0</td>\n",
       "      <td>0.0</td>\n",
       "      <td>1.0</td>\n",
       "      <td>0.0</td>\n",
       "      <td>0.0</td>\n",
       "      <td>0.0</td>\n",
       "      <td>0.0</td>\n",
       "      <td>0.0</td>\n",
       "      <td>1.0</td>\n",
       "    </tr>\n",
       "  </tbody>\n",
       "</table>\n",
       "<p>5 rows × 14852 columns</p>\n",
       "</div>"
      ],
      "text/plain": [
       "       SAMEA11294524-AAACCTGAGTCTCCTC  SAMEA11294524-AAACCTGCAATGTAAG   \n",
       "CD40                              0.0                             0.0  \\\n",
       "NFAT5                             0.0                             0.0   \n",
       "CNR2                              0.0                             2.0   \n",
       "YPEL1                             0.0                             0.0   \n",
       "OGT                               0.0                             0.0   \n",
       "\n",
       "       SAMEA11294524-AAACCTGCACCGATAT  SAMEA11294524-AAACCTGCAGTCAGAG   \n",
       "CD40                              0.0                             0.0  \\\n",
       "NFAT5                             0.0                             1.0   \n",
       "CNR2                              0.0                             0.0   \n",
       "YPEL1                             0.0                             0.0   \n",
       "OGT                               0.0                             0.0   \n",
       "\n",
       "       SAMEA11294524-AAACCTGGTATCAGTC  SAMEA11294524-AAACCTGGTCAATGTC   \n",
       "CD40                              0.0                             0.0  \\\n",
       "NFAT5                             0.0                             0.0   \n",
       "CNR2                              0.0                             0.0   \n",
       "YPEL1                             0.0                             0.0   \n",
       "OGT                               0.0                             0.0   \n",
       "\n",
       "       SAMEA11294524-AAACCTGGTTCCACTC  SAMEA11294524-AAACCTGTCCGTACAA   \n",
       "CD40                              0.0                             0.0  \\\n",
       "NFAT5                             0.0                             0.0   \n",
       "CNR2                              0.0                             0.0   \n",
       "YPEL1                             0.0                             0.0   \n",
       "OGT                               0.0                             0.0   \n",
       "\n",
       "       SAMEA11294524-AAACCTGTCGGACAAG  SAMEA11294524-AAACCTGTCTTTAGGG  ...   \n",
       "CD40                              0.0                             0.0  ...  \\\n",
       "NFAT5                             0.0                             0.0  ...   \n",
       "CNR2                              0.0                             0.0  ...   \n",
       "YPEL1                             0.0                             0.0  ...   \n",
       "OGT                               0.0                             1.0  ...   \n",
       "\n",
       "       SAMEA11294531-TTTGCGCTCCAGAGGA  SAMEA11294531-TTTGCGCTCTGTCCGT   \n",
       "CD40                              0.0                             0.0  \\\n",
       "NFAT5                             0.0                             0.0   \n",
       "CNR2                              0.0                             0.0   \n",
       "YPEL1                             1.0                             0.0   \n",
       "OGT                               0.0                             0.0   \n",
       "\n",
       "       SAMEA11294531-TTTGGTTAGCCCAGCT  SAMEA11294531-TTTGGTTAGTCTCAAC   \n",
       "CD40                              0.0                             0.0  \\\n",
       "NFAT5                             0.0                             0.0   \n",
       "CNR2                              0.0                             0.0   \n",
       "YPEL1                             1.0                             0.0   \n",
       "OGT                               0.0                             1.0   \n",
       "\n",
       "       SAMEA11294531-TTTGGTTCAAGGTTTC  SAMEA11294531-TTTGGTTCAATAACGA   \n",
       "CD40                              0.0                             0.0  \\\n",
       "NFAT5                             0.0                             0.0   \n",
       "CNR2                              0.0                             0.0   \n",
       "YPEL1                             0.0                             0.0   \n",
       "OGT                               0.0                             0.0   \n",
       "\n",
       "       SAMEA11294531-TTTGGTTCACGGTTTA  SAMEA11294531-TTTGGTTTCCAAATGC   \n",
       "CD40                              0.0                             0.0  \\\n",
       "NFAT5                             0.0                             0.0   \n",
       "CNR2                              0.0                             0.0   \n",
       "YPEL1                             0.0                             0.0   \n",
       "OGT                               0.0                             0.0   \n",
       "\n",
       "       SAMEA11294531-TTTGTCAAGATCTGCT  SAMEA11294531-TTTGTCAAGCTAGTCT  \n",
       "CD40                              0.0                             0.0  \n",
       "NFAT5                             1.0                             0.0  \n",
       "CNR2                              1.5                             0.0  \n",
       "YPEL1                             0.0                             0.0  \n",
       "OGT                               0.0                             1.0  \n",
       "\n",
       "[5 rows x 14852 columns]"
      ]
     },
     "execution_count": 186,
     "metadata": {},
     "output_type": "execute_result"
    }
   ],
   "source": [
    "cells.head()"
   ]
  },
  {
   "cell_type": "code",
   "execution_count": 187,
   "id": "4c269de3",
   "metadata": {},
   "outputs": [],
   "source": [
    "cells.to_csv(\"data/\" + folder + \"/\" + datatype + \"_filtered_data.csv\")"
   ]
  }
 ],
 "metadata": {
  "kernelspec": {
   "display_name": "enrich",
   "language": "python",
   "name": "python3"
  },
  "language_info": {
   "codemirror_mode": {
    "name": "ipython",
    "version": 3
   },
   "file_extension": ".py",
   "mimetype": "text/x-python",
   "name": "python",
   "nbconvert_exporter": "python",
   "pygments_lexer": "ipython3",
   "version": "3.10.10"
  }
 },
 "nbformat": 4,
 "nbformat_minor": 5
}
