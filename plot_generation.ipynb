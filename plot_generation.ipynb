{
 "cells": [
  {
   "cell_type": "code",
   "execution_count": 1,
   "id": "ad3778ec-7681-4cec-bdf0-fe57f824a2fd",
   "metadata": {},
   "outputs": [],
   "source": [
    "import pandas as pd\n",
    "import numpy as np\n",
    "from numpy import genfromtxt\n",
    "from source import metrics\n",
    "import source.model as m\n",
    "import source.plot_distributed_data as dens\n",
    "import source.plot_scatter as sc\n",
    "from tqdm import tqdm"
   ]
  },
  {
   "cell_type": "markdown",
   "id": "8ed0cc26-d8a2-4731-b1bf-e66fdd441906",
   "metadata": {},
   "source": [
    "# Get data"
   ]
  },
  {
   "cell_type": "markdown",
   "id": "53edb41c-2312-4aa3-b496-07a6ee52dab9",
   "metadata": {},
   "source": [
    "## Load genesets"
   ]
  },
  {
   "cell_type": "code",
   "execution_count": 2,
   "id": "821cfe31-bea9-4b1d-942e-54c645bd3211",
   "metadata": {},
   "outputs": [],
   "source": [
    "with open('data/genesets_genes.txt') as file:\n",
    "    lines = file.readlines()"
   ]
  },
  {
   "cell_type": "code",
   "execution_count": 3,
   "id": "243a3561-a387-4c70-9fdf-b76cd0045373",
   "metadata": {},
   "outputs": [],
   "source": [
    "genesets_modules = pd.read_csv('data/genesets_modules.csv')"
   ]
  },
  {
   "cell_type": "code",
   "execution_count": 4,
   "id": "847688d7-2244-49ff-a799-73741a5d6694",
   "metadata": {},
   "outputs": [
    {
     "data": {
      "text/html": [
       "<div>\n",
       "<style scoped>\n",
       "    .dataframe tbody tr th:only-of-type {\n",
       "        vertical-align: middle;\n",
       "    }\n",
       "\n",
       "    .dataframe tbody tr th {\n",
       "        vertical-align: top;\n",
       "    }\n",
       "\n",
       "    .dataframe thead th {\n",
       "        text-align: right;\n",
       "    }\n",
       "</style>\n",
       "<table border=\"1\" class=\"dataframe\">\n",
       "  <thead>\n",
       "    <tr style=\"text-align: right;\">\n",
       "      <th></th>\n",
       "      <th>Unnamed: 0</th>\n",
       "      <th>ID</th>\n",
       "      <th>Title</th>\n",
       "      <th>Category</th>\n",
       "      <th>Database</th>\n",
       "    </tr>\n",
       "  </thead>\n",
       "  <tbody>\n",
       "    <tr>\n",
       "      <th>0</th>\n",
       "      <td>hsa04062</td>\n",
       "      <td>hsa04062</td>\n",
       "      <td>KEGG: Chemokine signaling pathway</td>\n",
       "      <td>KEGG: Organismal Systems; Immune system</td>\n",
       "      <td>KEGG</td>\n",
       "    </tr>\n",
       "    <tr>\n",
       "      <th>1</th>\n",
       "      <td>hsa04610</td>\n",
       "      <td>hsa04610</td>\n",
       "      <td>KEGG: Complement and coagulation cascades</td>\n",
       "      <td>KEGG: Organismal Systems; Immune system</td>\n",
       "      <td>KEGG</td>\n",
       "    </tr>\n",
       "    <tr>\n",
       "      <th>2</th>\n",
       "      <td>hsa04611</td>\n",
       "      <td>hsa04611</td>\n",
       "      <td>KEGG: Platelet activation</td>\n",
       "      <td>KEGG: Organismal Systems; Immune system</td>\n",
       "      <td>KEGG</td>\n",
       "    </tr>\n",
       "    <tr>\n",
       "      <th>3</th>\n",
       "      <td>hsa04612</td>\n",
       "      <td>hsa04612</td>\n",
       "      <td>KEGG: Antigen processing and presentation</td>\n",
       "      <td>KEGG: Organismal Systems; Immune system</td>\n",
       "      <td>KEGG</td>\n",
       "    </tr>\n",
       "    <tr>\n",
       "      <th>4</th>\n",
       "      <td>hsa04613</td>\n",
       "      <td>hsa04613</td>\n",
       "      <td>KEGG: Neutrophil extracellular trap formation</td>\n",
       "      <td>KEGG: Organismal Systems; Immune system</td>\n",
       "      <td>KEGG</td>\n",
       "    </tr>\n",
       "  </tbody>\n",
       "</table>\n",
       "</div>"
      ],
      "text/plain": [
       "  Unnamed: 0        ID                                          Title  \\\n",
       "0   hsa04062  hsa04062              KEGG: Chemokine signaling pathway   \n",
       "1   hsa04610  hsa04610      KEGG: Complement and coagulation cascades   \n",
       "2   hsa04611  hsa04611                      KEGG: Platelet activation   \n",
       "3   hsa04612  hsa04612      KEGG: Antigen processing and presentation   \n",
       "4   hsa04613  hsa04613  KEGG: Neutrophil extracellular trap formation   \n",
       "\n",
       "                                  Category Database  \n",
       "0  KEGG: Organismal Systems; Immune system     KEGG  \n",
       "1  KEGG: Organismal Systems; Immune system     KEGG  \n",
       "2  KEGG: Organismal Systems; Immune system     KEGG  \n",
       "3  KEGG: Organismal Systems; Immune system     KEGG  \n",
       "4  KEGG: Organismal Systems; Immune system     KEGG  "
      ]
     },
     "execution_count": 4,
     "metadata": {},
     "output_type": "execute_result"
    }
   ],
   "source": [
    "genesets_modules.head()"
   ]
  },
  {
   "cell_type": "code",
   "execution_count": 5,
   "id": "2b908a88-df59-4e76-a33b-5fe64635d375",
   "metadata": {},
   "outputs": [],
   "source": [
    "genesets = {}"
   ]
  },
  {
   "cell_type": "code",
   "execution_count": 6,
   "id": "7ab5bbb4-94d5-45ea-859b-901aa0b82519",
   "metadata": {},
   "outputs": [],
   "source": [
    "for i, line in enumerate(lines):\n",
    "    genesets[genesets_modules.iloc[i][\"Title\"]] = line.split(\",\")[:-1]"
   ]
  },
  {
   "cell_type": "code",
   "execution_count": 7,
   "id": "77723880-3f8e-4e9d-9306-4a87bf92c2b9",
   "metadata": {},
   "outputs": [],
   "source": [
    "gs_names = list(genesets.keys())"
   ]
  },
  {
   "cell_type": "markdown",
   "id": "0572e156-fe14-40b0-b7cb-a00a662b1d6c",
   "metadata": {
    "tags": []
   },
   "source": [
    "## Load gene expressions"
   ]
  },
  {
   "cell_type": "code",
   "execution_count": 8,
   "id": "1b17ef67-2170-42de-9d63-249f585f0111",
   "metadata": {},
   "outputs": [
    {
     "data": {
      "text/html": [
       "<div>\n",
       "<style scoped>\n",
       "    .dataframe tbody tr th:only-of-type {\n",
       "        vertical-align: middle;\n",
       "    }\n",
       "\n",
       "    .dataframe tbody tr th {\n",
       "        vertical-align: top;\n",
       "    }\n",
       "\n",
       "    .dataframe thead th {\n",
       "        text-align: right;\n",
       "    }\n",
       "</style>\n",
       "<table border=\"1\" class=\"dataframe\">\n",
       "  <thead>\n",
       "    <tr style=\"text-align: right;\">\n",
       "      <th></th>\n",
       "      <th>pbmc1_10x_v2_A_AAAGATGCAAAGTCAA</th>\n",
       "      <th>pbmc1_10x_v2_A_AAAGCAAGTAGGAGTC</th>\n",
       "      <th>pbmc1_10x_v2_A_AAAGCAATCGGTTCGG</th>\n",
       "      <th>pbmc1_10x_v2_A_AAAGTAGTCATTTGGG</th>\n",
       "      <th>pbmc1_10x_v2_A_AAAGTAGTCCGAGCCA</th>\n",
       "      <th>pbmc1_10x_v2_A_AAATGCCGTGGCAAAC</th>\n",
       "      <th>pbmc1_10x_v2_A_AACACGTCAGGTCCAC</th>\n",
       "      <th>pbmc1_10x_v2_A_AACACGTCATCACGTA</th>\n",
       "      <th>pbmc1_10x_v2_A_AACCATGTCATATCGG</th>\n",
       "      <th>pbmc1_10x_v2_A_AACTCAGAGTACGCCC</th>\n",
       "      <th>...</th>\n",
       "      <th>pbmc1_10x_v2_A_CGCTGGAAGTGAATTG</th>\n",
       "      <th>pbmc1_10x_v2_A_CTACCCAAGTGTACCT</th>\n",
       "      <th>pbmc1_10x_v2_A_GACCAATCAGTTCATG</th>\n",
       "      <th>pbmc1_10x_v2_A_GGGCACTAGCTGCGAA</th>\n",
       "      <th>pbmc1_10x_v2_A_GGTATTGTCACTCTTA</th>\n",
       "      <th>pbmc1_10x_v2_A_GTGTGCGAGCGCTCCA</th>\n",
       "      <th>pbmc1_10x_v2_A_TACTCATTCACATACG</th>\n",
       "      <th>pbmc1_10x_v2_A_TCCACACAGTACACCT</th>\n",
       "      <th>pbmc1_10x_v2_A_TGATTTCCAGACGCAA</th>\n",
       "      <th>pbmc1_10x_v2_A_TTAGTTCAGAGCTTCT</th>\n",
       "    </tr>\n",
       "  </thead>\n",
       "  <tbody>\n",
       "    <tr>\n",
       "      <th>TSPAN6</th>\n",
       "      <td>0</td>\n",
       "      <td>0</td>\n",
       "      <td>0</td>\n",
       "      <td>0</td>\n",
       "      <td>0</td>\n",
       "      <td>0</td>\n",
       "      <td>0</td>\n",
       "      <td>0</td>\n",
       "      <td>0</td>\n",
       "      <td>0</td>\n",
       "      <td>...</td>\n",
       "      <td>0</td>\n",
       "      <td>0</td>\n",
       "      <td>0</td>\n",
       "      <td>0</td>\n",
       "      <td>0</td>\n",
       "      <td>1</td>\n",
       "      <td>0</td>\n",
       "      <td>0</td>\n",
       "      <td>0</td>\n",
       "      <td>0</td>\n",
       "    </tr>\n",
       "    <tr>\n",
       "      <th>DPM1</th>\n",
       "      <td>0</td>\n",
       "      <td>0</td>\n",
       "      <td>0</td>\n",
       "      <td>1</td>\n",
       "      <td>0</td>\n",
       "      <td>0</td>\n",
       "      <td>0</td>\n",
       "      <td>0</td>\n",
       "      <td>0</td>\n",
       "      <td>0</td>\n",
       "      <td>...</td>\n",
       "      <td>1</td>\n",
       "      <td>0</td>\n",
       "      <td>1</td>\n",
       "      <td>0</td>\n",
       "      <td>0</td>\n",
       "      <td>0</td>\n",
       "      <td>1</td>\n",
       "      <td>1</td>\n",
       "      <td>0</td>\n",
       "      <td>1</td>\n",
       "    </tr>\n",
       "    <tr>\n",
       "      <th>SCYL3</th>\n",
       "      <td>0</td>\n",
       "      <td>0</td>\n",
       "      <td>0</td>\n",
       "      <td>0</td>\n",
       "      <td>0</td>\n",
       "      <td>0</td>\n",
       "      <td>0</td>\n",
       "      <td>0</td>\n",
       "      <td>0</td>\n",
       "      <td>0</td>\n",
       "      <td>...</td>\n",
       "      <td>0</td>\n",
       "      <td>0</td>\n",
       "      <td>0</td>\n",
       "      <td>0</td>\n",
       "      <td>0</td>\n",
       "      <td>0</td>\n",
       "      <td>1</td>\n",
       "      <td>0</td>\n",
       "      <td>1</td>\n",
       "      <td>0</td>\n",
       "    </tr>\n",
       "    <tr>\n",
       "      <th>C1orf112</th>\n",
       "      <td>0</td>\n",
       "      <td>0</td>\n",
       "      <td>0</td>\n",
       "      <td>0</td>\n",
       "      <td>0</td>\n",
       "      <td>0</td>\n",
       "      <td>0</td>\n",
       "      <td>0</td>\n",
       "      <td>0</td>\n",
       "      <td>0</td>\n",
       "      <td>...</td>\n",
       "      <td>0</td>\n",
       "      <td>0</td>\n",
       "      <td>0</td>\n",
       "      <td>0</td>\n",
       "      <td>0</td>\n",
       "      <td>1</td>\n",
       "      <td>0</td>\n",
       "      <td>0</td>\n",
       "      <td>0</td>\n",
       "      <td>1</td>\n",
       "    </tr>\n",
       "    <tr>\n",
       "      <th>FGR</th>\n",
       "      <td>0</td>\n",
       "      <td>0</td>\n",
       "      <td>0</td>\n",
       "      <td>1</td>\n",
       "      <td>0</td>\n",
       "      <td>0</td>\n",
       "      <td>1</td>\n",
       "      <td>2</td>\n",
       "      <td>0</td>\n",
       "      <td>0</td>\n",
       "      <td>...</td>\n",
       "      <td>0</td>\n",
       "      <td>0</td>\n",
       "      <td>0</td>\n",
       "      <td>0</td>\n",
       "      <td>0</td>\n",
       "      <td>1</td>\n",
       "      <td>0</td>\n",
       "      <td>0</td>\n",
       "      <td>0</td>\n",
       "      <td>0</td>\n",
       "    </tr>\n",
       "  </tbody>\n",
       "</table>\n",
       "<p>5 rows × 3222 columns</p>\n",
       "</div>"
      ],
      "text/plain": [
       "          pbmc1_10x_v2_A_AAAGATGCAAAGTCAA  pbmc1_10x_v2_A_AAAGCAAGTAGGAGTC  \\\n",
       "TSPAN6                                  0                                0   \n",
       "DPM1                                    0                                0   \n",
       "SCYL3                                   0                                0   \n",
       "C1orf112                                0                                0   \n",
       "FGR                                     0                                0   \n",
       "\n",
       "          pbmc1_10x_v2_A_AAAGCAATCGGTTCGG  pbmc1_10x_v2_A_AAAGTAGTCATTTGGG  \\\n",
       "TSPAN6                                  0                                0   \n",
       "DPM1                                    0                                1   \n",
       "SCYL3                                   0                                0   \n",
       "C1orf112                                0                                0   \n",
       "FGR                                     0                                1   \n",
       "\n",
       "          pbmc1_10x_v2_A_AAAGTAGTCCGAGCCA  pbmc1_10x_v2_A_AAATGCCGTGGCAAAC  \\\n",
       "TSPAN6                                  0                                0   \n",
       "DPM1                                    0                                0   \n",
       "SCYL3                                   0                                0   \n",
       "C1orf112                                0                                0   \n",
       "FGR                                     0                                0   \n",
       "\n",
       "          pbmc1_10x_v2_A_AACACGTCAGGTCCAC  pbmc1_10x_v2_A_AACACGTCATCACGTA  \\\n",
       "TSPAN6                                  0                                0   \n",
       "DPM1                                    0                                0   \n",
       "SCYL3                                   0                                0   \n",
       "C1orf112                                0                                0   \n",
       "FGR                                     1                                2   \n",
       "\n",
       "          pbmc1_10x_v2_A_AACCATGTCATATCGG  pbmc1_10x_v2_A_AACTCAGAGTACGCCC  \\\n",
       "TSPAN6                                  0                                0   \n",
       "DPM1                                    0                                0   \n",
       "SCYL3                                   0                                0   \n",
       "C1orf112                                0                                0   \n",
       "FGR                                     0                                0   \n",
       "\n",
       "          ...  pbmc1_10x_v2_A_CGCTGGAAGTGAATTG  \\\n",
       "TSPAN6    ...                                0   \n",
       "DPM1      ...                                1   \n",
       "SCYL3     ...                                0   \n",
       "C1orf112  ...                                0   \n",
       "FGR       ...                                0   \n",
       "\n",
       "          pbmc1_10x_v2_A_CTACCCAAGTGTACCT  pbmc1_10x_v2_A_GACCAATCAGTTCATG  \\\n",
       "TSPAN6                                  0                                0   \n",
       "DPM1                                    0                                1   \n",
       "SCYL3                                   0                                0   \n",
       "C1orf112                                0                                0   \n",
       "FGR                                     0                                0   \n",
       "\n",
       "          pbmc1_10x_v2_A_GGGCACTAGCTGCGAA  pbmc1_10x_v2_A_GGTATTGTCACTCTTA  \\\n",
       "TSPAN6                                  0                                0   \n",
       "DPM1                                    0                                0   \n",
       "SCYL3                                   0                                0   \n",
       "C1orf112                                0                                0   \n",
       "FGR                                     0                                0   \n",
       "\n",
       "          pbmc1_10x_v2_A_GTGTGCGAGCGCTCCA  pbmc1_10x_v2_A_TACTCATTCACATACG  \\\n",
       "TSPAN6                                  1                                0   \n",
       "DPM1                                    0                                1   \n",
       "SCYL3                                   0                                1   \n",
       "C1orf112                                1                                0   \n",
       "FGR                                     1                                0   \n",
       "\n",
       "          pbmc1_10x_v2_A_TCCACACAGTACACCT  pbmc1_10x_v2_A_TGATTTCCAGACGCAA  \\\n",
       "TSPAN6                                  0                                0   \n",
       "DPM1                                    1                                0   \n",
       "SCYL3                                   0                                1   \n",
       "C1orf112                                0                                0   \n",
       "FGR                                     0                                0   \n",
       "\n",
       "          pbmc1_10x_v2_A_TTAGTTCAGAGCTTCT  \n",
       "TSPAN6                                  0  \n",
       "DPM1                                    1  \n",
       "SCYL3                                   0  \n",
       "C1orf112                                1  \n",
       "FGR                                     0  \n",
       "\n",
       "[5 rows x 3222 columns]"
      ]
     },
     "execution_count": 8,
     "metadata": {},
     "output_type": "execute_result"
    }
   ],
   "source": [
    "gene_expressions = pd.read_csv('data/filtered_unique_data.csv', index_col=0)\n",
    "gene_expressions.head()"
   ]
  },
  {
   "cell_type": "code",
   "execution_count": 9,
   "id": "f2ade172-7e8f-495b-9238-1b074b11b704",
   "metadata": {},
   "outputs": [],
   "source": [
    "patients_names = gene_expressions.columns.to_list()"
   ]
  },
  {
   "cell_type": "code",
   "execution_count": 10,
   "id": "a1f7fda5-961c-4b2b-988a-e6af81124cbe",
   "metadata": {},
   "outputs": [],
   "source": [
    "gene_expressions = gene_expressions.to_numpy().astype(float)"
   ]
  },
  {
   "cell_type": "code",
   "execution_count": 11,
   "id": "d7ad03c4-695e-448a-b1fa-787e7e4e09b3",
   "metadata": {},
   "outputs": [
    {
     "data": {
      "text/plain": [
       "dtype('float64')"
      ]
     },
     "execution_count": 11,
     "metadata": {},
     "output_type": "execute_result"
    }
   ],
   "source": [
    "gene_expressions.dtype"
   ]
  },
  {
   "cell_type": "markdown",
   "id": "9087ec43-86b6-48bf-99fe-3772ae2eee77",
   "metadata": {},
   "source": [
    "## And gene names"
   ]
  },
  {
   "cell_type": "code",
   "execution_count": 12,
   "id": "113ab478-e8ec-44e5-b367-e504b4be95f0",
   "metadata": {},
   "outputs": [
    {
     "data": {
      "text/html": [
       "<div>\n",
       "<style scoped>\n",
       "    .dataframe tbody tr th:only-of-type {\n",
       "        vertical-align: middle;\n",
       "    }\n",
       "\n",
       "    .dataframe tbody tr th {\n",
       "        vertical-align: top;\n",
       "    }\n",
       "\n",
       "    .dataframe thead th {\n",
       "        text-align: right;\n",
       "    }\n",
       "</style>\n",
       "<table border=\"1\" class=\"dataframe\">\n",
       "  <thead>\n",
       "    <tr style=\"text-align: right;\">\n",
       "      <th></th>\n",
       "      <th>x</th>\n",
       "    </tr>\n",
       "  </thead>\n",
       "  <tbody>\n",
       "    <tr>\n",
       "      <th>1</th>\n",
       "      <td>TSPAN6</td>\n",
       "    </tr>\n",
       "    <tr>\n",
       "      <th>2</th>\n",
       "      <td>DPM1</td>\n",
       "    </tr>\n",
       "    <tr>\n",
       "      <th>3</th>\n",
       "      <td>SCYL3</td>\n",
       "    </tr>\n",
       "    <tr>\n",
       "      <th>4</th>\n",
       "      <td>C1orf112</td>\n",
       "    </tr>\n",
       "    <tr>\n",
       "      <th>5</th>\n",
       "      <td>FGR</td>\n",
       "    </tr>\n",
       "  </tbody>\n",
       "</table>\n",
       "</div>"
      ],
      "text/plain": [
       "          x\n",
       "1    TSPAN6\n",
       "2      DPM1\n",
       "3     SCYL3\n",
       "4  C1orf112\n",
       "5       FGR"
      ]
     },
     "execution_count": 12,
     "metadata": {},
     "output_type": "execute_result"
    }
   ],
   "source": [
    "gene_names = pd.read_csv('data/gene_names.csv', index_col=0)\n",
    "gene_names.head()"
   ]
  },
  {
   "cell_type": "code",
   "execution_count": 13,
   "id": "4c2b0550-fb1d-40e5-bfa6-f3239883d7b2",
   "metadata": {},
   "outputs": [],
   "source": [
    "genes = gene_names['x'].tolist()"
   ]
  },
  {
   "cell_type": "markdown",
   "id": "a986f3ea-07e9-4793-b007-31d4e1b0408d",
   "metadata": {},
   "source": [
    "## Load t-SNE"
   ]
  },
  {
   "cell_type": "code",
   "execution_count": 14,
   "id": "63070a95-a2c5-4902-bce0-0c3f5b424fb3",
   "metadata": {},
   "outputs": [
    {
     "data": {
      "text/html": [
       "<div>\n",
       "<style scoped>\n",
       "    .dataframe tbody tr th:only-of-type {\n",
       "        vertical-align: middle;\n",
       "    }\n",
       "\n",
       "    .dataframe tbody tr th {\n",
       "        vertical-align: top;\n",
       "    }\n",
       "\n",
       "    .dataframe thead th {\n",
       "        text-align: right;\n",
       "    }\n",
       "</style>\n",
       "<table border=\"1\" class=\"dataframe\">\n",
       "  <thead>\n",
       "    <tr style=\"text-align: right;\">\n",
       "      <th></th>\n",
       "      <th>V1</th>\n",
       "      <th>V2</th>\n",
       "    </tr>\n",
       "  </thead>\n",
       "  <tbody>\n",
       "    <tr>\n",
       "      <th>1</th>\n",
       "      <td>-21.497219</td>\n",
       "      <td>18.638739</td>\n",
       "    </tr>\n",
       "    <tr>\n",
       "      <th>2</th>\n",
       "      <td>-27.864570</td>\n",
       "      <td>19.061500</td>\n",
       "    </tr>\n",
       "    <tr>\n",
       "      <th>3</th>\n",
       "      <td>-8.490450</td>\n",
       "      <td>27.334528</td>\n",
       "    </tr>\n",
       "    <tr>\n",
       "      <th>4</th>\n",
       "      <td>-30.854176</td>\n",
       "      <td>11.695693</td>\n",
       "    </tr>\n",
       "    <tr>\n",
       "      <th>5</th>\n",
       "      <td>-19.002418</td>\n",
       "      <td>26.384748</td>\n",
       "    </tr>\n",
       "  </tbody>\n",
       "</table>\n",
       "</div>"
      ],
      "text/plain": [
       "          V1         V2\n",
       "1 -21.497219  18.638739\n",
       "2 -27.864570  19.061500\n",
       "3  -8.490450  27.334528\n",
       "4 -30.854176  11.695693\n",
       "5 -19.002418  26.384748"
      ]
     },
     "execution_count": 14,
     "metadata": {},
     "output_type": "execute_result"
    }
   ],
   "source": [
    "tsne = pd.read_csv('data/tsne.csv', index_col=0)\n",
    "tsne.head()"
   ]
  },
  {
   "cell_type": "code",
   "execution_count": 15,
   "id": "a2ff7604-0885-4ee6-9fa1-03a571131a31",
   "metadata": {},
   "outputs": [],
   "source": [
    "tsne = tsne.to_numpy().T"
   ]
  },
  {
   "cell_type": "code",
   "execution_count": 16,
   "id": "df24ed25-2bd9-43e2-bc02-faceb36bcb19",
   "metadata": {},
   "outputs": [
    {
     "data": {
      "text/plain": [
       "(2, 3222)"
      ]
     },
     "execution_count": 16,
     "metadata": {},
     "output_type": "execute_result"
    }
   ],
   "source": [
    "tsne.shape"
   ]
  },
  {
   "cell_type": "markdown",
   "id": "53d43b69-b1fc-4f25-ae62-c6d18aca19e0",
   "metadata": {},
   "source": [
    "## Load true labels"
   ]
  },
  {
   "cell_type": "code",
   "execution_count": 17,
   "id": "5995a891-b4da-4775-b0fa-0d75cffc9d83",
   "metadata": {},
   "outputs": [
    {
     "data": {
      "text/html": [
       "<div>\n",
       "<style scoped>\n",
       "    .dataframe tbody tr th:only-of-type {\n",
       "        vertical-align: middle;\n",
       "    }\n",
       "\n",
       "    .dataframe tbody tr th {\n",
       "        vertical-align: top;\n",
       "    }\n",
       "\n",
       "    .dataframe thead th {\n",
       "        text-align: right;\n",
       "    }\n",
       "</style>\n",
       "<table border=\"1\" class=\"dataframe\">\n",
       "  <thead>\n",
       "    <tr style=\"text-align: right;\">\n",
       "      <th></th>\n",
       "      <th>NAME</th>\n",
       "      <th>CellType</th>\n",
       "    </tr>\n",
       "  </thead>\n",
       "  <tbody>\n",
       "    <tr>\n",
       "      <th>507</th>\n",
       "      <td>pbmc1_10x_v2_A_AAAGATGCAAAGTCAA</td>\n",
       "      <td>CD14+ monocyte</td>\n",
       "    </tr>\n",
       "    <tr>\n",
       "      <th>508</th>\n",
       "      <td>pbmc1_10x_v2_A_AAAGCAAGTAGGAGTC</td>\n",
       "      <td>CD14+ monocyte</td>\n",
       "    </tr>\n",
       "    <tr>\n",
       "      <th>509</th>\n",
       "      <td>pbmc1_10x_v2_A_AAAGCAATCGGTTCGG</td>\n",
       "      <td>CD14+ monocyte</td>\n",
       "    </tr>\n",
       "    <tr>\n",
       "      <th>510</th>\n",
       "      <td>pbmc1_10x_v2_A_AAAGTAGTCATTTGGG</td>\n",
       "      <td>CD14+ monocyte</td>\n",
       "    </tr>\n",
       "    <tr>\n",
       "      <th>511</th>\n",
       "      <td>pbmc1_10x_v2_A_AAAGTAGTCCGAGCCA</td>\n",
       "      <td>CD14+ monocyte</td>\n",
       "    </tr>\n",
       "  </tbody>\n",
       "</table>\n",
       "</div>"
      ],
      "text/plain": [
       "                                NAME        CellType\n",
       "507  pbmc1_10x_v2_A_AAAGATGCAAAGTCAA  CD14+ monocyte\n",
       "508  pbmc1_10x_v2_A_AAAGCAAGTAGGAGTC  CD14+ monocyte\n",
       "509  pbmc1_10x_v2_A_AAAGCAATCGGTTCGG  CD14+ monocyte\n",
       "510  pbmc1_10x_v2_A_AAAGTAGTCATTTGGG  CD14+ monocyte\n",
       "511  pbmc1_10x_v2_A_AAAGTAGTCCGAGCCA  CD14+ monocyte"
      ]
     },
     "execution_count": 17,
     "metadata": {},
     "output_type": "execute_result"
    }
   ],
   "source": [
    "true_labels = pd.read_csv('data/true_labels.csv', index_col=0)\n",
    "true_labels.head()"
   ]
  },
  {
   "cell_type": "code",
   "execution_count": 18,
   "id": "787b1ca0-4103-405b-a93d-4b2965733b74",
   "metadata": {},
   "outputs": [],
   "source": [
    "true_labels = true_labels[\"CellType\"].tolist()"
   ]
  },
  {
   "cell_type": "markdown",
   "id": "808d040a-45fe-43ee-a44b-fb045e64156a",
   "metadata": {},
   "source": [
    "# Get scores"
   ]
  },
  {
   "cell_type": "markdown",
   "id": "900035ff-3624-42f0-a2c8-2892ba3ff47f",
   "metadata": {},
   "source": [
    "## Ratio"
   ]
  },
  {
   "cell_type": "code",
   "execution_count": 19,
   "id": "07621c9b-597d-46e6-997f-9fb6b3340a9d",
   "metadata": {},
   "outputs": [],
   "source": [
    "ratio = metrics.calculate_ratios(genesets, gene_expressions, genes)"
   ]
  },
  {
   "cell_type": "code",
   "execution_count": 20,
   "id": "5a8e76d5-cdef-4472-9369-7b3486073c6d",
   "metadata": {},
   "outputs": [
    {
     "data": {
      "text/plain": [
       "(103, 3222)"
      ]
     },
     "execution_count": 20,
     "metadata": {},
     "output_type": "execute_result"
    }
   ],
   "source": [
    "ratio.shape"
   ]
  },
  {
   "cell_type": "code",
   "execution_count": 21,
   "id": "e9d51e22-e530-4b02-9338-748083d7a48a",
   "metadata": {},
   "outputs": [],
   "source": [
    "df_ratio = pd.DataFrame(data=ratio, index=list(genesets.keys()), columns=patients_names)\n",
    "df_ratio.to_csv(\"results/ratios.csv\")"
   ]
  },
  {
   "cell_type": "markdown",
   "id": "0518247d-362f-4898-ad9b-252d972fe828",
   "metadata": {},
   "source": [
    "## CERNO"
   ]
  },
  {
   "cell_type": "markdown",
   "id": "a6ae8275-948a-45ca-96dc-578e0795b12f",
   "metadata": {},
   "source": [
    "### Get ranks"
   ]
  },
  {
   "cell_type": "code",
   "execution_count": 22,
   "id": "f64a6754-31f6-4437-8171-d1d59e4eba3f",
   "metadata": {},
   "outputs": [],
   "source": [
    "ranks = metrics.rank_genes(gene_expressions)"
   ]
  },
  {
   "cell_type": "markdown",
   "id": "3d601d07-7e0b-4f07-8e01-42055dc03ac9",
   "metadata": {},
   "source": [
    "### Get CERNO"
   ]
  },
  {
   "cell_type": "code",
   "execution_count": 23,
   "id": "dd961ec7-6807-4807-97ba-4b889a06a7d7",
   "metadata": {},
   "outputs": [],
   "source": [
    "cerno, auc = metrics.CERNO(genesets, ranks, genes)"
   ]
  },
  {
   "cell_type": "code",
   "execution_count": 24,
   "id": "5e1e1269-67d1-4e59-9e90-676d8363d6a2",
   "metadata": {},
   "outputs": [],
   "source": [
    "df_cerno = pd.DataFrame(data=cerno, index=list(genesets.keys()), columns=patients_names)\n",
    "df_cerno.to_csv(\"results/cerno.csv\")\n",
    "\n",
    "df_auc = pd.DataFrame(data=auc, index=list(genesets.keys()), columns=patients_names)\n",
    "df_auc.to_csv(\"results/auc.csv\")"
   ]
  },
  {
   "cell_type": "markdown",
   "id": "96f73c3f-f847-46ed-955d-5cb3b862c22d",
   "metadata": {},
   "source": [
    "## SVD"
   ]
  },
  {
   "cell_type": "code",
   "execution_count": 25,
   "id": "7de300f1-e395-474c-bba3-86cf3c1cea7d",
   "metadata": {},
   "outputs": [],
   "source": [
    "svd = metrics.SVD(genesets, ranks, genes)"
   ]
  },
  {
   "cell_type": "code",
   "execution_count": 26,
   "id": "4a2b6659-fcf5-4acf-b70e-5f9530d71eb6",
   "metadata": {},
   "outputs": [],
   "source": [
    "df_svd = pd.DataFrame(data=svd, index=list(genesets.keys()), columns=patients_names)\n",
    "df_svd.to_csv(\"results/svd.csv\")"
   ]
  },
  {
   "cell_type": "markdown",
   "id": "c4923ed5-60ef-4fd9-8166-1a3bfc5f78f5",
   "metadata": {},
   "source": [
    "## AUC"
   ]
  },
  {
   "cell_type": "code",
   "execution_count": 27,
   "id": "eed2054f-3e84-489e-9eff-b41b07b4a245",
   "metadata": {},
   "outputs": [],
   "source": [
    "AUC = pd.read_csv('data/R/AUC.csv', index_col=0)\n",
    "thr = pd.read_csv('data/R/thr.csv', index_col=0)"
   ]
  },
  {
   "cell_type": "code",
   "execution_count": 28,
   "id": "76cb0653-0023-47c2-a2e0-2e9ca1b0b529",
   "metadata": {},
   "outputs": [
    {
     "data": {
      "text/html": [
       "<div>\n",
       "<style scoped>\n",
       "    .dataframe tbody tr th:only-of-type {\n",
       "        vertical-align: middle;\n",
       "    }\n",
       "\n",
       "    .dataframe tbody tr th {\n",
       "        vertical-align: top;\n",
       "    }\n",
       "\n",
       "    .dataframe thead th {\n",
       "        text-align: right;\n",
       "    }\n",
       "</style>\n",
       "<table border=\"1\" class=\"dataframe\">\n",
       "  <thead>\n",
       "    <tr style=\"text-align: right;\">\n",
       "      <th></th>\n",
       "      <th>x</th>\n",
       "    </tr>\n",
       "  </thead>\n",
       "  <tbody>\n",
       "    <tr>\n",
       "      <th>KEGG: Chemokine signaling pathway</th>\n",
       "      <td>0.098921</td>\n",
       "    </tr>\n",
       "    <tr>\n",
       "      <th>KEGG: Complement and coagulation cascades</th>\n",
       "      <td>0.049145</td>\n",
       "    </tr>\n",
       "    <tr>\n",
       "      <th>KEGG: Platelet activation</th>\n",
       "      <td>0.146114</td>\n",
       "    </tr>\n",
       "    <tr>\n",
       "      <th>KEGG: Antigen processing and presentation</th>\n",
       "      <td>0.327210</td>\n",
       "    </tr>\n",
       "    <tr>\n",
       "      <th>KEGG: Neutrophil extracellular trap formation</th>\n",
       "      <td>0.138411</td>\n",
       "    </tr>\n",
       "  </tbody>\n",
       "</table>\n",
       "</div>"
      ],
      "text/plain": [
       "                                                      x\n",
       "KEGG: Chemokine signaling pathway              0.098921\n",
       "KEGG: Complement and coagulation cascades      0.049145\n",
       "KEGG: Platelet activation                      0.146114\n",
       "KEGG: Antigen processing and presentation      0.327210\n",
       "KEGG: Neutrophil extracellular trap formation  0.138411"
      ]
     },
     "execution_count": 28,
     "metadata": {},
     "output_type": "execute_result"
    }
   ],
   "source": [
    "thr.head()"
   ]
  },
  {
   "cell_type": "code",
   "execution_count": 29,
   "id": "c91de6c7-49f9-487e-b9eb-f2f25c943565",
   "metadata": {},
   "outputs": [
    {
     "data": {
      "text/plain": [
       "['LI et al. TBA (source: memory B cells)',\n",
       " 'LI et al. TBA (source: B cells)',\n",
       " 'LI et al. TBA (source: naive B cells)']"
      ]
     },
     "execution_count": 29,
     "metadata": {},
     "output_type": "execute_result"
    }
   ],
   "source": [
    "list(set(gs_names)-set(AUC.index.tolist()))"
   ]
  },
  {
   "cell_type": "code",
   "execution_count": 30,
   "id": "ca7a5495-45cb-453f-8d6d-ffbee5d84ad7",
   "metadata": {},
   "outputs": [
    {
     "data": {
      "text/plain": [
       "False"
      ]
     },
     "execution_count": 30,
     "metadata": {},
     "output_type": "execute_result"
    }
   ],
   "source": [
    "'LI et al. TBA (source: B cells)' in AUC.index"
   ]
  },
  {
   "cell_type": "code",
   "execution_count": 31,
   "id": "fb3fa2be-77be-447d-9e9e-9ee119455c6a",
   "metadata": {},
   "outputs": [],
   "source": [
    "AUC = AUC.to_numpy()"
   ]
  },
  {
   "cell_type": "markdown",
   "id": "c0629d44-ae57-40a6-b0db-3a681a4a4fbf",
   "metadata": {},
   "source": [
    "# Plots"
   ]
  },
  {
   "cell_type": "code",
   "execution_count": 32,
   "id": "eb1c5485-047f-49f0-a4cc-557cf4dc8453",
   "metadata": {},
   "outputs": [],
   "source": [
    "def pipeline_for_score(gs_name, score1, score2, tsne, true_labels, threshold, binary_score2, name1, name2, save_dir):\n",
    "    model = m.choose_distribution(score1)\n",
    "    comp_group = m.cluster_gmms(model)\n",
    "    labels, binary_labels = m.get_predictions(model, comp_group, score1)\n",
    "    if threshold is not None:\n",
    "        dens.compare_with_categorical(score1, model, comp_group, name1, gs_name, score2, \n",
    "                                      threshold, name2, save_dir=save_dir);\n",
    "        sc.show_significance(binary_labels, binary_score2, tsne, gs_name, true_labels=true_labels,\n",
    "                             score_name1=name1, score_name2=name2, save_dir=save_dir);\n",
    "        sc.show_difference(binary_labels, binary_score2, tsne, gs_name, true_labels=true_labels, \n",
    "                           score_name1=name1, score_name2=name2, save_dir=save_dir);\n",
    "    else:\n",
    "        dens.plot_densities(score1, model, comp_group, name1, gs_name, save_dir=save_dir)\n",
    "    sc.plot_results(binary_labels, tsne, geneset_name=gs_name, predicted=labels, true_labels=true_labels, \n",
    "                    save_dir=save_dir);"
   ]
  },
  {
   "cell_type": "code",
   "execution_count": null,
   "id": "ae1fc37f-aaaa-4be8-8dd8-2ba4ff7bd837",
   "metadata": {},
   "outputs": [
    {
     "name": "stderr",
     "output_type": "stream",
     "text": [
      " 22%|██▏       | 23/103 [09:13<36:33, 27.41s/it]"
     ]
    }
   ],
   "source": [
    "for i, gs_name in tqdm(enumerate(gs_names), total=len(gs_names)):\n",
    "    score_svd = svd[i, :]\n",
    "    score_auc = auc[i, :]\n",
    "    score_cerno = cerno[i, :]\n",
    "    score_ratio = ratio[i, :]\n",
    "    if gs_name in thr.index:\n",
    "        AUC_index = thr.index.get_loc(gs_name)\n",
    "        score2 = AUC[AUC_index, :]\n",
    "        threshold = thr.loc[gs_name, \"x\"]\n",
    "        binary_score2 = score2 > threshold\n",
    "        \n",
    "    else:\n",
    "        score2 = None\n",
    "        threshold = None\n",
    "        print(gs_name)\n",
    "    pipeline_for_score(gs_name, score_svd, score2, tsne, true_labels, threshold, binary_score2,\n",
    "                       \"SVD\", \"AUCell\", \"plots/SVD/\")\n",
    "    pipeline_for_score(gs_name, score_auc, score2, tsne, true_labels, threshold, binary_score2,\n",
    "                       \"AUC\", \"AUCell\", \"plots/AUC/\")    \n",
    "    pipeline_for_score(gs_name, score_cerno, score2, tsne, true_labels, threshold, binary_score2,\n",
    "                       \"CERNO\", \"AUCell\", \"plots/CERNO/\")\n",
    "    pipeline_for_score(gs_name, score_ratio, score2, tsne, true_labels, threshold, binary_score2,\n",
    "                       \"Ratio\", \"AUCell\", \"plots/ratio/\")\n",
    "        "
   ]
  },
  {
   "cell_type": "code",
   "execution_count": null,
   "id": "ff0fe800-0d17-40fc-a9bc-9acf99c9d82d",
   "metadata": {},
   "outputs": [],
   "source": []
  }
 ],
 "metadata": {
  "kernelspec": {
   "display_name": "enrichment-auc",
   "language": "python",
   "name": "enrichment-auc"
  },
  "language_info": {
   "codemirror_mode": {
    "name": "ipython",
    "version": 3
   },
   "file_extension": ".py",
   "mimetype": "text/x-python",
   "name": "python",
   "nbconvert_exporter": "python",
   "pygments_lexer": "ipython3",
   "version": "3.8.12"
  }
 },
 "nbformat": 4,
 "nbformat_minor": 5
}
